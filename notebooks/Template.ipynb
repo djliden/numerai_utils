{
 "cells": [
  {
   "cell_type": "markdown",
   "id": "cf3d2aa9",
   "metadata": {
    "colab_type": "text",
    "id": "view-in-github"
   },
   "source": [
    "<a href=\"https://colab.research.google.com/github/djliden/numerai/blob/main/notebooks/Template.ipynb\" target=\"_parent\"><img src=\"https://colab.research.google.com/assets/colab-badge.svg\" alt=\"Open In Colab\"/></a>"
   ]
  },
  {
   "cell_type": "markdown",
   "id": "convenient-nudist",
   "metadata": {
    "id": "convenient-nudist"
   },
   "source": [
    "# Introduction\n",
    "\n",
    "Previous iterations of this project attempted to reduce everything to a single command-line script that could read a configuration file, run the corresponding model or models, out output the results.\n",
    "\n",
    "This notebook takes a different approach. It loads and uses some of the utiltiies for e.g. loading data, making submissions, computing metrics, and handling configurations, but the training loop should be defined fully in the notebook. This will allow for faster iteration and more transparent model comparison. Models to be consistently re-used can be repackaged to run from the command line if that would be beneficial.\n",
    "\n",
    "## Imports and Setup"
   ]
  },
  {
   "cell_type": "code",
   "execution_count": 1,
   "id": "Lghi6_Sskfex",
   "metadata": {
    "colab": {
     "base_uri": "https://localhost:8080/"
    },
    "id": "Lghi6_Sskfex",
    "outputId": "aebc39f2-42e7-43cd-a84b-7511e12c1c1c"
   },
   "outputs": [
    {
     "name": "stdout",
     "output_type": "stream",
     "text": [
      "Cloning into 'numerai'...\n",
      "remote: Enumerating objects: 509, done.\u001b[K\n",
      "remote: Counting objects: 100% (509/509), done.\u001b[K\n",
      "remote: Compressing objects: 100% (374/374), done.\u001b[K\n",
      "remote: Total 509 (delta 312), reused 274 (delta 123), pack-reused 0\u001b[K\n",
      "Receiving objects: 100% (509/509), 340.91 KiB | 2.89 MiB/s, done.\n",
      "Resolving deltas: 100% (312/312), done.\n",
      "Collecting python-dotenv\n",
      "  Downloading https://files.pythonhosted.org/packages/86/62/aacbd1489fc6026c9278e9fd5cfdd49c5b1b5375d3c97a624e8f8f999eb2/python_dotenv-0.17.0-py2.py3-none-any.whl\n",
      "Collecting numerapi\n",
      "  Downloading https://files.pythonhosted.org/packages/fd/96/ebdbaff5a2fef49b212e4f40634166f59e45462a768c0136d148f00255c5/numerapi-2.4.5-py3-none-any.whl\n",
      "Collecting dask\n",
      "\u001b[?25l  Downloading https://files.pythonhosted.org/packages/ef/34/a4f8808336840f7bc3880fef3a4562cb4bc89c9cc90026646fa3d51526cd/dask-2021.4.0-py3-none-any.whl (941kB)\n",
      "\u001b[K     |████████████████████████████████| 942kB 4.5MB/s \n",
      "\u001b[?25hRequirement already satisfied, skipping upgrade: click>=7.0 in /usr/local/lib/python3.7/dist-packages (from numerapi) (7.1.2)\n",
      "Requirement already satisfied, skipping upgrade: requests in /usr/local/lib/python3.7/dist-packages (from numerapi) (2.23.0)\n",
      "Requirement already satisfied, skipping upgrade: python-dateutil in /usr/local/lib/python3.7/dist-packages (from numerapi) (2.8.1)\n",
      "Requirement already satisfied, skipping upgrade: tqdm>=4.29.1 in /usr/local/lib/python3.7/dist-packages (from numerapi) (4.41.1)\n",
      "Requirement already satisfied, skipping upgrade: pytz in /usr/local/lib/python3.7/dist-packages (from numerapi) (2018.9)\n",
      "Requirement already satisfied, skipping upgrade: cloudpickle>=1.1.1 in /usr/local/lib/python3.7/dist-packages (from dask) (1.3.0)\n",
      "Requirement already satisfied, skipping upgrade: pyyaml in /usr/local/lib/python3.7/dist-packages (from dask) (3.13)\n",
      "Collecting partd>=0.3.10\n",
      "  Downloading https://files.pythonhosted.org/packages/41/94/360258a68b55f47859d72b2d0b2b3cfe0ca4fbbcb81b78812bd00ae86b7c/partd-1.2.0-py3-none-any.whl\n",
      "Requirement already satisfied, skipping upgrade: toolz>=0.8.2 in /usr/local/lib/python3.7/dist-packages (from dask) (0.11.1)\n",
      "Collecting fsspec>=0.6.0\n",
      "\u001b[?25l  Downloading https://files.pythonhosted.org/packages/62/11/f7689b996f85e45f718745c899f6747ee5edb4878cadac0a41ab146828fa/fsspec-0.9.0-py3-none-any.whl (107kB)\n",
      "\u001b[K     |████████████████████████████████| 112kB 27.3MB/s \n",
      "\u001b[?25hRequirement already satisfied, skipping upgrade: certifi>=2017.4.17 in /usr/local/lib/python3.7/dist-packages (from requests->numerapi) (2020.12.5)\n",
      "Requirement already satisfied, skipping upgrade: urllib3!=1.25.0,!=1.25.1,<1.26,>=1.21.1 in /usr/local/lib/python3.7/dist-packages (from requests->numerapi) (1.24.3)\n",
      "Requirement already satisfied, skipping upgrade: chardet<4,>=3.0.2 in /usr/local/lib/python3.7/dist-packages (from requests->numerapi) (3.0.4)\n",
      "Requirement already satisfied, skipping upgrade: idna<3,>=2.5 in /usr/local/lib/python3.7/dist-packages (from requests->numerapi) (2.10)\n",
      "Requirement already satisfied, skipping upgrade: six>=1.5 in /usr/local/lib/python3.7/dist-packages (from python-dateutil->numerapi) (1.15.0)\n",
      "Collecting locket\n",
      "  Downloading https://files.pythonhosted.org/packages/50/b8/e789e45b9b9c2db75e9d9e6ceb022c8d1d7e49b2c085ce8c05600f90a96b/locket-0.2.1-py2.py3-none-any.whl\n",
      "Requirement already satisfied, skipping upgrade: importlib-metadata; python_version < \"3.8\" in /usr/local/lib/python3.7/dist-packages (from fsspec>=0.6.0->dask) (3.8.1)\n",
      "Requirement already satisfied, skipping upgrade: zipp>=0.5 in /usr/local/lib/python3.7/dist-packages (from importlib-metadata; python_version < \"3.8\"->fsspec>=0.6.0->dask) (3.4.1)\n",
      "Requirement already satisfied, skipping upgrade: typing-extensions>=3.6.4; python_version < \"3.8\" in /usr/local/lib/python3.7/dist-packages (from importlib-metadata; python_version < \"3.8\"->fsspec>=0.6.0->dask) (3.7.4.3)\n",
      "Installing collected packages: python-dotenv, numerapi, locket, partd, fsspec, dask\n",
      "  Found existing installation: dask 2.12.0\n",
      "    Uninstalling dask-2.12.0:\n",
      "      Successfully uninstalled dask-2.12.0\n",
      "Successfully installed dask-2021.4.0 fsspec-0.9.0 locket-0.2.1 numerapi-2.4.5 partd-1.2.0 python-dotenv-0.17.0\n",
      "/content/numerai\n"
     ]
    }
   ],
   "source": [
    "!git clone https://github.com/djliden/numerai.git\n",
    "!pip install --upgrade python-dotenv numerapi dask\n",
    "%cd numerai"
   ]
  },
  {
   "cell_type": "code",
   "execution_count": 2,
   "id": "viral-amber",
   "metadata": {
    "colab": {
     "base_uri": "https://localhost:8080/"
    },
    "id": "viral-amber",
    "outputId": "f6c21847-b5a0-4580-c192-9035ad2e0549"
   },
   "outputs": [
    {
     "name": "stdout",
     "output_type": "stream",
     "text": [
      "Collecting git+https://github.com/djliden/config-nest.git\n",
      "  Cloning https://github.com/djliden/config-nest.git to /tmp/pip-req-build-mo881680\n",
      "  Running command git clone -q https://github.com/djliden/config-nest.git /tmp/pip-req-build-mo881680\n",
      "Collecting pyyaml\n",
      "\u001b[?25l  Downloading https://files.pythonhosted.org/packages/7a/a5/393c087efdc78091afa2af9f1378762f9821c9c1d7a22c5753fb5ac5f97a/PyYAML-5.4.1-cp37-cp37m-manylinux1_x86_64.whl (636kB)\n",
      "\u001b[K     |████████████████████████████████| 645kB 5.2MB/s \n",
      "\u001b[?25hBuilding wheels for collected packages: confignest\n",
      "  Building wheel for confignest (setup.py) ... \u001b[?25l\u001b[?25hdone\n",
      "  Created wheel for confignest: filename=confignest-0.0.1-cp37-none-any.whl size=4507 sha256=02a330f2bc3d309922ef513e14ff6311380c214e2374ec8aac3afdf81d808ac5\n",
      "  Stored in directory: /tmp/pip-ephem-wheel-cache-6p2y90fx/wheels/ed/fe/df/6fa309b808e0c5d4b33fea633815bd208a9e3bc87e28304f20\n",
      "Successfully built confignest\n",
      "Installing collected packages: pyyaml, confignest\n",
      "Successfully installed confignest-0.0.1 pyyaml-5.4.1\n"
     ]
    }
   ],
   "source": [
    "import copy\n",
    "import os\n",
    "from pathlib import Path\n",
    "if Path().resolve().name != 'numerai':\n",
    "    os.chdir(Path().resolve().parent)\n",
    "\n",
    "!pip install --upgrade -I git+https://github.com/djliden/config-nest.git\n",
    "\n",
    "import confignest.confignest\n",
    "from pathlib import Path\n",
    "import pandas as pd\n",
    "import numpy as np\n",
    "import time\n",
    "from importlib import import_module\n",
    "import time\n",
    "from tqdm import tqdm\n",
    "import yaml\n",
    "\n",
    "import src.utils.setup\n",
    "import src.utils.cross_val\n",
    "import src.utils.eval\n",
    "import src.utils.metrics\n",
    "import gc\n",
    "np.random.seed(623)    "
   ]
  },
  {
   "cell_type": "markdown",
   "id": "internal-pressing",
   "metadata": {
    "id": "internal-pressing"
   },
   "source": [
    "## NumerAPI setup and Data Download"
   ]
  },
  {
   "cell_type": "code",
   "execution_count": 3,
   "id": "alien-finding",
   "metadata": {
    "colab": {
     "base_uri": "https://localhost:8080/"
    },
    "id": "alien-finding",
    "outputId": "6cab8bad-f3fa-4035-e65d-823e2d53f0ef"
   },
   "outputs": [
    {
     "name": "stdout",
     "output_type": "stream",
     "text": [
      "Loaded Numerai Public Key into Global Environment!\n",
      "Loaded Numerai Secret Key into Global Environment!\n"
     ]
    },
    {
     "name": "stderr",
     "output_type": "stream",
     "text": [
      "input/numerai_dataset_258.zip: 100%|█████████▉| 398M/398M [00:24<00:00, 20.2MB/s]2021-04-08 22:24:28,736 INFO numerapi.base_api: unzipping file...\n",
      "input/numerai_dataset_258.zip: 398MB [00:39, 20.2MB/s]                           "
     ]
    },
    {
     "name": "stdout",
     "output_type": "stream",
     "text": [
      "Processing training data...\n",
      "\n",
      "Training Dataset Generated! Saving to file ...\n"
     ]
    }
   ],
   "source": [
    "src.utils.setup.credential()\n",
    "napi = src.utils.setup.init_numerapi()\n",
    "\n",
    "round = napi.get_current_round()\n",
    "train = Path(f\"./input/numerai_dataset_{round}/numerai_training_data.csv\")\n",
    "tourn = Path(f\"./input/numerai_dataset_{round}/numerai_tournament_data.csv\")\n",
    "processed = Path(f'./input/training_processed_{round}.csv')\n",
    "processed_pkl = Path(f'./input/training_processed_{round}.pkl')\n",
    "output = Path(\"./output/\")\n",
    "\n",
    "src.utils.setup.download_current(napi=napi)\n",
    "training_data, feature_cols, target_cols = src.utils.setup.process_current(processed,\n",
    "                                                           processed_pkl, train, tourn)"
   ]
  },
  {
   "cell_type": "markdown",
   "id": "cooperative-questionnaire",
   "metadata": {
    "id": "cooperative-questionnaire"
   },
   "source": [
    "## Initial Configuration Setup"
   ]
  },
  {
   "cell_type": "code",
   "execution_count": 4,
   "id": "finite-blowing",
   "metadata": {
    "colab": {
     "base_uri": "https://localhost:8080/"
    },
    "id": "finite-blowing",
    "outputId": "a4a407e9-40ba-4fac-8d27-9ebcc683fc9e"
   },
   "outputs": [
    {
     "data": {
      "text/plain": [
       "Config Object with Keys:\n",
       "CV:\n",
       "  GAP: 0\n",
       "  TRAIN_START: 0\n",
       "  TRAIN_STOP: null\n",
       "  VAL_END: 210\n",
       "  VAL_N_ERAS: 4\n",
       "  VAL_START: 206\n",
       "DATA:\n",
       "  REFRESH: false\n",
       "  SAVE_PROCESSED_TRAIN: true\n",
       "EVAL:\n",
       "  CHUNK_SIZE: 1000000\n",
       "  SAVE_PREDS: true\n",
       "  SUBMIT_PREDS: false\n",
       "SYSTEM:\n",
       "  DEBUG: false"
      ]
     },
     "execution_count": 4,
     "metadata": {
      "tags": []
     },
     "output_type": "execute_result"
    }
   ],
   "source": [
    "default_config = Path(\"./src/config/default_config.yaml\")\n",
    "cfg = confignest.confignest.Config(default_config)\n",
    "cfg"
   ]
  },
  {
   "cell_type": "markdown",
   "id": "enclosed-dayton",
   "metadata": {
    "id": "enclosed-dayton"
   },
   "source": [
    "# Model Definition\n",
    "This involves two components: the \"default\" model configuration and the definition of the model itself. In this case, we'll look at a Lasso model (to continue exploring the unreasonably good effectiveness of these models)."
   ]
  },
  {
   "cell_type": "code",
   "execution_count": 5,
   "id": "stable-intranet",
   "metadata": {
    "colab": {
     "base_uri": "https://localhost:8080/"
    },
    "id": "stable-intranet",
    "outputId": "ebe56db0-4e34-44fa-cab7-bd1bcd901713"
   },
   "outputs": [
    {
     "data": {
      "text/plain": [
       "Config Object with Keys:\n",
       "alpha: 0.0005\n",
       "mod: Lasso"
      ]
     },
     "execution_count": 5,
     "metadata": {
      "tags": []
     },
     "output_type": "execute_result"
    }
   ],
   "source": [
    "# Model Configuration\n",
    "mod_cfg = {'MODEL': {\n",
    "    'mod': 'Lasso',\n",
    "    'alpha': .0005\n",
    "}}\n",
    "cfg.update_config(mod_cfg)\n",
    "cfg.MODEL"
   ]
  },
  {
   "cell_type": "code",
   "execution_count": 6,
   "id": "congressional-audit",
   "metadata": {
    "id": "congressional-audit"
   },
   "outputs": [],
   "source": [
    "# Model Definition\n",
    "import sklearn.linear_model\n",
    "mod = getattr(sklearn.linear_model, cfg.MODEL.mod)(alpha=cfg.MODEL.alpha)"
   ]
  },
  {
   "cell_type": "markdown",
   "id": "limiting-subscription",
   "metadata": {
    "id": "limiting-subscription"
   },
   "source": [
    "# Training Loop\n",
    "Similarly, the training loop has (or can have) its own configuration. Though it might be more convenient to keep this outside the configuration. It depends."
   ]
  },
  {
   "cell_type": "code",
   "execution_count": 7,
   "id": "private-telescope",
   "metadata": {
    "colab": {
     "base_uri": "https://localhost:8080/"
    },
    "id": "private-telescope",
    "outputId": "c9ef1aa0-0e8d-48c7-f108-3ea8b47c484b"
   },
   "outputs": [
    {
     "data": {
      "text/plain": [
       "Config Object with Keys:\n",
       "GAP: 0\n",
       "TRAIN_START: 0\n",
       "TRAIN_STOP: 120\n",
       "VAL_END: 210\n",
       "VAL_N_ERAS: 4\n",
       "VAL_START: 209"
      ]
     },
     "execution_count": 7,
     "metadata": {
      "tags": []
     },
     "output_type": "execute_result"
    }
   ],
   "source": [
    "cv_config = {'CV': {\n",
    "    'TRAIN_STOP': 120,\n",
    "    'VAL_START': 209\n",
    "}}\n",
    "cfg.update_config(cv_config)\n",
    "cfg.CV"
   ]
  },
  {
   "cell_type": "code",
   "execution_count": 8,
   "id": "enormous-russell",
   "metadata": {
    "id": "enormous-russell"
   },
   "outputs": [],
   "source": [
    "# Sweep\n",
    "from sklearn.model_selection import ParameterGrid\n",
    "param_grid = {\n",
    "    'alpha': np.linspace(.0001, .001, 5),\n",
    "    'mod': ['Lasso'],\n",
    "    'train_stop': np.arange(25, 132)    \n",
    "}"
   ]
  },
  {
   "cell_type": "code",
   "execution_count": 9,
   "id": "municipal-garden",
   "metadata": {
    "colab": {
     "base_uri": "https://localhost:8080/"
    },
    "id": "municipal-garden",
    "outputId": "d6a2ace6-ad93-4780-caa4-73a8c539c214"
   },
   "outputs": [
    {
     "name": "stderr",
     "output_type": "stream",
     "text": [
      "\n",
      "  0%|          | 0/1 [00:00<?, ?it/s]\u001b[A\n",
      "100%|██████████| 1/1 [00:02<00:00,  2.27s/it]\n",
      "\n",
      "  0%|          | 0/1 [00:00<?, ?it/s]\u001b[A"
     ]
    },
    {
     "name": "stdout",
     "output_type": "stream",
     "text": [
      "\n",
      "model: Lasso\n",
      "alpha: 0.0001\n",
      "train stop: 25\n",
      "mean validation corr: 0.0008642455229190497\n",
      "mean validation sharpe: 0.02132967967098023\n"
     ]
    },
    {
     "name": "stderr",
     "output_type": "stream",
     "text": [
      "\n",
      "100%|██████████| 1/1 [00:02<00:00,  2.30s/it]\n",
      "\n",
      "  0%|          | 0/1 [00:00<?, ?it/s]\u001b[A"
     ]
    },
    {
     "name": "stdout",
     "output_type": "stream",
     "text": [
      "\n",
      "model: Lasso\n",
      "alpha: 0.0001\n",
      "train stop: 26\n",
      "mean validation corr: 0.0021485006793837847\n",
      "mean validation sharpe: 0.05354602460769885\n"
     ]
    },
    {
     "name": "stderr",
     "output_type": "stream",
     "text": [
      "\n",
      "100%|██████████| 1/1 [00:02<00:00,  2.37s/it]\n",
      "\n",
      "  0%|          | 0/1 [00:00<?, ?it/s]\u001b[A"
     ]
    },
    {
     "name": "stdout",
     "output_type": "stream",
     "text": [
      "\n",
      "model: Lasso\n",
      "alpha: 0.0001\n",
      "train stop: 27\n",
      "mean validation corr: 0.0003556931830714441\n",
      "mean validation sharpe: 0.00919042893814813\n"
     ]
    },
    {
     "name": "stderr",
     "output_type": "stream",
     "text": [
      "\n",
      "100%|██████████| 1/1 [00:02<00:00,  2.59s/it]\n",
      "\n",
      "  0%|          | 0/1 [00:00<?, ?it/s]\u001b[A"
     ]
    },
    {
     "name": "stdout",
     "output_type": "stream",
     "text": [
      "\n",
      "model: Lasso\n",
      "alpha: 0.0001\n",
      "train stop: 28\n",
      "mean validation corr: 0.0012663277440892982\n",
      "mean validation sharpe: 0.03291229272942421\n"
     ]
    },
    {
     "name": "stderr",
     "output_type": "stream",
     "text": [
      "\n",
      "100%|██████████| 1/1 [00:02<00:00,  2.70s/it]\n",
      "\n",
      "  0%|          | 0/1 [00:00<?, ?it/s]\u001b[A"
     ]
    },
    {
     "name": "stdout",
     "output_type": "stream",
     "text": [
      "\n",
      "model: Lasso\n",
      "alpha: 0.0001\n",
      "train stop: 29\n",
      "mean validation corr: 0.0005675890839057507\n",
      "mean validation sharpe: 0.015160143373518955\n"
     ]
    },
    {
     "name": "stderr",
     "output_type": "stream",
     "text": [
      "\n",
      "100%|██████████| 1/1 [00:02<00:00,  2.49s/it]\n",
      "\n",
      "  0%|          | 0/1 [00:00<?, ?it/s]\u001b[A"
     ]
    },
    {
     "name": "stdout",
     "output_type": "stream",
     "text": [
      "\n",
      "model: Lasso\n",
      "alpha: 0.0001\n",
      "train stop: 30\n",
      "mean validation corr: 0.002426275310608234\n",
      "mean validation sharpe: 0.05951983264223677\n"
     ]
    },
    {
     "name": "stderr",
     "output_type": "stream",
     "text": [
      "\n",
      "100%|██████████| 1/1 [00:02<00:00,  2.85s/it]\n",
      "\n",
      "  0%|          | 0/1 [00:00<?, ?it/s]\u001b[A"
     ]
    },
    {
     "name": "stdout",
     "output_type": "stream",
     "text": [
      "\n",
      "model: Lasso\n",
      "alpha: 0.0001\n",
      "train stop: 31\n",
      "mean validation corr: 0.0007765774670524285\n",
      "mean validation sharpe: 0.018899917648136987\n"
     ]
    },
    {
     "name": "stderr",
     "output_type": "stream",
     "text": [
      "\n",
      "100%|██████████| 1/1 [00:02<00:00,  2.83s/it]\n",
      "\n",
      "  0%|          | 0/1 [00:00<?, ?it/s]\u001b[A"
     ]
    },
    {
     "name": "stdout",
     "output_type": "stream",
     "text": [
      "\n",
      "model: Lasso\n",
      "alpha: 0.0001\n",
      "train stop: 32\n",
      "mean validation corr: 0.0013817583749474362\n",
      "mean validation sharpe: 0.03253933643156772\n"
     ]
    },
    {
     "name": "stderr",
     "output_type": "stream",
     "text": [
      "\n",
      "100%|██████████| 1/1 [00:02<00:00,  2.90s/it]\n",
      "\n",
      "  0%|          | 0/1 [00:00<?, ?it/s]\u001b[A"
     ]
    },
    {
     "name": "stdout",
     "output_type": "stream",
     "text": [
      "\n",
      "model: Lasso\n",
      "alpha: 0.0001\n",
      "train stop: 33\n",
      "mean validation corr: 0.0023567132836472826\n",
      "mean validation sharpe: 0.05498533597032796\n"
     ]
    },
    {
     "name": "stderr",
     "output_type": "stream",
     "text": [
      "\n",
      "100%|██████████| 1/1 [00:03<00:00,  3.04s/it]\n",
      "\n",
      "  0%|          | 0/1 [00:00<?, ?it/s]\u001b[A"
     ]
    },
    {
     "name": "stdout",
     "output_type": "stream",
     "text": [
      "\n",
      "model: Lasso\n",
      "alpha: 0.0001\n",
      "train stop: 34\n",
      "mean validation corr: 0.0029103160404439447\n",
      "mean validation sharpe: 0.07280837304510804\n"
     ]
    },
    {
     "name": "stderr",
     "output_type": "stream",
     "text": [
      "\n",
      "100%|██████████| 1/1 [00:03<00:00,  3.18s/it]\n",
      "\n",
      "  0%|          | 0/1 [00:00<?, ?it/s]\u001b[A"
     ]
    },
    {
     "name": "stdout",
     "output_type": "stream",
     "text": [
      "\n",
      "model: Lasso\n",
      "alpha: 0.0001\n",
      "train stop: 35\n",
      "mean validation corr: 0.002484105775501507\n",
      "mean validation sharpe: 0.06517909980723498\n"
     ]
    },
    {
     "name": "stderr",
     "output_type": "stream",
     "text": [
      "\n",
      "100%|██████████| 1/1 [00:03<00:00,  3.08s/it]\n",
      "\n",
      "  0%|          | 0/1 [00:00<?, ?it/s]\u001b[A"
     ]
    },
    {
     "name": "stdout",
     "output_type": "stream",
     "text": [
      "\n",
      "model: Lasso\n",
      "alpha: 0.0001\n",
      "train stop: 36\n",
      "mean validation corr: 0.0034659905613519375\n",
      "mean validation sharpe: 0.08903435171537188\n"
     ]
    },
    {
     "name": "stderr",
     "output_type": "stream",
     "text": [
      "\n",
      "100%|██████████| 1/1 [00:02<00:00,  2.66s/it]\n",
      "\n",
      "  0%|          | 0/1 [00:00<?, ?it/s]\u001b[A"
     ]
    },
    {
     "name": "stdout",
     "output_type": "stream",
     "text": [
      "\n",
      "model: Lasso\n",
      "alpha: 0.0001\n",
      "train stop: 37\n",
      "mean validation corr: 0.0035437315642392817\n",
      "mean validation sharpe: 0.08229070837775151\n"
     ]
    },
    {
     "name": "stderr",
     "output_type": "stream",
     "text": [
      "\n",
      "100%|██████████| 1/1 [00:03<00:00,  3.51s/it]\n",
      "\n",
      "  0%|          | 0/1 [00:00<?, ?it/s]\u001b[A"
     ]
    },
    {
     "name": "stdout",
     "output_type": "stream",
     "text": [
      "\n",
      "model: Lasso\n",
      "alpha: 0.0001\n",
      "train stop: 38\n",
      "mean validation corr: 0.0026653697836884083\n",
      "mean validation sharpe: 0.0641684649732623\n"
     ]
    },
    {
     "name": "stderr",
     "output_type": "stream",
     "text": [
      "\n",
      "100%|██████████| 1/1 [00:03<00:00,  3.83s/it]\n",
      "\n",
      "  0%|          | 0/1 [00:00<?, ?it/s]\u001b[A"
     ]
    },
    {
     "name": "stdout",
     "output_type": "stream",
     "text": [
      "\n",
      "model: Lasso\n",
      "alpha: 0.0001\n",
      "train stop: 39\n",
      "mean validation corr: 0.003608655470907827\n",
      "mean validation sharpe: 0.0867082277430618\n"
     ]
    },
    {
     "name": "stderr",
     "output_type": "stream",
     "text": [
      "\n",
      "100%|██████████| 1/1 [00:03<00:00,  3.85s/it]\n",
      "\n",
      "  0%|          | 0/1 [00:00<?, ?it/s]\u001b[A"
     ]
    },
    {
     "name": "stdout",
     "output_type": "stream",
     "text": [
      "\n",
      "model: Lasso\n",
      "alpha: 0.0001\n",
      "train stop: 40\n",
      "mean validation corr: 0.0022916021974798088\n",
      "mean validation sharpe: 0.05779048104210449\n"
     ]
    },
    {
     "name": "stderr",
     "output_type": "stream",
     "text": [
      "\n",
      "100%|██████████| 1/1 [00:04<00:00,  4.21s/it]\n",
      "\n",
      "  0%|          | 0/1 [00:00<?, ?it/s]\u001b[A"
     ]
    },
    {
     "name": "stdout",
     "output_type": "stream",
     "text": [
      "\n",
      "model: Lasso\n",
      "alpha: 0.0001\n",
      "train stop: 41\n",
      "mean validation corr: 0.0014595812179043662\n",
      "mean validation sharpe: 0.03894571343260078\n"
     ]
    },
    {
     "name": "stderr",
     "output_type": "stream",
     "text": [
      "\n",
      "100%|██████████| 1/1 [00:04<00:00,  4.10s/it]\n",
      "\n",
      "  0%|          | 0/1 [00:00<?, ?it/s]\u001b[A"
     ]
    },
    {
     "name": "stdout",
     "output_type": "stream",
     "text": [
      "\n",
      "model: Lasso\n",
      "alpha: 0.0001\n",
      "train stop: 42\n",
      "mean validation corr: 0.0017284712299475286\n",
      "mean validation sharpe: 0.047968020501432354\n"
     ]
    },
    {
     "name": "stderr",
     "output_type": "stream",
     "text": [
      "\n",
      "100%|██████████| 1/1 [00:03<00:00,  3.95s/it]\n",
      "\n",
      "  0%|          | 0/1 [00:00<?, ?it/s]\u001b[A"
     ]
    },
    {
     "name": "stdout",
     "output_type": "stream",
     "text": [
      "\n",
      "model: Lasso\n",
      "alpha: 0.0001\n",
      "train stop: 43\n",
      "mean validation corr: 0.0008439358112685529\n",
      "mean validation sharpe: 0.02224634317223394\n"
     ]
    },
    {
     "name": "stderr",
     "output_type": "stream",
     "text": [
      "\n",
      "100%|██████████| 1/1 [00:04<00:00,  4.48s/it]\n",
      "\n",
      "  0%|          | 0/1 [00:00<?, ?it/s]\u001b[A"
     ]
    },
    {
     "name": "stdout",
     "output_type": "stream",
     "text": [
      "\n",
      "model: Lasso\n",
      "alpha: 0.0001\n",
      "train stop: 44\n",
      "mean validation corr: 0.0016998557498441695\n",
      "mean validation sharpe: 0.04390509878621877\n"
     ]
    },
    {
     "name": "stderr",
     "output_type": "stream",
     "text": [
      "\n",
      "100%|██████████| 1/1 [00:04<00:00,  4.67s/it]\n",
      "\n",
      "  0%|          | 0/1 [00:00<?, ?it/s]\u001b[A"
     ]
    },
    {
     "name": "stdout",
     "output_type": "stream",
     "text": [
      "\n",
      "model: Lasso\n",
      "alpha: 0.0001\n",
      "train stop: 45\n",
      "mean validation corr: 0.0022945966574472645\n",
      "mean validation sharpe: 0.05654796938010011\n"
     ]
    },
    {
     "name": "stderr",
     "output_type": "stream",
     "text": [
      "\n",
      "100%|██████████| 1/1 [00:04<00:00,  4.51s/it]\n",
      "\n",
      "  0%|          | 0/1 [00:00<?, ?it/s]\u001b[A"
     ]
    },
    {
     "name": "stdout",
     "output_type": "stream",
     "text": [
      "\n",
      "model: Lasso\n",
      "alpha: 0.0001\n",
      "train stop: 46\n",
      "mean validation corr: 0.0012982119984624833\n",
      "mean validation sharpe: 0.033972940833696445\n"
     ]
    },
    {
     "name": "stderr",
     "output_type": "stream",
     "text": [
      "\n",
      "100%|██████████| 1/1 [00:05<00:00,  5.01s/it]\n",
      "\n",
      "  0%|          | 0/1 [00:00<?, ?it/s]\u001b[A"
     ]
    },
    {
     "name": "stdout",
     "output_type": "stream",
     "text": [
      "\n",
      "model: Lasso\n",
      "alpha: 0.0001\n",
      "train stop: 47\n",
      "mean validation corr: 0.0020454985999369575\n",
      "mean validation sharpe: 0.05395795749446915\n"
     ]
    },
    {
     "name": "stderr",
     "output_type": "stream",
     "text": [
      "\n",
      "100%|██████████| 1/1 [00:06<00:00,  6.72s/it]\n",
      "\n",
      "  0%|          | 0/1 [00:00<?, ?it/s]\u001b[A"
     ]
    },
    {
     "name": "stdout",
     "output_type": "stream",
     "text": [
      "\n",
      "model: Lasso\n",
      "alpha: 0.0001\n",
      "train stop: 48\n",
      "mean validation corr: 0.004238125269086566\n",
      "mean validation sharpe: 0.11395964437872405\n"
     ]
    },
    {
     "name": "stderr",
     "output_type": "stream",
     "text": [
      "\n",
      "100%|██████████| 1/1 [00:05<00:00,  5.57s/it]\n",
      "\n",
      "  0%|          | 0/1 [00:00<?, ?it/s]\u001b[A"
     ]
    },
    {
     "name": "stdout",
     "output_type": "stream",
     "text": [
      "\n",
      "model: Lasso\n",
      "alpha: 0.0001\n",
      "train stop: 49\n",
      "mean validation corr: 0.005424658043742795\n",
      "mean validation sharpe: 0.14316754398109777\n"
     ]
    },
    {
     "name": "stderr",
     "output_type": "stream",
     "text": [
      "\n",
      "100%|██████████| 1/1 [00:05<00:00,  5.67s/it]\n",
      "\n",
      "  0%|          | 0/1 [00:00<?, ?it/s]\u001b[A"
     ]
    },
    {
     "name": "stdout",
     "output_type": "stream",
     "text": [
      "\n",
      "model: Lasso\n",
      "alpha: 0.0001\n",
      "train stop: 50\n",
      "mean validation corr: 0.006222233946375574\n",
      "mean validation sharpe: 0.1527333919600322\n"
     ]
    },
    {
     "name": "stderr",
     "output_type": "stream",
     "text": [
      "\n",
      "100%|██████████| 1/1 [00:05<00:00,  5.82s/it]\n",
      "\n",
      "  0%|          | 0/1 [00:00<?, ?it/s]\u001b[A"
     ]
    },
    {
     "name": "stdout",
     "output_type": "stream",
     "text": [
      "\n",
      "model: Lasso\n",
      "alpha: 0.0001\n",
      "train stop: 51\n",
      "mean validation corr: 0.006417801304448764\n",
      "mean validation sharpe: 0.14955572962078267\n"
     ]
    },
    {
     "name": "stderr",
     "output_type": "stream",
     "text": [
      "\n",
      "100%|██████████| 1/1 [00:05<00:00,  5.39s/it]\n",
      "\n",
      "  0%|          | 0/1 [00:00<?, ?it/s]\u001b[A"
     ]
    },
    {
     "name": "stdout",
     "output_type": "stream",
     "text": [
      "\n",
      "model: Lasso\n",
      "alpha: 0.0001\n",
      "train stop: 52\n",
      "mean validation corr: 0.006990357704402497\n",
      "mean validation sharpe: 0.16898539740902482\n"
     ]
    },
    {
     "name": "stderr",
     "output_type": "stream",
     "text": [
      "\n",
      "100%|██████████| 1/1 [00:05<00:00,  5.43s/it]\n",
      "\n",
      "  0%|          | 0/1 [00:00<?, ?it/s]\u001b[A"
     ]
    },
    {
     "name": "stdout",
     "output_type": "stream",
     "text": [
      "\n",
      "model: Lasso\n",
      "alpha: 0.0001\n",
      "train stop: 53\n",
      "mean validation corr: 0.006987881714181609\n",
      "mean validation sharpe: 0.16484442710193978\n"
     ]
    },
    {
     "name": "stderr",
     "output_type": "stream",
     "text": [
      "\n",
      "100%|██████████| 1/1 [00:05<00:00,  5.57s/it]\n",
      "\n",
      "  0%|          | 0/1 [00:00<?, ?it/s]\u001b[A"
     ]
    },
    {
     "name": "stdout",
     "output_type": "stream",
     "text": [
      "\n",
      "model: Lasso\n",
      "alpha: 0.0001\n",
      "train stop: 54\n",
      "mean validation corr: 0.006720806009109605\n",
      "mean validation sharpe: 0.14630770464407747\n"
     ]
    },
    {
     "name": "stderr",
     "output_type": "stream",
     "text": [
      "\n",
      "100%|██████████| 1/1 [00:05<00:00,  5.58s/it]\n",
      "\n",
      "  0%|          | 0/1 [00:00<?, ?it/s]\u001b[A"
     ]
    },
    {
     "name": "stdout",
     "output_type": "stream",
     "text": [
      "\n",
      "model: Lasso\n",
      "alpha: 0.0001\n",
      "train stop: 55\n",
      "mean validation corr: 0.005497978986243258\n",
      "mean validation sharpe: 0.1191354763233436\n"
     ]
    },
    {
     "name": "stderr",
     "output_type": "stream",
     "text": [
      "\n",
      "100%|██████████| 1/1 [00:05<00:00,  5.55s/it]\n",
      "\n",
      "  0%|          | 0/1 [00:00<?, ?it/s]\u001b[A"
     ]
    },
    {
     "name": "stdout",
     "output_type": "stream",
     "text": [
      "\n",
      "model: Lasso\n",
      "alpha: 0.0001\n",
      "train stop: 56\n",
      "mean validation corr: 0.004609242763983546\n",
      "mean validation sharpe: 0.09752610284199328\n"
     ]
    },
    {
     "name": "stderr",
     "output_type": "stream",
     "text": [
      "\n",
      "100%|██████████| 1/1 [00:05<00:00,  5.68s/it]\n",
      "\n",
      "  0%|          | 0/1 [00:00<?, ?it/s]\u001b[A"
     ]
    },
    {
     "name": "stdout",
     "output_type": "stream",
     "text": [
      "\n",
      "model: Lasso\n",
      "alpha: 0.0001\n",
      "train stop: 57\n",
      "mean validation corr: 0.0048046014232852995\n",
      "mean validation sharpe: 0.10154017851314974\n"
     ]
    },
    {
     "name": "stderr",
     "output_type": "stream",
     "text": [
      "\n",
      "100%|██████████| 1/1 [00:05<00:00,  5.67s/it]\n",
      "\n",
      "  0%|          | 0/1 [00:00<?, ?it/s]\u001b[A"
     ]
    },
    {
     "name": "stdout",
     "output_type": "stream",
     "text": [
      "\n",
      "model: Lasso\n",
      "alpha: 0.0001\n",
      "train stop: 58\n",
      "mean validation corr: 0.003767937955538562\n",
      "mean validation sharpe: 0.08156784526645254\n"
     ]
    },
    {
     "name": "stderr",
     "output_type": "stream",
     "text": [
      "\n",
      "100%|██████████| 1/1 [00:05<00:00,  5.47s/it]\n",
      "\n",
      "  0%|          | 0/1 [00:00<?, ?it/s]\u001b[A"
     ]
    },
    {
     "name": "stdout",
     "output_type": "stream",
     "text": [
      "\n",
      "model: Lasso\n",
      "alpha: 0.0001\n",
      "train stop: 59\n",
      "mean validation corr: 0.00430239845444875\n",
      "mean validation sharpe: 0.09441182187951588\n"
     ]
    },
    {
     "name": "stderr",
     "output_type": "stream",
     "text": [
      "\n",
      "100%|██████████| 1/1 [00:05<00:00,  5.91s/it]\n",
      "\n",
      "  0%|          | 0/1 [00:00<?, ?it/s]\u001b[A"
     ]
    },
    {
     "name": "stdout",
     "output_type": "stream",
     "text": [
      "\n",
      "model: Lasso\n",
      "alpha: 0.0001\n",
      "train stop: 60\n",
      "mean validation corr: 0.004279841781371575\n",
      "mean validation sharpe: 0.09936301035066468\n"
     ]
    },
    {
     "name": "stderr",
     "output_type": "stream",
     "text": [
      "\n",
      "100%|██████████| 1/1 [00:07<00:00,  7.26s/it]\n",
      "\n",
      "  0%|          | 0/1 [00:00<?, ?it/s]\u001b[A"
     ]
    },
    {
     "name": "stdout",
     "output_type": "stream",
     "text": [
      "\n",
      "model: Lasso\n",
      "alpha: 0.0001\n",
      "train stop: 61\n",
      "mean validation corr: 0.004183343949336166\n",
      "mean validation sharpe: 0.09824660096732252\n"
     ]
    },
    {
     "name": "stderr",
     "output_type": "stream",
     "text": [
      "\n",
      "100%|██████████| 1/1 [00:07<00:00,  7.89s/it]\n",
      "\n",
      "  0%|          | 0/1 [00:00<?, ?it/s]\u001b[A"
     ]
    },
    {
     "name": "stdout",
     "output_type": "stream",
     "text": [
      "\n",
      "model: Lasso\n",
      "alpha: 0.0001\n",
      "train stop: 62\n",
      "mean validation corr: 0.002112575351473321\n",
      "mean validation sharpe: 0.05047203226768501\n"
     ]
    },
    {
     "name": "stderr",
     "output_type": "stream",
     "text": [
      "\n",
      "100%|██████████| 1/1 [00:07<00:00,  7.41s/it]\n",
      "\n",
      "  0%|          | 0/1 [00:00<?, ?it/s]\u001b[A"
     ]
    },
    {
     "name": "stdout",
     "output_type": "stream",
     "text": [
      "\n",
      "model: Lasso\n",
      "alpha: 0.0001\n",
      "train stop: 63\n",
      "mean validation corr: 0.0027611338741211928\n",
      "mean validation sharpe: 0.06272604976222967\n"
     ]
    },
    {
     "name": "stderr",
     "output_type": "stream",
     "text": [
      "\n",
      "100%|██████████| 1/1 [00:08<00:00,  8.53s/it]\n",
      "\n",
      "  0%|          | 0/1 [00:00<?, ?it/s]\u001b[A"
     ]
    },
    {
     "name": "stdout",
     "output_type": "stream",
     "text": [
      "\n",
      "model: Lasso\n",
      "alpha: 0.0001\n",
      "train stop: 64\n",
      "mean validation corr: 0.0034150778504428974\n",
      "mean validation sharpe: 0.07503363548970761\n"
     ]
    },
    {
     "name": "stderr",
     "output_type": "stream",
     "text": [
      "\n",
      "100%|██████████| 1/1 [00:07<00:00,  7.32s/it]\n",
      "\n",
      "  0%|          | 0/1 [00:00<?, ?it/s]\u001b[A"
     ]
    },
    {
     "name": "stdout",
     "output_type": "stream",
     "text": [
      "\n",
      "model: Lasso\n",
      "alpha: 0.0001\n",
      "train stop: 65\n",
      "mean validation corr: 0.002629693505672062\n",
      "mean validation sharpe: 0.055617003899135264\n"
     ]
    },
    {
     "name": "stderr",
     "output_type": "stream",
     "text": [
      "\n",
      "100%|██████████| 1/1 [00:07<00:00,  7.27s/it]\n",
      "\n",
      "  0%|          | 0/1 [00:00<?, ?it/s]\u001b[A"
     ]
    },
    {
     "name": "stdout",
     "output_type": "stream",
     "text": [
      "\n",
      "model: Lasso\n",
      "alpha: 0.0001\n",
      "train stop: 66\n",
      "mean validation corr: 0.0015762442252181784\n",
      "mean validation sharpe: 0.032418130634978184\n"
     ]
    },
    {
     "name": "stderr",
     "output_type": "stream",
     "text": [
      "\n",
      "100%|██████████| 1/1 [00:07<00:00,  7.90s/it]\n",
      "\n",
      "  0%|          | 0/1 [00:00<?, ?it/s]\u001b[A"
     ]
    },
    {
     "name": "stdout",
     "output_type": "stream",
     "text": [
      "\n",
      "model: Lasso\n",
      "alpha: 0.0001\n",
      "train stop: 67\n",
      "mean validation corr: 0.0028732807233188065\n",
      "mean validation sharpe: 0.05838086299099014\n"
     ]
    },
    {
     "name": "stderr",
     "output_type": "stream",
     "text": [
      "\n",
      "100%|██████████| 1/1 [00:07<00:00,  7.50s/it]\n",
      "\n",
      "  0%|          | 0/1 [00:00<?, ?it/s]\u001b[A"
     ]
    },
    {
     "name": "stdout",
     "output_type": "stream",
     "text": [
      "\n",
      "model: Lasso\n",
      "alpha: 0.0001\n",
      "train stop: 68\n",
      "mean validation corr: 0.00133966811313109\n",
      "mean validation sharpe: 0.02777987285717661\n"
     ]
    },
    {
     "name": "stderr",
     "output_type": "stream",
     "text": [
      "\n",
      "100%|██████████| 1/1 [00:07<00:00,  7.53s/it]\n",
      "\n",
      "  0%|          | 0/1 [00:00<?, ?it/s]\u001b[A"
     ]
    },
    {
     "name": "stdout",
     "output_type": "stream",
     "text": [
      "\n",
      "model: Lasso\n",
      "alpha: 0.0001\n",
      "train stop: 69\n",
      "mean validation corr: -0.0024200461556761373\n",
      "mean validation sharpe: -0.04894803685378866\n"
     ]
    },
    {
     "name": "stderr",
     "output_type": "stream",
     "text": [
      "\n",
      "100%|██████████| 1/1 [00:07<00:00,  7.29s/it]\n",
      "\n",
      "  0%|          | 0/1 [00:00<?, ?it/s]\u001b[A"
     ]
    },
    {
     "name": "stdout",
     "output_type": "stream",
     "text": [
      "\n",
      "model: Lasso\n",
      "alpha: 0.0001\n",
      "train stop: 70\n",
      "mean validation corr: -0.003492464136524388\n",
      "mean validation sharpe: -0.07038494286242929\n"
     ]
    },
    {
     "name": "stderr",
     "output_type": "stream",
     "text": [
      "\n",
      "100%|██████████| 1/1 [00:06<00:00,  6.80s/it]\n",
      "\n",
      "  0%|          | 0/1 [00:00<?, ?it/s]\u001b[A"
     ]
    },
    {
     "name": "stdout",
     "output_type": "stream",
     "text": [
      "\n",
      "model: Lasso\n",
      "alpha: 0.0001\n",
      "train stop: 71\n",
      "mean validation corr: -0.0027046387766018337\n",
      "mean validation sharpe: -0.05456614575223572\n"
     ]
    },
    {
     "name": "stderr",
     "output_type": "stream",
     "text": [
      "\n",
      "100%|██████████| 1/1 [00:06<00:00,  6.66s/it]\n",
      "\n",
      "  0%|          | 0/1 [00:00<?, ?it/s]\u001b[A"
     ]
    },
    {
     "name": "stdout",
     "output_type": "stream",
     "text": [
      "\n",
      "model: Lasso\n",
      "alpha: 0.0001\n",
      "train stop: 72\n",
      "mean validation corr: -0.0010429466570727325\n",
      "mean validation sharpe: -0.021375084174667734\n"
     ]
    },
    {
     "name": "stderr",
     "output_type": "stream",
     "text": [
      "\n",
      "100%|██████████| 1/1 [00:06<00:00,  6.66s/it]\n",
      "\n",
      "  0%|          | 0/1 [00:00<?, ?it/s]\u001b[A"
     ]
    },
    {
     "name": "stdout",
     "output_type": "stream",
     "text": [
      "\n",
      "model: Lasso\n",
      "alpha: 0.0001\n",
      "train stop: 73\n",
      "mean validation corr: -0.0022367986901154994\n",
      "mean validation sharpe: -0.04762900041519315\n"
     ]
    },
    {
     "name": "stderr",
     "output_type": "stream",
     "text": [
      "\n",
      "100%|██████████| 1/1 [00:06<00:00,  6.33s/it]\n",
      "\n",
      "  0%|          | 0/1 [00:00<?, ?it/s]\u001b[A"
     ]
    },
    {
     "name": "stdout",
     "output_type": "stream",
     "text": [
      "\n",
      "model: Lasso\n",
      "alpha: 0.0001\n",
      "train stop: 74\n",
      "mean validation corr: -0.000124344357833402\n",
      "mean validation sharpe: -0.002815618320250231\n"
     ]
    },
    {
     "name": "stderr",
     "output_type": "stream",
     "text": [
      "\n",
      "100%|██████████| 1/1 [00:06<00:00,  6.69s/it]\n",
      "\n",
      "  0%|          | 0/1 [00:00<?, ?it/s]\u001b[A"
     ]
    },
    {
     "name": "stdout",
     "output_type": "stream",
     "text": [
      "\n",
      "model: Lasso\n",
      "alpha: 0.0001\n",
      "train stop: 75\n",
      "mean validation corr: 0.0017571966196181649\n",
      "mean validation sharpe: 0.04044227477313546\n"
     ]
    },
    {
     "name": "stderr",
     "output_type": "stream",
     "text": [
      "\n",
      "100%|██████████| 1/1 [00:07<00:00,  7.96s/it]\n",
      "\n",
      "  0%|          | 0/1 [00:00<?, ?it/s]\u001b[A"
     ]
    },
    {
     "name": "stdout",
     "output_type": "stream",
     "text": [
      "\n",
      "model: Lasso\n",
      "alpha: 0.0001\n",
      "train stop: 76\n",
      "mean validation corr: 0.002665935071101397\n",
      "mean validation sharpe: 0.059529006472279274\n"
     ]
    },
    {
     "name": "stderr",
     "output_type": "stream",
     "text": [
      "\n",
      "100%|██████████| 1/1 [00:06<00:00,  6.85s/it]\n",
      "\n",
      "  0%|          | 0/1 [00:00<?, ?it/s]\u001b[A"
     ]
    },
    {
     "name": "stdout",
     "output_type": "stream",
     "text": [
      "\n",
      "model: Lasso\n",
      "alpha: 0.0001\n",
      "train stop: 77\n",
      "mean validation corr: 0.004006890610198887\n",
      "mean validation sharpe: 0.0875404003559138\n"
     ]
    },
    {
     "name": "stderr",
     "output_type": "stream",
     "text": [
      "\n",
      "100%|██████████| 1/1 [00:07<00:00,  7.09s/it]\n",
      "\n",
      "  0%|          | 0/1 [00:00<?, ?it/s]\u001b[A"
     ]
    },
    {
     "name": "stdout",
     "output_type": "stream",
     "text": [
      "\n",
      "model: Lasso\n",
      "alpha: 0.0001\n",
      "train stop: 78\n",
      "mean validation corr: 0.004340715480697078\n",
      "mean validation sharpe: 0.09817158996106394\n"
     ]
    },
    {
     "name": "stderr",
     "output_type": "stream",
     "text": [
      "\n",
      "100%|██████████| 1/1 [00:06<00:00,  6.85s/it]\n",
      "\n",
      "  0%|          | 0/1 [00:00<?, ?it/s]\u001b[A"
     ]
    },
    {
     "name": "stdout",
     "output_type": "stream",
     "text": [
      "\n",
      "model: Lasso\n",
      "alpha: 0.0001\n",
      "train stop: 79\n",
      "mean validation corr: 0.004160402633621534\n",
      "mean validation sharpe: 0.08953725787252073\n"
     ]
    },
    {
     "name": "stderr",
     "output_type": "stream",
     "text": [
      "\n",
      "100%|██████████| 1/1 [00:07<00:00,  7.13s/it]\n",
      "\n",
      "  0%|          | 0/1 [00:00<?, ?it/s]\u001b[A"
     ]
    },
    {
     "name": "stdout",
     "output_type": "stream",
     "text": [
      "\n",
      "model: Lasso\n",
      "alpha: 0.0001\n",
      "train stop: 80\n",
      "mean validation corr: 0.003218991956473901\n",
      "mean validation sharpe: 0.07131133189051651\n"
     ]
    },
    {
     "name": "stderr",
     "output_type": "stream",
     "text": [
      "\n",
      "100%|██████████| 1/1 [00:09<00:00,  9.37s/it]\n",
      "\n",
      "  0%|          | 0/1 [00:00<?, ?it/s]\u001b[A"
     ]
    },
    {
     "name": "stdout",
     "output_type": "stream",
     "text": [
      "\n",
      "model: Lasso\n",
      "alpha: 0.0001\n",
      "train stop: 81\n",
      "mean validation corr: 0.0047587103585851765\n",
      "mean validation sharpe: 0.10870175765763174\n"
     ]
    },
    {
     "name": "stderr",
     "output_type": "stream",
     "text": [
      "\n",
      "100%|██████████| 1/1 [00:09<00:00,  9.89s/it]\n",
      "\n",
      "  0%|          | 0/1 [00:00<?, ?it/s]\u001b[A"
     ]
    },
    {
     "name": "stdout",
     "output_type": "stream",
     "text": [
      "\n",
      "model: Lasso\n",
      "alpha: 0.0001\n",
      "train stop: 82\n",
      "mean validation corr: 0.0032365983705838625\n",
      "mean validation sharpe: 0.07717534195410443\n"
     ]
    },
    {
     "name": "stderr",
     "output_type": "stream",
     "text": [
      "\n",
      "100%|██████████| 1/1 [00:07<00:00,  7.70s/it]\n",
      "\n",
      "  0%|          | 0/1 [00:00<?, ?it/s]\u001b[A"
     ]
    },
    {
     "name": "stdout",
     "output_type": "stream",
     "text": [
      "\n",
      "model: Lasso\n",
      "alpha: 0.0001\n",
      "train stop: 83\n",
      "mean validation corr: 0.004767464457663141\n",
      "mean validation sharpe: 0.11428046533800129\n"
     ]
    },
    {
     "name": "stderr",
     "output_type": "stream",
     "text": [
      "\n",
      "100%|██████████| 1/1 [00:08<00:00,  8.32s/it]\n",
      "\n",
      "  0%|          | 0/1 [00:00<?, ?it/s]\u001b[A"
     ]
    },
    {
     "name": "stdout",
     "output_type": "stream",
     "text": [
      "\n",
      "model: Lasso\n",
      "alpha: 0.0001\n",
      "train stop: 84\n",
      "mean validation corr: 0.004013274620255242\n",
      "mean validation sharpe: 0.10421152746192948\n"
     ]
    },
    {
     "name": "stderr",
     "output_type": "stream",
     "text": [
      "\n",
      "100%|██████████| 1/1 [00:08<00:00,  8.12s/it]\n",
      "\n",
      "  0%|          | 0/1 [00:00<?, ?it/s]\u001b[A"
     ]
    },
    {
     "name": "stdout",
     "output_type": "stream",
     "text": [
      "\n",
      "model: Lasso\n",
      "alpha: 0.0001\n",
      "train stop: 85\n",
      "mean validation corr: 0.004834892795198633\n",
      "mean validation sharpe: 0.12769154711436242\n"
     ]
    },
    {
     "name": "stderr",
     "output_type": "stream",
     "text": [
      "\n",
      "100%|██████████| 1/1 [00:08<00:00,  8.39s/it]\n",
      "\n",
      "  0%|          | 0/1 [00:00<?, ?it/s]\u001b[A"
     ]
    },
    {
     "name": "stdout",
     "output_type": "stream",
     "text": [
      "\n",
      "model: Lasso\n",
      "alpha: 0.0001\n",
      "train stop: 86\n",
      "mean validation corr: 0.005026743591757922\n",
      "mean validation sharpe: 0.13590161852333532\n"
     ]
    },
    {
     "name": "stderr",
     "output_type": "stream",
     "text": [
      "\n",
      "100%|██████████| 1/1 [00:08<00:00,  8.73s/it]\n",
      "\n",
      "  0%|          | 0/1 [00:00<?, ?it/s]\u001b[A"
     ]
    },
    {
     "name": "stdout",
     "output_type": "stream",
     "text": [
      "\n",
      "model: Lasso\n",
      "alpha: 0.0001\n",
      "train stop: 87\n",
      "mean validation corr: 0.004824065659996079\n",
      "mean validation sharpe: 0.13569175449789003\n"
     ]
    },
    {
     "name": "stderr",
     "output_type": "stream",
     "text": [
      "\n",
      "100%|██████████| 1/1 [00:08<00:00,  8.72s/it]\n",
      "\n",
      "  0%|          | 0/1 [00:00<?, ?it/s]\u001b[A"
     ]
    },
    {
     "name": "stdout",
     "output_type": "stream",
     "text": [
      "\n",
      "model: Lasso\n",
      "alpha: 0.0001\n",
      "train stop: 88\n",
      "mean validation corr: 0.004764796155071456\n",
      "mean validation sharpe: 0.13098487906517547\n"
     ]
    },
    {
     "name": "stderr",
     "output_type": "stream",
     "text": [
      "\n",
      "100%|██████████| 1/1 [00:07<00:00,  7.61s/it]\n",
      "\n",
      "  0%|          | 0/1 [00:00<?, ?it/s]\u001b[A"
     ]
    },
    {
     "name": "stdout",
     "output_type": "stream",
     "text": [
      "\n",
      "model: Lasso\n",
      "alpha: 0.0001\n",
      "train stop: 89\n",
      "mean validation corr: 0.004523356889741788\n",
      "mean validation sharpe: 0.12439107772173195\n"
     ]
    },
    {
     "name": "stderr",
     "output_type": "stream",
     "text": [
      "\n",
      "100%|██████████| 1/1 [00:08<00:00,  8.21s/it]\n",
      "\n",
      "  0%|          | 0/1 [00:00<?, ?it/s]\u001b[A"
     ]
    },
    {
     "name": "stdout",
     "output_type": "stream",
     "text": [
      "\n",
      "model: Lasso\n",
      "alpha: 0.0001\n",
      "train stop: 90\n",
      "mean validation corr: 0.004601198087550806\n",
      "mean validation sharpe: 0.12638443585607384\n"
     ]
    },
    {
     "name": "stderr",
     "output_type": "stream",
     "text": [
      "\n",
      "100%|██████████| 1/1 [00:10<00:00, 10.95s/it]\n",
      "\n",
      "  0%|          | 0/1 [00:00<?, ?it/s]\u001b[A"
     ]
    },
    {
     "name": "stdout",
     "output_type": "stream",
     "text": [
      "\n",
      "model: Lasso\n",
      "alpha: 0.0001\n",
      "train stop: 91\n",
      "mean validation corr: 0.0053455217502524095\n",
      "mean validation sharpe: 0.14796396810560516\n"
     ]
    },
    {
     "name": "stderr",
     "output_type": "stream",
     "text": [
      "\n",
      "100%|██████████| 1/1 [00:09<00:00,  9.60s/it]\n",
      "\n",
      "  0%|          | 0/1 [00:00<?, ?it/s]\u001b[A"
     ]
    },
    {
     "name": "stdout",
     "output_type": "stream",
     "text": [
      "\n",
      "model: Lasso\n",
      "alpha: 0.0001\n",
      "train stop: 92\n",
      "mean validation corr: 0.005777242793181968\n",
      "mean validation sharpe: 0.1504870984295127\n"
     ]
    },
    {
     "name": "stderr",
     "output_type": "stream",
     "text": [
      "\n",
      "100%|██████████| 1/1 [00:09<00:00,  9.21s/it]\n",
      "\n",
      "  0%|          | 0/1 [00:00<?, ?it/s]\u001b[A"
     ]
    },
    {
     "name": "stdout",
     "output_type": "stream",
     "text": [
      "\n",
      "model: Lasso\n",
      "alpha: 0.0001\n",
      "train stop: 93\n",
      "mean validation corr: 0.005967527928011173\n",
      "mean validation sharpe: 0.1504753357551482\n"
     ]
    },
    {
     "name": "stderr",
     "output_type": "stream",
     "text": [
      "\n",
      "100%|██████████| 1/1 [00:09<00:00,  9.04s/it]\n",
      "\n",
      "  0%|          | 0/1 [00:00<?, ?it/s]\u001b[A"
     ]
    },
    {
     "name": "stdout",
     "output_type": "stream",
     "text": [
      "\n",
      "model: Lasso\n",
      "alpha: 0.0001\n",
      "train stop: 94\n",
      "mean validation corr: 0.006276448810335487\n",
      "mean validation sharpe: 0.16188472673004675\n"
     ]
    },
    {
     "name": "stderr",
     "output_type": "stream",
     "text": [
      "\n",
      "100%|██████████| 1/1 [00:09<00:00,  9.46s/it]\n",
      "\n",
      "  0%|          | 0/1 [00:00<?, ?it/s]\u001b[A"
     ]
    },
    {
     "name": "stdout",
     "output_type": "stream",
     "text": [
      "\n",
      "model: Lasso\n",
      "alpha: 0.0001\n",
      "train stop: 95\n",
      "mean validation corr: 0.0062682127287648284\n",
      "mean validation sharpe: 0.1638600482155292\n"
     ]
    },
    {
     "name": "stderr",
     "output_type": "stream",
     "text": [
      "\n",
      "100%|██████████| 1/1 [00:08<00:00,  8.64s/it]\n",
      "\n",
      "  0%|          | 0/1 [00:00<?, ?it/s]\u001b[A"
     ]
    },
    {
     "name": "stdout",
     "output_type": "stream",
     "text": [
      "\n",
      "model: Lasso\n",
      "alpha: 0.0001\n",
      "train stop: 96\n",
      "mean validation corr: 0.00681059910431614\n",
      "mean validation sharpe: 0.17039421085735623\n"
     ]
    },
    {
     "name": "stderr",
     "output_type": "stream",
     "text": [
      "\n",
      "100%|██████████| 1/1 [00:07<00:00,  7.96s/it]\n",
      "\n",
      "  0%|          | 0/1 [00:00<?, ?it/s]\u001b[A"
     ]
    },
    {
     "name": "stdout",
     "output_type": "stream",
     "text": [
      "\n",
      "model: Lasso\n",
      "alpha: 0.0001\n",
      "train stop: 97\n",
      "mean validation corr: 0.006940491595948983\n",
      "mean validation sharpe: 0.17182694583922808\n"
     ]
    },
    {
     "name": "stderr",
     "output_type": "stream",
     "text": [
      "\n",
      "100%|██████████| 1/1 [00:08<00:00,  8.48s/it]\n",
      "\n",
      "  0%|          | 0/1 [00:00<?, ?it/s]\u001b[A"
     ]
    },
    {
     "name": "stdout",
     "output_type": "stream",
     "text": [
      "\n",
      "model: Lasso\n",
      "alpha: 0.0001\n",
      "train stop: 98\n",
      "mean validation corr: 0.007683791323191521\n",
      "mean validation sharpe: 0.1921484724228322\n"
     ]
    },
    {
     "name": "stderr",
     "output_type": "stream",
     "text": [
      "\n",
      "100%|██████████| 1/1 [00:08<00:00,  8.61s/it]\n",
      "\n",
      "  0%|          | 0/1 [00:00<?, ?it/s]\u001b[A"
     ]
    },
    {
     "name": "stdout",
     "output_type": "stream",
     "text": [
      "\n",
      "model: Lasso\n",
      "alpha: 0.0001\n",
      "train stop: 99\n",
      "mean validation corr: 0.006734431898834986\n",
      "mean validation sharpe: 0.1659404058736883\n"
     ]
    },
    {
     "name": "stderr",
     "output_type": "stream",
     "text": [
      "\n",
      "100%|██████████| 1/1 [00:08<00:00,  8.52s/it]\n",
      "\n",
      "  0%|          | 0/1 [00:00<?, ?it/s]\u001b[A"
     ]
    },
    {
     "name": "stdout",
     "output_type": "stream",
     "text": [
      "\n",
      "model: Lasso\n",
      "alpha: 0.0001\n",
      "train stop: 100\n",
      "mean validation corr: 0.00581212101582\n",
      "mean validation sharpe: 0.14409177457502362\n"
     ]
    },
    {
     "name": "stderr",
     "output_type": "stream",
     "text": [
      "\n",
      "100%|██████████| 1/1 [00:09<00:00,  9.03s/it]\n",
      "\n",
      "  0%|          | 0/1 [00:00<?, ?it/s]\u001b[A"
     ]
    },
    {
     "name": "stdout",
     "output_type": "stream",
     "text": [
      "\n",
      "model: Lasso\n",
      "alpha: 0.0001\n",
      "train stop: 101\n",
      "mean validation corr: 0.0051715919897280735\n",
      "mean validation sharpe: 0.1283425586105846\n"
     ]
    },
    {
     "name": "stderr",
     "output_type": "stream",
     "text": [
      "\n",
      "100%|██████████| 1/1 [00:08<00:00,  8.70s/it]\n",
      "\n",
      "  0%|          | 0/1 [00:00<?, ?it/s]\u001b[A"
     ]
    },
    {
     "name": "stdout",
     "output_type": "stream",
     "text": [
      "\n",
      "model: Lasso\n",
      "alpha: 0.0001\n",
      "train stop: 102\n",
      "mean validation corr: 0.005038724234276372\n",
      "mean validation sharpe: 0.12511828813671455\n"
     ]
    },
    {
     "name": "stderr",
     "output_type": "stream",
     "text": [
      "\n",
      "100%|██████████| 1/1 [00:08<00:00,  8.68s/it]\n",
      "\n",
      "  0%|          | 0/1 [00:00<?, ?it/s]\u001b[A"
     ]
    },
    {
     "name": "stdout",
     "output_type": "stream",
     "text": [
      "\n",
      "model: Lasso\n",
      "alpha: 0.0001\n",
      "train stop: 103\n",
      "mean validation corr: 0.004437519336063234\n",
      "mean validation sharpe: 0.10655070081121744\n"
     ]
    },
    {
     "name": "stderr",
     "output_type": "stream",
     "text": [
      "\n",
      "100%|██████████| 1/1 [00:08<00:00,  8.61s/it]\n",
      "\n",
      "  0%|          | 0/1 [00:00<?, ?it/s]\u001b[A"
     ]
    },
    {
     "name": "stdout",
     "output_type": "stream",
     "text": [
      "\n",
      "model: Lasso\n",
      "alpha: 0.0001\n",
      "train stop: 104\n",
      "mean validation corr: 0.00455234135644879\n",
      "mean validation sharpe: 0.11193593942365837\n"
     ]
    },
    {
     "name": "stderr",
     "output_type": "stream",
     "text": [
      "\n",
      "100%|██████████| 1/1 [00:08<00:00,  8.61s/it]\n",
      "\n",
      "  0%|          | 0/1 [00:00<?, ?it/s]\u001b[A"
     ]
    },
    {
     "name": "stdout",
     "output_type": "stream",
     "text": [
      "\n",
      "model: Lasso\n",
      "alpha: 0.0001\n",
      "train stop: 105\n",
      "mean validation corr: 0.005857566681147857\n",
      "mean validation sharpe: 0.13768223341553784\n"
     ]
    },
    {
     "name": "stderr",
     "output_type": "stream",
     "text": [
      "\n",
      "100%|██████████| 1/1 [00:08<00:00,  8.81s/it]\n",
      "\n",
      "  0%|          | 0/1 [00:00<?, ?it/s]\u001b[A"
     ]
    },
    {
     "name": "stdout",
     "output_type": "stream",
     "text": [
      "\n",
      "model: Lasso\n",
      "alpha: 0.0001\n",
      "train stop: 106\n",
      "mean validation corr: 0.005392296057488996\n",
      "mean validation sharpe: 0.12854181248219568\n"
     ]
    },
    {
     "name": "stderr",
     "output_type": "stream",
     "text": [
      "\n",
      "100%|██████████| 1/1 [00:08<00:00,  8.86s/it]\n",
      "\n",
      "  0%|          | 0/1 [00:00<?, ?it/s]\u001b[A"
     ]
    },
    {
     "name": "stdout",
     "output_type": "stream",
     "text": [
      "\n",
      "model: Lasso\n",
      "alpha: 0.0001\n",
      "train stop: 107\n",
      "mean validation corr: 0.004515159012651785\n",
      "mean validation sharpe: 0.10840854904101875\n"
     ]
    },
    {
     "name": "stderr",
     "output_type": "stream",
     "text": [
      "\n",
      "100%|██████████| 1/1 [00:09<00:00,  9.50s/it]\n",
      "\n",
      "  0%|          | 0/1 [00:00<?, ?it/s]\u001b[A"
     ]
    },
    {
     "name": "stdout",
     "output_type": "stream",
     "text": [
      "\n",
      "model: Lasso\n",
      "alpha: 0.0001\n",
      "train stop: 108\n",
      "mean validation corr: 0.005008321845204208\n",
      "mean validation sharpe: 0.11826079910862254\n"
     ]
    },
    {
     "name": "stderr",
     "output_type": "stream",
     "text": [
      "\n",
      "100%|██████████| 1/1 [00:12<00:00, 12.19s/it]\n",
      "\n",
      "  0%|          | 0/1 [00:00<?, ?it/s]\u001b[A"
     ]
    },
    {
     "name": "stdout",
     "output_type": "stream",
     "text": [
      "\n",
      "model: Lasso\n",
      "alpha: 0.0001\n",
      "train stop: 109\n",
      "mean validation corr: 0.005645769212276478\n",
      "mean validation sharpe: 0.13223471427629255\n"
     ]
    },
    {
     "name": "stderr",
     "output_type": "stream",
     "text": [
      "\n",
      "100%|██████████| 1/1 [00:12<00:00, 12.37s/it]\n",
      "\n",
      "  0%|          | 0/1 [00:00<?, ?it/s]\u001b[A"
     ]
    },
    {
     "name": "stdout",
     "output_type": "stream",
     "text": [
      "\n",
      "model: Lasso\n",
      "alpha: 0.0001\n",
      "train stop: 110\n",
      "mean validation corr: 0.006006324253254702\n",
      "mean validation sharpe: 0.14041430152600337\n"
     ]
    },
    {
     "name": "stderr",
     "output_type": "stream",
     "text": [
      "\n",
      "100%|██████████| 1/1 [00:13<00:00, 13.74s/it]\n",
      "\n",
      "  0%|          | 0/1 [00:00<?, ?it/s]\u001b[A"
     ]
    },
    {
     "name": "stdout",
     "output_type": "stream",
     "text": [
      "\n",
      "model: Lasso\n",
      "alpha: 0.0001\n",
      "train stop: 111\n",
      "mean validation corr: 0.005093073852775345\n",
      "mean validation sharpe: 0.1152867696474519\n"
     ]
    },
    {
     "name": "stderr",
     "output_type": "stream",
     "text": [
      "\n",
      "100%|██████████| 1/1 [00:13<00:00, 13.80s/it]\n",
      "\n",
      "  0%|          | 0/1 [00:00<?, ?it/s]\u001b[A"
     ]
    },
    {
     "name": "stdout",
     "output_type": "stream",
     "text": [
      "\n",
      "model: Lasso\n",
      "alpha: 0.0001\n",
      "train stop: 112\n",
      "mean validation corr: 0.004897898552139174\n",
      "mean validation sharpe: 0.1119156738355873\n"
     ]
    },
    {
     "name": "stderr",
     "output_type": "stream",
     "text": [
      "\n",
      "100%|██████████| 1/1 [00:13<00:00, 13.47s/it]\n",
      "\n",
      "  0%|          | 0/1 [00:00<?, ?it/s]\u001b[A"
     ]
    },
    {
     "name": "stdout",
     "output_type": "stream",
     "text": [
      "\n",
      "model: Lasso\n",
      "alpha: 0.0001\n",
      "train stop: 113\n",
      "mean validation corr: 0.005274449426879721\n",
      "mean validation sharpe: 0.11879991405863642\n"
     ]
    },
    {
     "name": "stderr",
     "output_type": "stream",
     "text": [
      "\n",
      "100%|██████████| 1/1 [00:14<00:00, 14.09s/it]\n",
      "\n",
      "  0%|          | 0/1 [00:00<?, ?it/s]\u001b[A"
     ]
    },
    {
     "name": "stdout",
     "output_type": "stream",
     "text": [
      "\n",
      "model: Lasso\n",
      "alpha: 0.0001\n",
      "train stop: 114\n",
      "mean validation corr: 0.0036114521773904246\n",
      "mean validation sharpe: 0.0793115015353196\n"
     ]
    },
    {
     "name": "stderr",
     "output_type": "stream",
     "text": [
      "\n",
      "100%|██████████| 1/1 [00:14<00:00, 14.88s/it]\n",
      "\n",
      "  0%|          | 0/1 [00:00<?, ?it/s]\u001b[A"
     ]
    },
    {
     "name": "stdout",
     "output_type": "stream",
     "text": [
      "\n",
      "model: Lasso\n",
      "alpha: 0.0001\n",
      "train stop: 115\n",
      "mean validation corr: 0.0034255527450489966\n",
      "mean validation sharpe: 0.07401037618859642\n"
     ]
    },
    {
     "name": "stderr",
     "output_type": "stream",
     "text": [
      "\n",
      "100%|██████████| 1/1 [00:14<00:00, 14.01s/it]\n",
      "\n",
      "  0%|          | 0/1 [00:00<?, ?it/s]\u001b[A"
     ]
    },
    {
     "name": "stdout",
     "output_type": "stream",
     "text": [
      "\n",
      "model: Lasso\n",
      "alpha: 0.0001\n",
      "train stop: 116\n",
      "mean validation corr: 0.0029563227168916996\n",
      "mean validation sharpe: 0.06473442531359602\n"
     ]
    },
    {
     "name": "stderr",
     "output_type": "stream",
     "text": [
      "\n",
      "100%|██████████| 1/1 [00:13<00:00, 13.64s/it]\n",
      "\n",
      "  0%|          | 0/1 [00:00<?, ?it/s]\u001b[A"
     ]
    },
    {
     "name": "stdout",
     "output_type": "stream",
     "text": [
      "\n",
      "model: Lasso\n",
      "alpha: 0.0001\n",
      "train stop: 117\n",
      "mean validation corr: 0.0030951415454120775\n",
      "mean validation sharpe: 0.06871345825762123\n"
     ]
    },
    {
     "name": "stderr",
     "output_type": "stream",
     "text": [
      "\n",
      "100%|██████████| 1/1 [00:12<00:00, 12.45s/it]\n",
      "\n",
      "  0%|          | 0/1 [00:00<?, ?it/s]\u001b[A"
     ]
    },
    {
     "name": "stdout",
     "output_type": "stream",
     "text": [
      "\n",
      "model: Lasso\n",
      "alpha: 0.0001\n",
      "train stop: 118\n",
      "mean validation corr: 0.0034483032723107744\n",
      "mean validation sharpe: 0.07683893281253928\n"
     ]
    },
    {
     "name": "stderr",
     "output_type": "stream",
     "text": [
      "\n",
      "100%|██████████| 1/1 [00:11<00:00, 11.92s/it]\n",
      "\n",
      "  0%|          | 0/1 [00:00<?, ?it/s]\u001b[A"
     ]
    },
    {
     "name": "stdout",
     "output_type": "stream",
     "text": [
      "\n",
      "model: Lasso\n",
      "alpha: 0.0001\n",
      "train stop: 119\n",
      "mean validation corr: 0.00324446814961369\n",
      "mean validation sharpe: 0.07484327878625852\n"
     ]
    },
    {
     "name": "stderr",
     "output_type": "stream",
     "text": [
      "\n",
      "100%|██████████| 1/1 [00:12<00:00, 12.32s/it]\n",
      "\n",
      "  0%|          | 0/1 [00:00<?, ?it/s]\u001b[A"
     ]
    },
    {
     "name": "stdout",
     "output_type": "stream",
     "text": [
      "\n",
      "model: Lasso\n",
      "alpha: 0.0001\n",
      "train stop: 120\n",
      "mean validation corr: 0.0032369476608080476\n",
      "mean validation sharpe: 0.07390241124969149\n"
     ]
    },
    {
     "name": "stderr",
     "output_type": "stream",
     "text": [
      "\n",
      "100%|██████████| 1/1 [00:11<00:00, 11.89s/it]\n",
      "\n",
      "  0%|          | 0/1 [00:00<?, ?it/s]\u001b[A"
     ]
    },
    {
     "name": "stdout",
     "output_type": "stream",
     "text": [
      "\n",
      "model: Lasso\n",
      "alpha: 0.0001\n",
      "train stop: 121\n",
      "mean validation corr: 0.0035497601185062056\n",
      "mean validation sharpe: 0.08131639512722777\n"
     ]
    },
    {
     "name": "stderr",
     "output_type": "stream",
     "text": [
      "\n",
      "100%|██████████| 1/1 [00:12<00:00, 12.15s/it]\n",
      "\n",
      "  0%|          | 0/1 [00:00<?, ?it/s]\u001b[A"
     ]
    },
    {
     "name": "stdout",
     "output_type": "stream",
     "text": [
      "\n",
      "model: Lasso\n",
      "alpha: 0.0001\n",
      "train stop: 122\n",
      "mean validation corr: 0.0034938610699938918\n",
      "mean validation sharpe: 0.07970734215218984\n"
     ]
    },
    {
     "name": "stderr",
     "output_type": "stream",
     "text": [
      "\n",
      "100%|██████████| 1/1 [00:12<00:00, 12.60s/it]\n",
      "\n",
      "  0%|          | 0/1 [00:00<?, ?it/s]\u001b[A"
     ]
    },
    {
     "name": "stdout",
     "output_type": "stream",
     "text": [
      "\n",
      "model: Lasso\n",
      "alpha: 0.0001\n",
      "train stop: 123\n",
      "mean validation corr: 0.0038815861782074603\n",
      "mean validation sharpe: 0.08624329468094241\n"
     ]
    },
    {
     "name": "stderr",
     "output_type": "stream",
     "text": [
      "\n",
      "100%|██████████| 1/1 [00:14<00:00, 14.05s/it]\n",
      "\n",
      "  0%|          | 0/1 [00:00<?, ?it/s]\u001b[A"
     ]
    },
    {
     "name": "stdout",
     "output_type": "stream",
     "text": [
      "\n",
      "model: Lasso\n",
      "alpha: 0.0001\n",
      "train stop: 124\n",
      "mean validation corr: 0.004357283425333093\n",
      "mean validation sharpe: 0.09746483420130267\n"
     ]
    },
    {
     "name": "stderr",
     "output_type": "stream",
     "text": [
      "\n",
      "100%|██████████| 1/1 [00:16<00:00, 16.35s/it]\n",
      "\n",
      "  0%|          | 0/1 [00:00<?, ?it/s]\u001b[A"
     ]
    },
    {
     "name": "stdout",
     "output_type": "stream",
     "text": [
      "\n",
      "model: Lasso\n",
      "alpha: 0.0001\n",
      "train stop: 125\n",
      "mean validation corr: 0.004886792486380182\n",
      "mean validation sharpe: 0.10699027277460477\n"
     ]
    },
    {
     "name": "stderr",
     "output_type": "stream",
     "text": [
      "\n",
      "100%|██████████| 1/1 [00:16<00:00, 16.87s/it]\n",
      "\n",
      "  0%|          | 0/1 [00:00<?, ?it/s]\u001b[A"
     ]
    },
    {
     "name": "stdout",
     "output_type": "stream",
     "text": [
      "\n",
      "model: Lasso\n",
      "alpha: 0.0001\n",
      "train stop: 126\n",
      "mean validation corr: 0.004843933324300366\n",
      "mean validation sharpe: 0.1057115773640674\n"
     ]
    },
    {
     "name": "stderr",
     "output_type": "stream",
     "text": [
      "\n",
      "100%|██████████| 1/1 [00:15<00:00, 15.95s/it]\n",
      "\n",
      "  0%|          | 0/1 [00:00<?, ?it/s]\u001b[A"
     ]
    },
    {
     "name": "stdout",
     "output_type": "stream",
     "text": [
      "\n",
      "model: Lasso\n",
      "alpha: 0.0001\n",
      "train stop: 127\n",
      "mean validation corr: 0.00474295717593181\n",
      "mean validation sharpe: 0.10334869696842083\n"
     ]
    },
    {
     "name": "stderr",
     "output_type": "stream",
     "text": [
      "\n",
      "100%|██████████| 1/1 [00:16<00:00, 16.14s/it]\n",
      "\n",
      "  0%|          | 0/1 [00:00<?, ?it/s]\u001b[A"
     ]
    },
    {
     "name": "stdout",
     "output_type": "stream",
     "text": [
      "\n",
      "model: Lasso\n",
      "alpha: 0.0001\n",
      "train stop: 128\n",
      "mean validation corr: 0.005053402935064956\n",
      "mean validation sharpe: 0.11082237067658322\n"
     ]
    },
    {
     "name": "stderr",
     "output_type": "stream",
     "text": [
      "\n",
      "100%|██████████| 1/1 [00:14<00:00, 14.25s/it]\n",
      "\n",
      "  0%|          | 0/1 [00:00<?, ?it/s]\u001b[A"
     ]
    },
    {
     "name": "stdout",
     "output_type": "stream",
     "text": [
      "\n",
      "model: Lasso\n",
      "alpha: 0.0001\n",
      "train stop: 129\n",
      "mean validation corr: 0.004415674211947497\n",
      "mean validation sharpe: 0.09943602064574306\n"
     ]
    },
    {
     "name": "stderr",
     "output_type": "stream",
     "text": [
      "\n",
      "100%|██████████| 1/1 [00:14<00:00, 14.65s/it]\n",
      "\n",
      "  0%|          | 0/1 [00:00<?, ?it/s]\u001b[A"
     ]
    },
    {
     "name": "stdout",
     "output_type": "stream",
     "text": [
      "\n",
      "model: Lasso\n",
      "alpha: 0.0001\n",
      "train stop: 130\n",
      "mean validation corr: 0.004188203370985589\n",
      "mean validation sharpe: 0.09416558945839881\n"
     ]
    },
    {
     "name": "stderr",
     "output_type": "stream",
     "text": [
      "\n",
      "100%|██████████| 1/1 [00:12<00:00, 12.85s/it]\n",
      "\n",
      "  0%|          | 0/1 [00:00<?, ?it/s]\u001b[A"
     ]
    },
    {
     "name": "stdout",
     "output_type": "stream",
     "text": [
      "\n",
      "model: Lasso\n",
      "alpha: 0.0001\n",
      "train stop: 131\n",
      "mean validation corr: 0.004202250806781235\n",
      "mean validation sharpe: 0.0934607095286664\n"
     ]
    },
    {
     "name": "stderr",
     "output_type": "stream",
     "text": [
      "\n",
      "100%|██████████| 1/1 [00:01<00:00,  1.49s/it]\n",
      "\n",
      "  0%|          | 0/1 [00:00<?, ?it/s]\u001b[A"
     ]
    },
    {
     "name": "stdout",
     "output_type": "stream",
     "text": [
      "\n",
      "model: Lasso\n",
      "alpha: 0.000325\n",
      "train stop: 25\n",
      "mean validation corr: 0.0017765078859431072\n",
      "mean validation sharpe: 0.046788171345568404\n"
     ]
    },
    {
     "name": "stderr",
     "output_type": "stream",
     "text": [
      "\n",
      "100%|██████████| 1/1 [00:01<00:00,  1.54s/it]\n",
      "\n",
      "  0%|          | 0/1 [00:00<?, ?it/s]\u001b[A"
     ]
    },
    {
     "name": "stdout",
     "output_type": "stream",
     "text": [
      "\n",
      "model: Lasso\n",
      "alpha: 0.000325\n",
      "train stop: 26\n",
      "mean validation corr: 0.003518773750449778\n",
      "mean validation sharpe: 0.08987606175166724\n"
     ]
    },
    {
     "name": "stderr",
     "output_type": "stream",
     "text": [
      "\n",
      "100%|██████████| 1/1 [00:01<00:00,  1.65s/it]\n",
      "\n",
      "  0%|          | 0/1 [00:00<?, ?it/s]\u001b[A"
     ]
    },
    {
     "name": "stdout",
     "output_type": "stream",
     "text": [
      "\n",
      "model: Lasso\n",
      "alpha: 0.000325\n",
      "train stop: 27\n",
      "mean validation corr: 0.0031556362264152614\n",
      "mean validation sharpe: 0.08154301798154182\n"
     ]
    },
    {
     "name": "stderr",
     "output_type": "stream",
     "text": [
      "\n",
      "100%|██████████| 1/1 [00:01<00:00,  1.64s/it]\n",
      "\n",
      "  0%|          | 0/1 [00:00<?, ?it/s]\u001b[A"
     ]
    },
    {
     "name": "stdout",
     "output_type": "stream",
     "text": [
      "\n",
      "model: Lasso\n",
      "alpha: 0.000325\n",
      "train stop: 28\n",
      "mean validation corr: 0.003711840725688354\n",
      "mean validation sharpe: 0.1000024384391554\n"
     ]
    },
    {
     "name": "stderr",
     "output_type": "stream",
     "text": [
      "\n",
      "100%|██████████| 1/1 [00:01<00:00,  1.65s/it]\n",
      "\n",
      "  0%|          | 0/1 [00:00<?, ?it/s]\u001b[A"
     ]
    },
    {
     "name": "stdout",
     "output_type": "stream",
     "text": [
      "\n",
      "model: Lasso\n",
      "alpha: 0.000325\n",
      "train stop: 29\n",
      "mean validation corr: 0.002544586191137725\n",
      "mean validation sharpe: 0.07233907755106882\n"
     ]
    },
    {
     "name": "stderr",
     "output_type": "stream",
     "text": [
      "\n",
      "100%|██████████| 1/1 [00:01<00:00,  1.80s/it]\n",
      "\n",
      "  0%|          | 0/1 [00:00<?, ?it/s]\u001b[A"
     ]
    },
    {
     "name": "stdout",
     "output_type": "stream",
     "text": [
      "\n",
      "model: Lasso\n",
      "alpha: 0.000325\n",
      "train stop: 30\n",
      "mean validation corr: 0.006270936989789212\n",
      "mean validation sharpe: 0.16694356261988239\n"
     ]
    },
    {
     "name": "stderr",
     "output_type": "stream",
     "text": [
      "\n",
      "100%|██████████| 1/1 [00:01<00:00,  1.85s/it]\n",
      "\n",
      "  0%|          | 0/1 [00:00<?, ?it/s]\u001b[A"
     ]
    },
    {
     "name": "stdout",
     "output_type": "stream",
     "text": [
      "\n",
      "model: Lasso\n",
      "alpha: 0.000325\n",
      "train stop: 31\n",
      "mean validation corr: 0.004264638439657331\n",
      "mean validation sharpe: 0.10863830429805602\n"
     ]
    },
    {
     "name": "stderr",
     "output_type": "stream",
     "text": [
      "\n",
      "100%|██████████| 1/1 [00:01<00:00,  1.77s/it]\n",
      "\n",
      "  0%|          | 0/1 [00:00<?, ?it/s]\u001b[A"
     ]
    },
    {
     "name": "stdout",
     "output_type": "stream",
     "text": [
      "\n",
      "model: Lasso\n",
      "alpha: 0.000325\n",
      "train stop: 32\n",
      "mean validation corr: 0.0048735743647257326\n",
      "mean validation sharpe: 0.1202690674073107\n"
     ]
    },
    {
     "name": "stderr",
     "output_type": "stream",
     "text": [
      "\n",
      "100%|██████████| 1/1 [00:02<00:00,  2.02s/it]\n",
      "\n",
      "  0%|          | 0/1 [00:00<?, ?it/s]\u001b[A"
     ]
    },
    {
     "name": "stdout",
     "output_type": "stream",
     "text": [
      "\n",
      "model: Lasso\n",
      "alpha: 0.000325\n",
      "train stop: 33\n",
      "mean validation corr: 0.004038509299529161\n",
      "mean validation sharpe: 0.09365920626667307\n"
     ]
    },
    {
     "name": "stderr",
     "output_type": "stream",
     "text": [
      "\n",
      "100%|██████████| 1/1 [00:01<00:00,  1.86s/it]\n",
      "\n",
      "  0%|          | 0/1 [00:00<?, ?it/s]\u001b[A"
     ]
    },
    {
     "name": "stdout",
     "output_type": "stream",
     "text": [
      "\n",
      "model: Lasso\n",
      "alpha: 0.000325\n",
      "train stop: 34\n",
      "mean validation corr: 0.005261605741612406\n",
      "mean validation sharpe: 0.1378882375493274\n"
     ]
    },
    {
     "name": "stderr",
     "output_type": "stream",
     "text": [
      "\n",
      "100%|██████████| 1/1 [00:01<00:00,  1.78s/it]\n",
      "\n",
      "  0%|          | 0/1 [00:00<?, ?it/s]\u001b[A"
     ]
    },
    {
     "name": "stdout",
     "output_type": "stream",
     "text": [
      "\n",
      "model: Lasso\n",
      "alpha: 0.000325\n",
      "train stop: 35\n",
      "mean validation corr: 0.0059420383010185\n",
      "mean validation sharpe: 0.1565191687192427\n"
     ]
    },
    {
     "name": "stderr",
     "output_type": "stream",
     "text": [
      "\n",
      "100%|██████████| 1/1 [00:02<00:00,  2.14s/it]\n",
      "\n",
      "  0%|          | 0/1 [00:00<?, ?it/s]\u001b[A"
     ]
    },
    {
     "name": "stdout",
     "output_type": "stream",
     "text": [
      "\n",
      "model: Lasso\n",
      "alpha: 0.000325\n",
      "train stop: 36\n",
      "mean validation corr: 0.00644907707288369\n",
      "mean validation sharpe: 0.1715359840183102\n"
     ]
    },
    {
     "name": "stderr",
     "output_type": "stream",
     "text": [
      "\n",
      "100%|██████████| 1/1 [00:01<00:00,  2.00s/it]\n",
      "\n",
      "  0%|          | 0/1 [00:00<?, ?it/s]\u001b[A"
     ]
    },
    {
     "name": "stdout",
     "output_type": "stream",
     "text": [
      "\n",
      "model: Lasso\n",
      "alpha: 0.000325\n",
      "train stop: 37\n",
      "mean validation corr: 0.005680873986423553\n",
      "mean validation sharpe: 0.14447679884543663\n"
     ]
    },
    {
     "name": "stderr",
     "output_type": "stream",
     "text": [
      "\n",
      "100%|██████████| 1/1 [00:02<00:00,  2.14s/it]\n",
      "\n",
      "  0%|          | 0/1 [00:00<?, ?it/s]\u001b[A"
     ]
    },
    {
     "name": "stdout",
     "output_type": "stream",
     "text": [
      "\n",
      "model: Lasso\n",
      "alpha: 0.000325\n",
      "train stop: 38\n",
      "mean validation corr: 0.004333745969808183\n",
      "mean validation sharpe: 0.1150612782358309\n"
     ]
    },
    {
     "name": "stderr",
     "output_type": "stream",
     "text": [
      "\n",
      "100%|██████████| 1/1 [00:02<00:00,  2.26s/it]\n",
      "\n",
      "  0%|          | 0/1 [00:00<?, ?it/s]\u001b[A"
     ]
    },
    {
     "name": "stdout",
     "output_type": "stream",
     "text": [
      "\n",
      "model: Lasso\n",
      "alpha: 0.000325\n",
      "train stop: 39\n",
      "mean validation corr: 0.004241259105113963\n",
      "mean validation sharpe: 0.11201951134635482\n"
     ]
    },
    {
     "name": "stderr",
     "output_type": "stream",
     "text": [
      "\n",
      "100%|██████████| 1/1 [00:02<00:00,  2.37s/it]\n",
      "\n",
      "  0%|          | 0/1 [00:00<?, ?it/s]\u001b[A"
     ]
    },
    {
     "name": "stdout",
     "output_type": "stream",
     "text": [
      "\n",
      "model: Lasso\n",
      "alpha: 0.000325\n",
      "train stop: 40\n",
      "mean validation corr: 0.002863714229709262\n",
      "mean validation sharpe: 0.07742392948838912\n"
     ]
    },
    {
     "name": "stderr",
     "output_type": "stream",
     "text": [
      "\n",
      "100%|██████████| 1/1 [00:02<00:00,  2.44s/it]\n",
      "\n",
      "  0%|          | 0/1 [00:00<?, ?it/s]\u001b[A"
     ]
    },
    {
     "name": "stdout",
     "output_type": "stream",
     "text": [
      "\n",
      "model: Lasso\n",
      "alpha: 0.000325\n",
      "train stop: 41\n",
      "mean validation corr: 0.0013720328516949633\n",
      "mean validation sharpe: 0.03686896168692946\n"
     ]
    },
    {
     "name": "stderr",
     "output_type": "stream",
     "text": [
      "\n",
      "100%|██████████| 1/1 [00:02<00:00,  2.57s/it]\n",
      "\n",
      "  0%|          | 0/1 [00:00<?, ?it/s]\u001b[A"
     ]
    },
    {
     "name": "stdout",
     "output_type": "stream",
     "text": [
      "\n",
      "model: Lasso\n",
      "alpha: 0.000325\n",
      "train stop: 42\n",
      "mean validation corr: 0.0021315009968466345\n",
      "mean validation sharpe: 0.05861223953139103\n"
     ]
    },
    {
     "name": "stderr",
     "output_type": "stream",
     "text": [
      "\n",
      "100%|██████████| 1/1 [00:02<00:00,  2.73s/it]\n",
      "\n",
      "  0%|          | 0/1 [00:00<?, ?it/s]\u001b[A"
     ]
    },
    {
     "name": "stdout",
     "output_type": "stream",
     "text": [
      "\n",
      "model: Lasso\n",
      "alpha: 0.000325\n",
      "train stop: 43\n",
      "mean validation corr: 0.0032892762989504398\n",
      "mean validation sharpe: 0.08670183889877855\n"
     ]
    },
    {
     "name": "stderr",
     "output_type": "stream",
     "text": [
      "\n",
      "100%|██████████| 1/1 [00:02<00:00,  2.84s/it]\n",
      "\n",
      "  0%|          | 0/1 [00:00<?, ?it/s]\u001b[A"
     ]
    },
    {
     "name": "stdout",
     "output_type": "stream",
     "text": [
      "\n",
      "model: Lasso\n",
      "alpha: 0.000325\n",
      "train stop: 44\n",
      "mean validation corr: 0.00407697484766506\n",
      "mean validation sharpe: 0.1044594129654155\n"
     ]
    },
    {
     "name": "stderr",
     "output_type": "stream",
     "text": [
      "\n",
      "100%|██████████| 1/1 [00:03<00:00,  3.01s/it]\n",
      "\n",
      "  0%|          | 0/1 [00:00<?, ?it/s]\u001b[A"
     ]
    },
    {
     "name": "stdout",
     "output_type": "stream",
     "text": [
      "\n",
      "model: Lasso\n",
      "alpha: 0.000325\n",
      "train stop: 45\n",
      "mean validation corr: 0.006233656428336974\n",
      "mean validation sharpe: 0.14867295837962408\n"
     ]
    },
    {
     "name": "stderr",
     "output_type": "stream",
     "text": [
      "\n",
      "100%|██████████| 1/1 [00:03<00:00,  3.07s/it]\n",
      "\n",
      "  0%|          | 0/1 [00:00<?, ?it/s]\u001b[A"
     ]
    },
    {
     "name": "stdout",
     "output_type": "stream",
     "text": [
      "\n",
      "model: Lasso\n",
      "alpha: 0.000325\n",
      "train stop: 46\n",
      "mean validation corr: 0.0043458302603023875\n",
      "mean validation sharpe: 0.1112551283695038\n"
     ]
    },
    {
     "name": "stderr",
     "output_type": "stream",
     "text": [
      "\n",
      "100%|██████████| 1/1 [00:03<00:00,  3.21s/it]\n",
      "\n",
      "  0%|          | 0/1 [00:00<?, ?it/s]\u001b[A"
     ]
    },
    {
     "name": "stdout",
     "output_type": "stream",
     "text": [
      "\n",
      "model: Lasso\n",
      "alpha: 0.000325\n",
      "train stop: 47\n",
      "mean validation corr: 0.005543336815974223\n",
      "mean validation sharpe: 0.13989690546258277\n"
     ]
    },
    {
     "name": "stderr",
     "output_type": "stream",
     "text": [
      "\n",
      "100%|██████████| 1/1 [00:03<00:00,  3.64s/it]\n",
      "\n",
      "  0%|          | 0/1 [00:00<?, ?it/s]\u001b[A"
     ]
    },
    {
     "name": "stdout",
     "output_type": "stream",
     "text": [
      "\n",
      "model: Lasso\n",
      "alpha: 0.000325\n",
      "train stop: 48\n",
      "mean validation corr: 0.007476508656591545\n",
      "mean validation sharpe: 0.1903813689549958\n"
     ]
    },
    {
     "name": "stderr",
     "output_type": "stream",
     "text": [
      "\n",
      "100%|██████████| 1/1 [00:03<00:00,  3.93s/it]\n",
      "\n",
      "  0%|          | 0/1 [00:00<?, ?it/s]\u001b[A"
     ]
    },
    {
     "name": "stdout",
     "output_type": "stream",
     "text": [
      "\n",
      "model: Lasso\n",
      "alpha: 0.000325\n",
      "train stop: 49\n",
      "mean validation corr: 0.008379889273589377\n",
      "mean validation sharpe: 0.21580823595419232\n"
     ]
    },
    {
     "name": "stderr",
     "output_type": "stream",
     "text": [
      "\n",
      "100%|██████████| 1/1 [00:04<00:00,  4.62s/it]\n",
      "\n",
      "  0%|          | 0/1 [00:00<?, ?it/s]\u001b[A"
     ]
    },
    {
     "name": "stdout",
     "output_type": "stream",
     "text": [
      "\n",
      "model: Lasso\n",
      "alpha: 0.000325\n",
      "train stop: 50\n",
      "mean validation corr: 0.008721129331099597\n",
      "mean validation sharpe: 0.21028213946520607\n"
     ]
    },
    {
     "name": "stderr",
     "output_type": "stream",
     "text": [
      "\n",
      "100%|██████████| 1/1 [00:05<00:00,  5.03s/it]\n",
      "\n",
      "  0%|          | 0/1 [00:00<?, ?it/s]\u001b[A"
     ]
    },
    {
     "name": "stdout",
     "output_type": "stream",
     "text": [
      "\n",
      "model: Lasso\n",
      "alpha: 0.000325\n",
      "train stop: 51\n",
      "mean validation corr: 0.007445540797049722\n",
      "mean validation sharpe: 0.16974170447813078\n"
     ]
    },
    {
     "name": "stderr",
     "output_type": "stream",
     "text": [
      "\n",
      "100%|██████████| 1/1 [00:07<00:00,  7.66s/it]\n",
      "\n",
      "  0%|          | 0/1 [00:00<?, ?it/s]\u001b[A"
     ]
    },
    {
     "name": "stdout",
     "output_type": "stream",
     "text": [
      "\n",
      "model: Lasso\n",
      "alpha: 0.000325\n",
      "train stop: 52\n",
      "mean validation corr: 0.00834247561016516\n",
      "mean validation sharpe: 0.19279492390388772\n"
     ]
    },
    {
     "name": "stderr",
     "output_type": "stream",
     "text": [
      "\n",
      "100%|██████████| 1/1 [00:04<00:00,  4.44s/it]\n",
      "\n",
      "  0%|          | 0/1 [00:00<?, ?it/s]\u001b[A"
     ]
    },
    {
     "name": "stdout",
     "output_type": "stream",
     "text": [
      "\n",
      "model: Lasso\n",
      "alpha: 0.000325\n",
      "train stop: 53\n",
      "mean validation corr: 0.00824869562577392\n",
      "mean validation sharpe: 0.19148471989220509\n"
     ]
    },
    {
     "name": "stderr",
     "output_type": "stream",
     "text": [
      "\n",
      "100%|██████████| 1/1 [00:04<00:00,  4.29s/it]\n",
      "\n",
      "  0%|          | 0/1 [00:00<?, ?it/s]\u001b[A"
     ]
    },
    {
     "name": "stdout",
     "output_type": "stream",
     "text": [
      "\n",
      "model: Lasso\n",
      "alpha: 0.000325\n",
      "train stop: 54\n",
      "mean validation corr: 0.007984394251177397\n",
      "mean validation sharpe: 0.1759005619748386\n"
     ]
    },
    {
     "name": "stderr",
     "output_type": "stream",
     "text": [
      "\n",
      "100%|██████████| 1/1 [00:04<00:00,  4.33s/it]\n",
      "\n",
      "  0%|          | 0/1 [00:00<?, ?it/s]\u001b[A"
     ]
    },
    {
     "name": "stdout",
     "output_type": "stream",
     "text": [
      "\n",
      "model: Lasso\n",
      "alpha: 0.000325\n",
      "train stop: 55\n",
      "mean validation corr: 0.007676304459537408\n",
      "mean validation sharpe: 0.16478401834429487\n"
     ]
    },
    {
     "name": "stderr",
     "output_type": "stream",
     "text": [
      "\n",
      "100%|██████████| 1/1 [00:04<00:00,  4.71s/it]\n",
      "\n",
      "  0%|          | 0/1 [00:00<?, ?it/s]\u001b[A"
     ]
    },
    {
     "name": "stdout",
     "output_type": "stream",
     "text": [
      "\n",
      "model: Lasso\n",
      "alpha: 0.000325\n",
      "train stop: 56\n",
      "mean validation corr: 0.007001079672491393\n",
      "mean validation sharpe: 0.14346562347026434\n"
     ]
    },
    {
     "name": "stderr",
     "output_type": "stream",
     "text": [
      "\n",
      "100%|██████████| 1/1 [00:04<00:00,  4.91s/it]\n",
      "\n",
      "  0%|          | 0/1 [00:00<?, ?it/s]\u001b[A"
     ]
    },
    {
     "name": "stdout",
     "output_type": "stream",
     "text": [
      "\n",
      "model: Lasso\n",
      "alpha: 0.000325\n",
      "train stop: 57\n",
      "mean validation corr: 0.00765530999075551\n",
      "mean validation sharpe: 0.15412674927915776\n"
     ]
    },
    {
     "name": "stderr",
     "output_type": "stream",
     "text": [
      "\n",
      "100%|██████████| 1/1 [00:04<00:00,  4.55s/it]\n",
      "\n",
      "  0%|          | 0/1 [00:00<?, ?it/s]\u001b[A"
     ]
    },
    {
     "name": "stdout",
     "output_type": "stream",
     "text": [
      "\n",
      "model: Lasso\n",
      "alpha: 0.000325\n",
      "train stop: 58\n",
      "mean validation corr: 0.007054981421482288\n",
      "mean validation sharpe: 0.14621598144206224\n"
     ]
    },
    {
     "name": "stderr",
     "output_type": "stream",
     "text": [
      "\n",
      "100%|██████████| 1/1 [00:04<00:00,  4.35s/it]\n",
      "\n",
      "  0%|          | 0/1 [00:00<?, ?it/s]\u001b[A"
     ]
    },
    {
     "name": "stdout",
     "output_type": "stream",
     "text": [
      "\n",
      "model: Lasso\n",
      "alpha: 0.000325\n",
      "train stop: 59\n",
      "mean validation corr: 0.008611414025374714\n",
      "mean validation sharpe: 0.18285273221233417\n"
     ]
    },
    {
     "name": "stderr",
     "output_type": "stream",
     "text": [
      "\n",
      "100%|██████████| 1/1 [00:04<00:00,  4.46s/it]\n",
      "\n",
      "  0%|          | 0/1 [00:00<?, ?it/s]\u001b[A"
     ]
    },
    {
     "name": "stdout",
     "output_type": "stream",
     "text": [
      "\n",
      "model: Lasso\n",
      "alpha: 0.000325\n",
      "train stop: 60\n",
      "mean validation corr: 0.00808724536266141\n",
      "mean validation sharpe: 0.17768424013976467\n"
     ]
    },
    {
     "name": "stderr",
     "output_type": "stream",
     "text": [
      "\n",
      "100%|██████████| 1/1 [00:04<00:00,  4.56s/it]\n",
      "\n",
      "  0%|          | 0/1 [00:00<?, ?it/s]\u001b[A"
     ]
    },
    {
     "name": "stdout",
     "output_type": "stream",
     "text": [
      "\n",
      "model: Lasso\n",
      "alpha: 0.000325\n",
      "train stop: 61\n",
      "mean validation corr: 0.008503350861729613\n",
      "mean validation sharpe: 0.18430651733210637\n"
     ]
    },
    {
     "name": "stderr",
     "output_type": "stream",
     "text": [
      "\n",
      "100%|██████████| 1/1 [00:04<00:00,  4.71s/it]\n",
      "\n",
      "  0%|          | 0/1 [00:00<?, ?it/s]\u001b[A"
     ]
    },
    {
     "name": "stdout",
     "output_type": "stream",
     "text": [
      "\n",
      "model: Lasso\n",
      "alpha: 0.000325\n",
      "train stop: 62\n",
      "mean validation corr: 0.0055022717090475945\n",
      "mean validation sharpe: 0.11872376785815064\n"
     ]
    },
    {
     "name": "stderr",
     "output_type": "stream",
     "text": [
      "\n",
      "100%|██████████| 1/1 [00:04<00:00,  4.74s/it]\n",
      "\n",
      "  0%|          | 0/1 [00:00<?, ?it/s]\u001b[A"
     ]
    },
    {
     "name": "stdout",
     "output_type": "stream",
     "text": [
      "\n",
      "model: Lasso\n",
      "alpha: 0.000325\n",
      "train stop: 63\n",
      "mean validation corr: 0.00690390765115486\n",
      "mean validation sharpe: 0.14429656641443375\n"
     ]
    },
    {
     "name": "stderr",
     "output_type": "stream",
     "text": [
      "\n",
      "100%|██████████| 1/1 [00:04<00:00,  4.89s/it]\n",
      "\n",
      "  0%|          | 0/1 [00:00<?, ?it/s]\u001b[A"
     ]
    },
    {
     "name": "stdout",
     "output_type": "stream",
     "text": [
      "\n",
      "model: Lasso\n",
      "alpha: 0.000325\n",
      "train stop: 64\n",
      "mean validation corr: 0.007878247746417334\n",
      "mean validation sharpe: 0.16369444341077857\n"
     ]
    },
    {
     "name": "stderr",
     "output_type": "stream",
     "text": [
      "\n",
      "100%|██████████| 1/1 [00:05<00:00,  5.03s/it]\n",
      "\n",
      "  0%|          | 0/1 [00:00<?, ?it/s]\u001b[A"
     ]
    },
    {
     "name": "stdout",
     "output_type": "stream",
     "text": [
      "\n",
      "model: Lasso\n",
      "alpha: 0.000325\n",
      "train stop: 65\n",
      "mean validation corr: 0.00696844806524346\n",
      "mean validation sharpe: 0.14098535742114315\n"
     ]
    },
    {
     "name": "stderr",
     "output_type": "stream",
     "text": [
      "\n",
      "100%|██████████| 1/1 [00:05<00:00,  5.13s/it]\n",
      "\n",
      "  0%|          | 0/1 [00:00<?, ?it/s]\u001b[A"
     ]
    },
    {
     "name": "stdout",
     "output_type": "stream",
     "text": [
      "\n",
      "model: Lasso\n",
      "alpha: 0.000325\n",
      "train stop: 66\n",
      "mean validation corr: 0.006105507421900682\n",
      "mean validation sharpe: 0.12021801001110737\n"
     ]
    },
    {
     "name": "stderr",
     "output_type": "stream",
     "text": [
      "\n",
      "100%|██████████| 1/1 [00:05<00:00,  5.23s/it]\n",
      "\n",
      "  0%|          | 0/1 [00:00<?, ?it/s]\u001b[A"
     ]
    },
    {
     "name": "stdout",
     "output_type": "stream",
     "text": [
      "\n",
      "model: Lasso\n",
      "alpha: 0.000325\n",
      "train stop: 67\n",
      "mean validation corr: 0.007535524484256656\n",
      "mean validation sharpe: 0.14845386761089632\n"
     ]
    },
    {
     "name": "stderr",
     "output_type": "stream",
     "text": [
      "\n",
      "100%|██████████| 1/1 [00:05<00:00,  5.20s/it]\n",
      "\n",
      "  0%|          | 0/1 [00:00<?, ?it/s]\u001b[A"
     ]
    },
    {
     "name": "stdout",
     "output_type": "stream",
     "text": [
      "\n",
      "model: Lasso\n",
      "alpha: 0.000325\n",
      "train stop: 68\n",
      "mean validation corr: 0.0055405207750895726\n",
      "mean validation sharpe: 0.11016076781651517\n"
     ]
    },
    {
     "name": "stderr",
     "output_type": "stream",
     "text": [
      "\n",
      "100%|██████████| 1/1 [00:05<00:00,  5.37s/it]\n",
      "\n",
      "  0%|          | 0/1 [00:00<?, ?it/s]\u001b[A"
     ]
    },
    {
     "name": "stdout",
     "output_type": "stream",
     "text": [
      "\n",
      "model: Lasso\n",
      "alpha: 0.000325\n",
      "train stop: 69\n",
      "mean validation corr: 0.0014079874744073219\n",
      "mean validation sharpe: 0.026186187537917262\n"
     ]
    },
    {
     "name": "stderr",
     "output_type": "stream",
     "text": [
      "\n",
      "100%|██████████| 1/1 [00:05<00:00,  5.45s/it]\n",
      "\n",
      "  0%|          | 0/1 [00:00<?, ?it/s]\u001b[A"
     ]
    },
    {
     "name": "stdout",
     "output_type": "stream",
     "text": [
      "\n",
      "model: Lasso\n",
      "alpha: 0.000325\n",
      "train stop: 70\n",
      "mean validation corr: -9.906267622923279e-05\n",
      "mean validation sharpe: -0.0018446612887839217\n"
     ]
    },
    {
     "name": "stderr",
     "output_type": "stream",
     "text": [
      "\n",
      "100%|██████████| 1/1 [00:04<00:00,  4.80s/it]\n",
      "\n",
      "  0%|          | 0/1 [00:00<?, ?it/s]\u001b[A"
     ]
    },
    {
     "name": "stdout",
     "output_type": "stream",
     "text": [
      "\n",
      "model: Lasso\n",
      "alpha: 0.000325\n",
      "train stop: 71\n",
      "mean validation corr: 0.0013439190475750956\n",
      "mean validation sharpe: 0.02484964750739286\n"
     ]
    },
    {
     "name": "stderr",
     "output_type": "stream",
     "text": [
      "\n",
      "100%|██████████| 1/1 [00:05<00:00,  5.58s/it]\n",
      "\n",
      "  0%|          | 0/1 [00:00<?, ?it/s]\u001b[A"
     ]
    },
    {
     "name": "stdout",
     "output_type": "stream",
     "text": [
      "\n",
      "model: Lasso\n",
      "alpha: 0.000325\n",
      "train stop: 72\n",
      "mean validation corr: 0.003801104263238493\n",
      "mean validation sharpe: 0.07300884808092806\n"
     ]
    },
    {
     "name": "stderr",
     "output_type": "stream",
     "text": [
      "\n",
      "100%|██████████| 1/1 [00:05<00:00,  5.71s/it]\n",
      "\n",
      "  0%|          | 0/1 [00:00<?, ?it/s]\u001b[A"
     ]
    },
    {
     "name": "stdout",
     "output_type": "stream",
     "text": [
      "\n",
      "model: Lasso\n",
      "alpha: 0.000325\n",
      "train stop: 73\n",
      "mean validation corr: 0.002065436189922141\n",
      "mean validation sharpe: 0.041177073496311896\n"
     ]
    },
    {
     "name": "stderr",
     "output_type": "stream",
     "text": [
      "\n",
      "100%|██████████| 1/1 [00:05<00:00,  5.03s/it]\n",
      "\n",
      "  0%|          | 0/1 [00:00<?, ?it/s]\u001b[A"
     ]
    },
    {
     "name": "stdout",
     "output_type": "stream",
     "text": [
      "\n",
      "model: Lasso\n",
      "alpha: 0.000325\n",
      "train stop: 74\n",
      "mean validation corr: 0.004415957346036881\n",
      "mean validation sharpe: 0.09407775730602899\n"
     ]
    },
    {
     "name": "stderr",
     "output_type": "stream",
     "text": [
      "\n",
      "100%|██████████| 1/1 [00:05<00:00,  5.68s/it]\n",
      "\n",
      "  0%|          | 0/1 [00:00<?, ?it/s]\u001b[A"
     ]
    },
    {
     "name": "stdout",
     "output_type": "stream",
     "text": [
      "\n",
      "model: Lasso\n",
      "alpha: 0.000325\n",
      "train stop: 75\n",
      "mean validation corr: 0.006388140848318255\n",
      "mean validation sharpe: 0.13717971093940137\n"
     ]
    },
    {
     "name": "stderr",
     "output_type": "stream",
     "text": [
      "\n",
      "100%|██████████| 1/1 [00:05<00:00,  5.98s/it]\n",
      "\n",
      "  0%|          | 0/1 [00:00<?, ?it/s]\u001b[A"
     ]
    },
    {
     "name": "stdout",
     "output_type": "stream",
     "text": [
      "\n",
      "model: Lasso\n",
      "alpha: 0.000325\n",
      "train stop: 76\n",
      "mean validation corr: 0.0067135887640188355\n",
      "mean validation sharpe: 0.13837085228682625\n"
     ]
    },
    {
     "name": "stderr",
     "output_type": "stream",
     "text": [
      "\n",
      "100%|██████████| 1/1 [00:05<00:00,  5.79s/it]\n",
      "\n",
      "  0%|          | 0/1 [00:00<?, ?it/s]\u001b[A"
     ]
    },
    {
     "name": "stdout",
     "output_type": "stream",
     "text": [
      "\n",
      "model: Lasso\n",
      "alpha: 0.000325\n",
      "train stop: 77\n",
      "mean validation corr: 0.007330462445380543\n",
      "mean validation sharpe: 0.151734255110287\n"
     ]
    },
    {
     "name": "stderr",
     "output_type": "stream",
     "text": [
      "\n",
      "100%|██████████| 1/1 [00:05<00:00,  5.32s/it]\n",
      "\n",
      "  0%|          | 0/1 [00:00<?, ?it/s]\u001b[A"
     ]
    },
    {
     "name": "stdout",
     "output_type": "stream",
     "text": [
      "\n",
      "model: Lasso\n",
      "alpha: 0.000325\n",
      "train stop: 78\n",
      "mean validation corr: 0.007261006815982917\n",
      "mean validation sharpe: 0.15342624051855508\n"
     ]
    },
    {
     "name": "stderr",
     "output_type": "stream",
     "text": [
      "\n",
      "100%|██████████| 1/1 [00:05<00:00,  5.40s/it]\n",
      "\n",
      "  0%|          | 0/1 [00:00<?, ?it/s]\u001b[A"
     ]
    },
    {
     "name": "stdout",
     "output_type": "stream",
     "text": [
      "\n",
      "model: Lasso\n",
      "alpha: 0.000325\n",
      "train stop: 79\n",
      "mean validation corr: 0.00660521967874806\n",
      "mean validation sharpe: 0.13299487625632908\n"
     ]
    },
    {
     "name": "stderr",
     "output_type": "stream",
     "text": [
      "\n",
      "100%|██████████| 1/1 [00:05<00:00,  5.54s/it]\n",
      "\n",
      "  0%|          | 0/1 [00:00<?, ?it/s]\u001b[A"
     ]
    },
    {
     "name": "stdout",
     "output_type": "stream",
     "text": [
      "\n",
      "model: Lasso\n",
      "alpha: 0.000325\n",
      "train stop: 80\n",
      "mean validation corr: 0.0044371006629912255\n",
      "mean validation sharpe: 0.0892066899365428\n"
     ]
    },
    {
     "name": "stderr",
     "output_type": "stream",
     "text": [
      "\n",
      "100%|██████████| 1/1 [00:05<00:00,  5.55s/it]\n",
      "\n",
      "  0%|          | 0/1 [00:00<?, ?it/s]\u001b[A"
     ]
    },
    {
     "name": "stdout",
     "output_type": "stream",
     "text": [
      "\n",
      "model: Lasso\n",
      "alpha: 0.000325\n",
      "train stop: 81\n",
      "mean validation corr: 0.005705767837231385\n",
      "mean validation sharpe: 0.12081997824982757\n"
     ]
    },
    {
     "name": "stderr",
     "output_type": "stream",
     "text": [
      "\n",
      "100%|██████████| 1/1 [00:05<00:00,  5.88s/it]\n",
      "\n",
      "  0%|          | 0/1 [00:00<?, ?it/s]\u001b[A"
     ]
    },
    {
     "name": "stdout",
     "output_type": "stream",
     "text": [
      "\n",
      "model: Lasso\n",
      "alpha: 0.000325\n",
      "train stop: 82\n",
      "mean validation corr: 0.0039550464778381825\n",
      "mean validation sharpe: 0.08478208284477774\n"
     ]
    },
    {
     "name": "stderr",
     "output_type": "stream",
     "text": [
      "\n",
      "100%|██████████| 1/1 [00:05<00:00,  5.88s/it]\n",
      "\n",
      "  0%|          | 0/1 [00:00<?, ?it/s]\u001b[A"
     ]
    },
    {
     "name": "stdout",
     "output_type": "stream",
     "text": [
      "\n",
      "model: Lasso\n",
      "alpha: 0.000325\n",
      "train stop: 83\n",
      "mean validation corr: 0.004967550585364992\n",
      "mean validation sharpe: 0.10601978307216825\n"
     ]
    },
    {
     "name": "stderr",
     "output_type": "stream",
     "text": [
      "\n",
      "100%|██████████| 1/1 [00:05<00:00,  5.43s/it]\n",
      "\n",
      "  0%|          | 0/1 [00:00<?, ?it/s]\u001b[A"
     ]
    },
    {
     "name": "stdout",
     "output_type": "stream",
     "text": [
      "\n",
      "model: Lasso\n",
      "alpha: 0.000325\n",
      "train stop: 84\n",
      "mean validation corr: 0.004198568181753992\n",
      "mean validation sharpe: 0.09359290601279832\n"
     ]
    },
    {
     "name": "stderr",
     "output_type": "stream",
     "text": [
      "\n",
      "100%|██████████| 1/1 [00:05<00:00,  5.54s/it]\n",
      "\n",
      "  0%|          | 0/1 [00:00<?, ?it/s]\u001b[A"
     ]
    },
    {
     "name": "stdout",
     "output_type": "stream",
     "text": [
      "\n",
      "model: Lasso\n",
      "alpha: 0.000325\n",
      "train stop: 85\n",
      "mean validation corr: 0.004657744722763653\n",
      "mean validation sharpe: 0.105513228314093\n"
     ]
    },
    {
     "name": "stderr",
     "output_type": "stream",
     "text": [
      "\n",
      "100%|██████████| 1/1 [00:05<00:00,  5.71s/it]\n",
      "\n",
      "  0%|          | 0/1 [00:00<?, ?it/s]\u001b[A"
     ]
    },
    {
     "name": "stdout",
     "output_type": "stream",
     "text": [
      "\n",
      "model: Lasso\n",
      "alpha: 0.000325\n",
      "train stop: 86\n",
      "mean validation corr: 0.005355538888526398\n",
      "mean validation sharpe: 0.12297292428516993\n"
     ]
    },
    {
     "name": "stderr",
     "output_type": "stream",
     "text": [
      "\n",
      "100%|██████████| 1/1 [00:04<00:00,  4.99s/it]\n",
      "\n",
      "  0%|          | 0/1 [00:00<?, ?it/s]\u001b[A"
     ]
    },
    {
     "name": "stdout",
     "output_type": "stream",
     "text": [
      "\n",
      "model: Lasso\n",
      "alpha: 0.000325\n",
      "train stop: 87\n",
      "mean validation corr: 0.004801273442549268\n",
      "mean validation sharpe: 0.11156782833111557\n"
     ]
    },
    {
     "name": "stderr",
     "output_type": "stream",
     "text": [
      "\n",
      "100%|██████████| 1/1 [00:06<00:00,  6.00s/it]\n",
      "\n",
      "  0%|          | 0/1 [00:00<?, ?it/s]\u001b[A"
     ]
    },
    {
     "name": "stdout",
     "output_type": "stream",
     "text": [
      "\n",
      "model: Lasso\n",
      "alpha: 0.000325\n",
      "train stop: 88\n",
      "mean validation corr: 0.005314265077059033\n",
      "mean validation sharpe: 0.1194279107632315\n"
     ]
    },
    {
     "name": "stderr",
     "output_type": "stream",
     "text": [
      "\n",
      "100%|██████████| 1/1 [00:06<00:00,  6.23s/it]\n",
      "\n",
      "  0%|          | 0/1 [00:00<?, ?it/s]\u001b[A"
     ]
    },
    {
     "name": "stdout",
     "output_type": "stream",
     "text": [
      "\n",
      "model: Lasso\n",
      "alpha: 0.000325\n",
      "train stop: 89\n",
      "mean validation corr: 0.004573126678575085\n",
      "mean validation sharpe: 0.10134503321751456\n"
     ]
    },
    {
     "name": "stderr",
     "output_type": "stream",
     "text": [
      "\n",
      "100%|██████████| 1/1 [00:05<00:00,  5.65s/it]\n",
      "\n",
      "  0%|          | 0/1 [00:00<?, ?it/s]\u001b[A"
     ]
    },
    {
     "name": "stdout",
     "output_type": "stream",
     "text": [
      "\n",
      "model: Lasso\n",
      "alpha: 0.000325\n",
      "train stop: 90\n",
      "mean validation corr: 0.004264008780900214\n",
      "mean validation sharpe: 0.09421886859429664\n"
     ]
    },
    {
     "name": "stderr",
     "output_type": "stream",
     "text": [
      "\n",
      "100%|██████████| 1/1 [00:05<00:00,  5.28s/it]\n",
      "\n",
      "  0%|          | 0/1 [00:00<?, ?it/s]\u001b[A"
     ]
    },
    {
     "name": "stdout",
     "output_type": "stream",
     "text": [
      "\n",
      "model: Lasso\n",
      "alpha: 0.000325\n",
      "train stop: 91\n",
      "mean validation corr: 0.0039234570180976275\n",
      "mean validation sharpe: 0.08390521258491729\n"
     ]
    },
    {
     "name": "stderr",
     "output_type": "stream",
     "text": [
      "\n",
      "100%|██████████| 1/1 [00:05<00:00,  5.58s/it]\n",
      "\n",
      "  0%|          | 0/1 [00:00<?, ?it/s]\u001b[A"
     ]
    },
    {
     "name": "stdout",
     "output_type": "stream",
     "text": [
      "\n",
      "model: Lasso\n",
      "alpha: 0.000325\n",
      "train stop: 92\n",
      "mean validation corr: 0.004959000315818677\n",
      "mean validation sharpe: 0.10463672159144084\n"
     ]
    },
    {
     "name": "stderr",
     "output_type": "stream",
     "text": [
      "\n",
      "100%|██████████| 1/1 [00:05<00:00,  5.73s/it]\n",
      "\n",
      "  0%|          | 0/1 [00:00<?, ?it/s]\u001b[A"
     ]
    },
    {
     "name": "stdout",
     "output_type": "stream",
     "text": [
      "\n",
      "model: Lasso\n",
      "alpha: 0.000325\n",
      "train stop: 93\n",
      "mean validation corr: 0.005092449899185817\n",
      "mean validation sharpe: 0.10461235962229641\n"
     ]
    },
    {
     "name": "stderr",
     "output_type": "stream",
     "text": [
      "\n",
      "100%|██████████| 1/1 [00:05<00:00,  5.63s/it]\n",
      "\n",
      "  0%|          | 0/1 [00:00<?, ?it/s]\u001b[A"
     ]
    },
    {
     "name": "stdout",
     "output_type": "stream",
     "text": [
      "\n",
      "model: Lasso\n",
      "alpha: 0.000325\n",
      "train stop: 94\n",
      "mean validation corr: 0.006010349264642525\n",
      "mean validation sharpe: 0.126532244599218\n"
     ]
    },
    {
     "name": "stderr",
     "output_type": "stream",
     "text": [
      "\n",
      "100%|██████████| 1/1 [00:05<00:00,  5.70s/it]\n",
      "\n",
      "  0%|          | 0/1 [00:00<?, ?it/s]\u001b[A"
     ]
    },
    {
     "name": "stdout",
     "output_type": "stream",
     "text": [
      "\n",
      "model: Lasso\n",
      "alpha: 0.000325\n",
      "train stop: 95\n",
      "mean validation corr: 0.006919778403950333\n",
      "mean validation sharpe: 0.1482734518019498\n"
     ]
    },
    {
     "name": "stderr",
     "output_type": "stream",
     "text": [
      "\n",
      "100%|██████████| 1/1 [00:05<00:00,  5.81s/it]\n",
      "\n",
      "  0%|          | 0/1 [00:00<?, ?it/s]\u001b[A"
     ]
    },
    {
     "name": "stdout",
     "output_type": "stream",
     "text": [
      "\n",
      "model: Lasso\n",
      "alpha: 0.000325\n",
      "train stop: 96\n",
      "mean validation corr: 0.00756349770486817\n",
      "mean validation sharpe: 0.16097309732728066\n"
     ]
    },
    {
     "name": "stderr",
     "output_type": "stream",
     "text": [
      "\n",
      "100%|██████████| 1/1 [00:05<00:00,  5.80s/it]\n",
      "\n",
      "  0%|          | 0/1 [00:00<?, ?it/s]\u001b[A"
     ]
    },
    {
     "name": "stdout",
     "output_type": "stream",
     "text": [
      "\n",
      "model: Lasso\n",
      "alpha: 0.000325\n",
      "train stop: 97\n",
      "mean validation corr: 0.007583675117064337\n",
      "mean validation sharpe: 0.15989722268157708\n"
     ]
    },
    {
     "name": "stderr",
     "output_type": "stream",
     "text": [
      "\n",
      "100%|██████████| 1/1 [00:05<00:00,  5.81s/it]\n",
      "\n",
      "  0%|          | 0/1 [00:00<?, ?it/s]\u001b[A"
     ]
    },
    {
     "name": "stdout",
     "output_type": "stream",
     "text": [
      "\n",
      "model: Lasso\n",
      "alpha: 0.000325\n",
      "train stop: 98\n",
      "mean validation corr: 0.007631982224964204\n",
      "mean validation sharpe: 0.16339893506782754\n"
     ]
    },
    {
     "name": "stderr",
     "output_type": "stream",
     "text": [
      "\n",
      "100%|██████████| 1/1 [00:05<00:00,  5.80s/it]\n",
      "\n",
      "  0%|          | 0/1 [00:00<?, ?it/s]\u001b[A"
     ]
    },
    {
     "name": "stdout",
     "output_type": "stream",
     "text": [
      "\n",
      "model: Lasso\n",
      "alpha: 0.000325\n",
      "train stop: 99\n",
      "mean validation corr: 0.006867241365931203\n",
      "mean validation sharpe: 0.14591948080608816\n"
     ]
    },
    {
     "name": "stderr",
     "output_type": "stream",
     "text": [
      "\n",
      "100%|██████████| 1/1 [00:06<00:00,  6.05s/it]\n",
      "\n",
      "  0%|          | 0/1 [00:00<?, ?it/s]\u001b[A"
     ]
    },
    {
     "name": "stdout",
     "output_type": "stream",
     "text": [
      "\n",
      "model: Lasso\n",
      "alpha: 0.000325\n",
      "train stop: 100\n",
      "mean validation corr: 0.006228316909089312\n",
      "mean validation sharpe: 0.13417671086892077\n"
     ]
    },
    {
     "name": "stderr",
     "output_type": "stream",
     "text": [
      "\n",
      "100%|██████████| 1/1 [00:06<00:00,  6.22s/it]\n",
      "\n",
      "  0%|          | 0/1 [00:00<?, ?it/s]\u001b[A"
     ]
    },
    {
     "name": "stdout",
     "output_type": "stream",
     "text": [
      "\n",
      "model: Lasso\n",
      "alpha: 0.000325\n",
      "train stop: 101\n",
      "mean validation corr: 0.005258184202728817\n",
      "mean validation sharpe: 0.11444330949986972\n"
     ]
    },
    {
     "name": "stderr",
     "output_type": "stream",
     "text": [
      "\n",
      "100%|██████████| 1/1 [00:06<00:00,  6.18s/it]\n",
      "\n",
      "  0%|          | 0/1 [00:00<?, ?it/s]\u001b[A"
     ]
    },
    {
     "name": "stdout",
     "output_type": "stream",
     "text": [
      "\n",
      "model: Lasso\n",
      "alpha: 0.000325\n",
      "train stop: 102\n",
      "mean validation corr: 0.00545223621602749\n",
      "mean validation sharpe: 0.11749035763066805\n"
     ]
    },
    {
     "name": "stderr",
     "output_type": "stream",
     "text": [
      "\n",
      "100%|██████████| 1/1 [00:06<00:00,  6.16s/it]\n",
      "\n",
      "  0%|          | 0/1 [00:00<?, ?it/s]\u001b[A"
     ]
    },
    {
     "name": "stdout",
     "output_type": "stream",
     "text": [
      "\n",
      "model: Lasso\n",
      "alpha: 0.000325\n",
      "train stop: 103\n",
      "mean validation corr: 0.005277476037991521\n",
      "mean validation sharpe: 0.10919352156141685\n"
     ]
    },
    {
     "name": "stderr",
     "output_type": "stream",
     "text": [
      "\n",
      "100%|██████████| 1/1 [00:06<00:00,  6.32s/it]\n",
      "\n",
      "  0%|          | 0/1 [00:00<?, ?it/s]\u001b[A"
     ]
    },
    {
     "name": "stdout",
     "output_type": "stream",
     "text": [
      "\n",
      "model: Lasso\n",
      "alpha: 0.000325\n",
      "train stop: 104\n",
      "mean validation corr: 0.004527153524567101\n",
      "mean validation sharpe: 0.09512582227011257\n"
     ]
    },
    {
     "name": "stderr",
     "output_type": "stream",
     "text": [
      "\n",
      "100%|██████████| 1/1 [00:06<00:00,  6.22s/it]\n",
      "\n",
      "  0%|          | 0/1 [00:00<?, ?it/s]\u001b[A"
     ]
    },
    {
     "name": "stdout",
     "output_type": "stream",
     "text": [
      "\n",
      "model: Lasso\n",
      "alpha: 0.000325\n",
      "train stop: 105\n",
      "mean validation corr: 0.0067261319527110505\n",
      "mean validation sharpe: 0.133648698474359\n"
     ]
    },
    {
     "name": "stderr",
     "output_type": "stream",
     "text": [
      "\n",
      "100%|██████████| 1/1 [00:06<00:00,  6.28s/it]\n",
      "\n",
      "  0%|          | 0/1 [00:00<?, ?it/s]\u001b[A"
     ]
    },
    {
     "name": "stdout",
     "output_type": "stream",
     "text": [
      "\n",
      "model: Lasso\n",
      "alpha: 0.000325\n",
      "train stop: 106\n",
      "mean validation corr: 0.006549502882329113\n",
      "mean validation sharpe: 0.1318246402797841\n"
     ]
    },
    {
     "name": "stderr",
     "output_type": "stream",
     "text": [
      "\n",
      "100%|██████████| 1/1 [00:06<00:00,  6.21s/it]\n",
      "\n",
      "  0%|          | 0/1 [00:00<?, ?it/s]\u001b[A"
     ]
    },
    {
     "name": "stdout",
     "output_type": "stream",
     "text": [
      "\n",
      "model: Lasso\n",
      "alpha: 0.000325\n",
      "train stop: 107\n",
      "mean validation corr: 0.005719730044536259\n",
      "mean validation sharpe: 0.11518413786737774\n"
     ]
    },
    {
     "name": "stderr",
     "output_type": "stream",
     "text": [
      "\n",
      "100%|██████████| 1/1 [00:06<00:00,  6.41s/it]\n",
      "\n",
      "  0%|          | 0/1 [00:00<?, ?it/s]\u001b[A"
     ]
    },
    {
     "name": "stdout",
     "output_type": "stream",
     "text": [
      "\n",
      "model: Lasso\n",
      "alpha: 0.000325\n",
      "train stop: 108\n",
      "mean validation corr: 0.0063917264296433855\n",
      "mean validation sharpe: 0.12772452701990022\n"
     ]
    },
    {
     "name": "stderr",
     "output_type": "stream",
     "text": [
      "\n",
      "100%|██████████| 1/1 [00:06<00:00,  6.63s/it]\n",
      "\n",
      "  0%|          | 0/1 [00:00<?, ?it/s]\u001b[A"
     ]
    },
    {
     "name": "stdout",
     "output_type": "stream",
     "text": [
      "\n",
      "model: Lasso\n",
      "alpha: 0.000325\n",
      "train stop: 109\n",
      "mean validation corr: 0.007460022801674808\n",
      "mean validation sharpe: 0.15097226880993647\n"
     ]
    },
    {
     "name": "stderr",
     "output_type": "stream",
     "text": [
      "\n",
      "100%|██████████| 1/1 [00:06<00:00,  6.36s/it]\n",
      "\n",
      "  0%|          | 0/1 [00:00<?, ?it/s]\u001b[A"
     ]
    },
    {
     "name": "stdout",
     "output_type": "stream",
     "text": [
      "\n",
      "model: Lasso\n",
      "alpha: 0.000325\n",
      "train stop: 110\n",
      "mean validation corr: 0.007937542981594874\n",
      "mean validation sharpe: 0.16434020537905317\n"
     ]
    },
    {
     "name": "stderr",
     "output_type": "stream",
     "text": [
      "\n",
      "100%|██████████| 1/1 [00:06<00:00,  6.57s/it]\n",
      "\n",
      "  0%|          | 0/1 [00:00<?, ?it/s]\u001b[A"
     ]
    },
    {
     "name": "stdout",
     "output_type": "stream",
     "text": [
      "\n",
      "model: Lasso\n",
      "alpha: 0.000325\n",
      "train stop: 111\n",
      "mean validation corr: 0.00661892225857416\n",
      "mean validation sharpe: 0.1336323228456004\n"
     ]
    },
    {
     "name": "stderr",
     "output_type": "stream",
     "text": [
      "\n",
      "100%|██████████| 1/1 [00:06<00:00,  6.83s/it]\n",
      "\n",
      "  0%|          | 0/1 [00:00<?, ?it/s]\u001b[A"
     ]
    },
    {
     "name": "stdout",
     "output_type": "stream",
     "text": [
      "\n",
      "model: Lasso\n",
      "alpha: 0.000325\n",
      "train stop: 112\n",
      "mean validation corr: 0.006501328337231613\n",
      "mean validation sharpe: 0.12910959268067598\n"
     ]
    },
    {
     "name": "stderr",
     "output_type": "stream",
     "text": [
      "\n",
      "100%|██████████| 1/1 [00:06<00:00,  6.65s/it]\n",
      "\n",
      "  0%|          | 0/1 [00:00<?, ?it/s]\u001b[A"
     ]
    },
    {
     "name": "stdout",
     "output_type": "stream",
     "text": [
      "\n",
      "model: Lasso\n",
      "alpha: 0.000325\n",
      "train stop: 113\n",
      "mean validation corr: 0.007035304191138351\n",
      "mean validation sharpe: 0.13604270438816635\n"
     ]
    },
    {
     "name": "stderr",
     "output_type": "stream",
     "text": [
      "\n",
      "100%|██████████| 1/1 [00:07<00:00,  7.04s/it]\n",
      "\n",
      "  0%|          | 0/1 [00:00<?, ?it/s]\u001b[A"
     ]
    },
    {
     "name": "stdout",
     "output_type": "stream",
     "text": [
      "\n",
      "model: Lasso\n",
      "alpha: 0.000325\n",
      "train stop: 114\n",
      "mean validation corr: 0.005858802285038659\n",
      "mean validation sharpe: 0.11050493908003114\n"
     ]
    },
    {
     "name": "stderr",
     "output_type": "stream",
     "text": [
      "\n",
      "100%|██████████| 1/1 [00:08<00:00,  8.07s/it]\n",
      "\n",
      "  0%|          | 0/1 [00:00<?, ?it/s]\u001b[A"
     ]
    },
    {
     "name": "stdout",
     "output_type": "stream",
     "text": [
      "\n",
      "model: Lasso\n",
      "alpha: 0.000325\n",
      "train stop: 115\n",
      "mean validation corr: 0.005456993798633502\n",
      "mean validation sharpe: 0.10186711544008059\n"
     ]
    },
    {
     "name": "stderr",
     "output_type": "stream",
     "text": [
      "\n",
      "100%|██████████| 1/1 [00:08<00:00,  8.24s/it]\n",
      "\n",
      "  0%|          | 0/1 [00:00<?, ?it/s]\u001b[A"
     ]
    },
    {
     "name": "stdout",
     "output_type": "stream",
     "text": [
      "\n",
      "model: Lasso\n",
      "alpha: 0.000325\n",
      "train stop: 116\n",
      "mean validation corr: 0.004726478881003514\n",
      "mean validation sharpe: 0.08920136376234107\n"
     ]
    },
    {
     "name": "stderr",
     "output_type": "stream",
     "text": [
      "\n",
      "100%|██████████| 1/1 [00:08<00:00,  8.22s/it]\n",
      "\n",
      "  0%|          | 0/1 [00:00<?, ?it/s]\u001b[A"
     ]
    },
    {
     "name": "stdout",
     "output_type": "stream",
     "text": [
      "\n",
      "model: Lasso\n",
      "alpha: 0.000325\n",
      "train stop: 117\n",
      "mean validation corr: 0.0055794941582730725\n",
      "mean validation sharpe: 0.10697037703909669\n"
     ]
    },
    {
     "name": "stderr",
     "output_type": "stream",
     "text": [
      "\n",
      "100%|██████████| 1/1 [00:08<00:00,  8.31s/it]\n",
      "\n",
      "  0%|          | 0/1 [00:00<?, ?it/s]\u001b[A"
     ]
    },
    {
     "name": "stdout",
     "output_type": "stream",
     "text": [
      "\n",
      "model: Lasso\n",
      "alpha: 0.000325\n",
      "train stop: 118\n",
      "mean validation corr: 0.0057788686435978846\n",
      "mean validation sharpe: 0.11110060778840358\n"
     ]
    },
    {
     "name": "stderr",
     "output_type": "stream",
     "text": [
      "\n",
      "100%|██████████| 1/1 [00:08<00:00,  8.19s/it]\n",
      "\n",
      "  0%|          | 0/1 [00:00<?, ?it/s]\u001b[A"
     ]
    },
    {
     "name": "stdout",
     "output_type": "stream",
     "text": [
      "\n",
      "model: Lasso\n",
      "alpha: 0.000325\n",
      "train stop: 119\n",
      "mean validation corr: 0.00599284848152464\n",
      "mean validation sharpe: 0.11777562049969957\n"
     ]
    },
    {
     "name": "stderr",
     "output_type": "stream",
     "text": [
      "\n",
      "100%|██████████| 1/1 [00:08<00:00,  8.18s/it]\n",
      "\n",
      "  0%|          | 0/1 [00:00<?, ?it/s]\u001b[A"
     ]
    },
    {
     "name": "stdout",
     "output_type": "stream",
     "text": [
      "\n",
      "model: Lasso\n",
      "alpha: 0.000325\n",
      "train stop: 120\n",
      "mean validation corr: 0.0059764515349355896\n",
      "mean validation sharpe: 0.11921272925731165\n"
     ]
    },
    {
     "name": "stderr",
     "output_type": "stream",
     "text": [
      "\n",
      "100%|██████████| 1/1 [00:08<00:00,  8.39s/it]\n",
      "\n",
      "  0%|          | 0/1 [00:00<?, ?it/s]\u001b[A"
     ]
    },
    {
     "name": "stdout",
     "output_type": "stream",
     "text": [
      "\n",
      "model: Lasso\n",
      "alpha: 0.000325\n",
      "train stop: 121\n",
      "mean validation corr: 0.005676820434239435\n",
      "mean validation sharpe: 0.11376758144957992\n"
     ]
    },
    {
     "name": "stderr",
     "output_type": "stream",
     "text": [
      "\n",
      "100%|██████████| 1/1 [00:09<00:00,  9.10s/it]\n",
      "\n",
      "  0%|          | 0/1 [00:00<?, ?it/s]\u001b[A"
     ]
    },
    {
     "name": "stdout",
     "output_type": "stream",
     "text": [
      "\n",
      "model: Lasso\n",
      "alpha: 0.000325\n",
      "train stop: 122\n",
      "mean validation corr: 0.005182165527801531\n",
      "mean validation sharpe: 0.1055169224259337\n"
     ]
    },
    {
     "name": "stderr",
     "output_type": "stream",
     "text": [
      "\n",
      "100%|██████████| 1/1 [00:08<00:00,  8.74s/it]\n",
      "\n",
      "  0%|          | 0/1 [00:00<?, ?it/s]\u001b[A"
     ]
    },
    {
     "name": "stdout",
     "output_type": "stream",
     "text": [
      "\n",
      "model: Lasso\n",
      "alpha: 0.000325\n",
      "train stop: 123\n",
      "mean validation corr: 0.005457211537321304\n",
      "mean validation sharpe: 0.10952971131757723\n"
     ]
    },
    {
     "name": "stderr",
     "output_type": "stream",
     "text": [
      "\n",
      "100%|██████████| 1/1 [00:09<00:00,  9.17s/it]\n",
      "\n",
      "  0%|          | 0/1 [00:00<?, ?it/s]\u001b[A"
     ]
    },
    {
     "name": "stdout",
     "output_type": "stream",
     "text": [
      "\n",
      "model: Lasso\n",
      "alpha: 0.000325\n",
      "train stop: 124\n",
      "mean validation corr: 0.005978126779949642\n",
      "mean validation sharpe: 0.1226066836943918\n"
     ]
    },
    {
     "name": "stderr",
     "output_type": "stream",
     "text": [
      "\n",
      "100%|██████████| 1/1 [00:09<00:00,  9.72s/it]\n",
      "\n",
      "  0%|          | 0/1 [00:00<?, ?it/s]\u001b[A"
     ]
    },
    {
     "name": "stdout",
     "output_type": "stream",
     "text": [
      "\n",
      "model: Lasso\n",
      "alpha: 0.000325\n",
      "train stop: 125\n",
      "mean validation corr: 0.00641256683766883\n",
      "mean validation sharpe: 0.12810760206104632\n"
     ]
    },
    {
     "name": "stderr",
     "output_type": "stream",
     "text": [
      "\n",
      "100%|██████████| 1/1 [00:08<00:00,  8.83s/it]\n",
      "\n",
      "  0%|          | 0/1 [00:00<?, ?it/s]\u001b[A"
     ]
    },
    {
     "name": "stdout",
     "output_type": "stream",
     "text": [
      "\n",
      "model: Lasso\n",
      "alpha: 0.000325\n",
      "train stop: 126\n",
      "mean validation corr: 0.006520050891993276\n",
      "mean validation sharpe: 0.13070081662188884\n"
     ]
    },
    {
     "name": "stderr",
     "output_type": "stream",
     "text": [
      "\n",
      "100%|██████████| 1/1 [00:09<00:00,  9.48s/it]\n",
      "\n",
      "  0%|          | 0/1 [00:00<?, ?it/s]\u001b[A"
     ]
    },
    {
     "name": "stdout",
     "output_type": "stream",
     "text": [
      "\n",
      "model: Lasso\n",
      "alpha: 0.000325\n",
      "train stop: 127\n",
      "mean validation corr: 0.006146687234614699\n",
      "mean validation sharpe: 0.12119820998599685\n"
     ]
    },
    {
     "name": "stderr",
     "output_type": "stream",
     "text": [
      "\n",
      "100%|██████████| 1/1 [00:09<00:00,  9.60s/it]\n",
      "\n",
      "  0%|          | 0/1 [00:00<?, ?it/s]\u001b[A"
     ]
    },
    {
     "name": "stdout",
     "output_type": "stream",
     "text": [
      "\n",
      "model: Lasso\n",
      "alpha: 0.000325\n",
      "train stop: 128\n",
      "mean validation corr: 0.0060017428479286206\n",
      "mean validation sharpe: 0.11886113130318529\n"
     ]
    },
    {
     "name": "stderr",
     "output_type": "stream",
     "text": [
      "\n",
      "100%|██████████| 1/1 [00:10<00:00, 10.01s/it]\n",
      "\n",
      "  0%|          | 0/1 [00:00<?, ?it/s]\u001b[A"
     ]
    },
    {
     "name": "stdout",
     "output_type": "stream",
     "text": [
      "\n",
      "model: Lasso\n",
      "alpha: 0.000325\n",
      "train stop: 129\n",
      "mean validation corr: 0.005822982959023502\n",
      "mean validation sharpe: 0.11869268880272348\n"
     ]
    },
    {
     "name": "stderr",
     "output_type": "stream",
     "text": [
      "\n",
      "100%|██████████| 1/1 [00:09<00:00,  9.77s/it]\n",
      "\n",
      "  0%|          | 0/1 [00:00<?, ?it/s]\u001b[A"
     ]
    },
    {
     "name": "stdout",
     "output_type": "stream",
     "text": [
      "\n",
      "model: Lasso\n",
      "alpha: 0.000325\n",
      "train stop: 130\n",
      "mean validation corr: 0.005814168483777766\n",
      "mean validation sharpe: 0.11861759994489286\n"
     ]
    },
    {
     "name": "stderr",
     "output_type": "stream",
     "text": [
      "\n",
      "100%|██████████| 1/1 [00:09<00:00,  9.51s/it]\n",
      "\n",
      "  0%|          | 0/1 [00:00<?, ?it/s]\u001b[A"
     ]
    },
    {
     "name": "stdout",
     "output_type": "stream",
     "text": [
      "\n",
      "model: Lasso\n",
      "alpha: 0.000325\n",
      "train stop: 131\n",
      "mean validation corr: 0.0055138425789865685\n",
      "mean validation sharpe: 0.11101628215642804\n"
     ]
    },
    {
     "name": "stderr",
     "output_type": "stream",
     "text": [
      "\n",
      "100%|██████████| 1/1 [00:01<00:00,  1.68s/it]\n",
      "\n",
      "  0%|          | 0/1 [00:00<?, ?it/s]\u001b[A"
     ]
    },
    {
     "name": "stdout",
     "output_type": "stream",
     "text": [
      "\n",
      "model: Lasso\n",
      "alpha: 0.00055\n",
      "train stop: 25\n",
      "mean validation corr: 0.004163993992436606\n",
      "mean validation sharpe: 0.10374513178449021\n"
     ]
    },
    {
     "name": "stderr",
     "output_type": "stream",
     "text": [
      "\n",
      "100%|██████████| 1/1 [00:01<00:00,  1.42s/it]\n",
      "\n",
      "  0%|          | 0/1 [00:00<?, ?it/s]\u001b[A"
     ]
    },
    {
     "name": "stdout",
     "output_type": "stream",
     "text": [
      "\n",
      "model: Lasso\n",
      "alpha: 0.00055\n",
      "train stop: 26\n",
      "mean validation corr: 0.004530807080323778\n",
      "mean validation sharpe: 0.1096732759999967\n"
     ]
    },
    {
     "name": "stderr",
     "output_type": "stream",
     "text": [
      "\n",
      "100%|██████████| 1/1 [00:01<00:00,  1.54s/it]\n",
      "\n",
      "  0%|          | 0/1 [00:00<?, ?it/s]\u001b[A"
     ]
    },
    {
     "name": "stdout",
     "output_type": "stream",
     "text": [
      "\n",
      "model: Lasso\n",
      "alpha: 0.00055\n",
      "train stop: 27\n",
      "mean validation corr: 0.0034624168460710737\n",
      "mean validation sharpe: 0.08800022760095783\n"
     ]
    },
    {
     "name": "stderr",
     "output_type": "stream",
     "text": [
      "\n",
      "100%|██████████| 1/1 [00:01<00:00,  1.62s/it]\n",
      "\n",
      "  0%|          | 0/1 [00:00<?, ?it/s]\u001b[A"
     ]
    },
    {
     "name": "stdout",
     "output_type": "stream",
     "text": [
      "\n",
      "model: Lasso\n",
      "alpha: 0.00055\n",
      "train stop: 28\n",
      "mean validation corr: 0.003882578494530324\n",
      "mean validation sharpe: 0.09985868457634689\n"
     ]
    },
    {
     "name": "stderr",
     "output_type": "stream",
     "text": [
      "\n",
      "100%|██████████| 1/1 [00:01<00:00,  1.65s/it]\n",
      "\n",
      "  0%|          | 0/1 [00:00<?, ?it/s]\u001b[A"
     ]
    },
    {
     "name": "stdout",
     "output_type": "stream",
     "text": [
      "\n",
      "model: Lasso\n",
      "alpha: 0.00055\n",
      "train stop: 29\n",
      "mean validation corr: 0.003720677699758373\n",
      "mean validation sharpe: 0.10329028146775275\n"
     ]
    },
    {
     "name": "stderr",
     "output_type": "stream",
     "text": [
      "\n",
      "100%|██████████| 1/1 [00:01<00:00,  1.72s/it]\n",
      "\n",
      "  0%|          | 0/1 [00:00<?, ?it/s]\u001b[A"
     ]
    },
    {
     "name": "stdout",
     "output_type": "stream",
     "text": [
      "\n",
      "model: Lasso\n",
      "alpha: 0.00055\n",
      "train stop: 30\n",
      "mean validation corr: 0.006800059485084425\n",
      "mean validation sharpe: 0.18246401699157727\n"
     ]
    },
    {
     "name": "stderr",
     "output_type": "stream",
     "text": [
      "\n",
      "100%|██████████| 1/1 [00:01<00:00,  1.75s/it]\n",
      "\n",
      "  0%|          | 0/1 [00:00<?, ?it/s]\u001b[A"
     ]
    },
    {
     "name": "stdout",
     "output_type": "stream",
     "text": [
      "\n",
      "model: Lasso\n",
      "alpha: 0.00055\n",
      "train stop: 31\n",
      "mean validation corr: 0.005581685883299808\n",
      "mean validation sharpe: 0.142756931829306\n"
     ]
    },
    {
     "name": "stderr",
     "output_type": "stream",
     "text": [
      "\n",
      "100%|██████████| 1/1 [00:01<00:00,  1.66s/it]\n",
      "\n",
      "  0%|          | 0/1 [00:00<?, ?it/s]\u001b[A"
     ]
    },
    {
     "name": "stdout",
     "output_type": "stream",
     "text": [
      "\n",
      "model: Lasso\n",
      "alpha: 0.00055\n",
      "train stop: 32\n",
      "mean validation corr: 0.006929835918109192\n",
      "mean validation sharpe: 0.17570856835501852\n"
     ]
    },
    {
     "name": "stderr",
     "output_type": "stream",
     "text": [
      "\n",
      "100%|██████████| 1/1 [00:01<00:00,  1.71s/it]\n",
      "\n",
      "  0%|          | 0/1 [00:00<?, ?it/s]\u001b[A"
     ]
    },
    {
     "name": "stdout",
     "output_type": "stream",
     "text": [
      "\n",
      "model: Lasso\n",
      "alpha: 0.00055\n",
      "train stop: 33\n",
      "mean validation corr: 0.005935597767395684\n",
      "mean validation sharpe: 0.15042835240614746\n"
     ]
    },
    {
     "name": "stderr",
     "output_type": "stream",
     "text": [
      "\n",
      "100%|██████████| 1/1 [00:01<00:00,  1.79s/it]\n",
      "\n",
      "  0%|          | 0/1 [00:00<?, ?it/s]\u001b[A"
     ]
    },
    {
     "name": "stdout",
     "output_type": "stream",
     "text": [
      "\n",
      "model: Lasso\n",
      "alpha: 0.00055\n",
      "train stop: 34\n",
      "mean validation corr: 0.007099241545193587\n",
      "mean validation sharpe: 0.18479973372471592\n"
     ]
    },
    {
     "name": "stderr",
     "output_type": "stream",
     "text": [
      "\n",
      "100%|██████████| 1/1 [00:01<00:00,  1.81s/it]\n",
      "\n",
      "  0%|          | 0/1 [00:00<?, ?it/s]\u001b[A"
     ]
    },
    {
     "name": "stdout",
     "output_type": "stream",
     "text": [
      "\n",
      "model: Lasso\n",
      "alpha: 0.00055\n",
      "train stop: 35\n",
      "mean validation corr: 0.008184500962395135\n",
      "mean validation sharpe: 0.2050799648916502\n"
     ]
    },
    {
     "name": "stderr",
     "output_type": "stream",
     "text": [
      "\n",
      "100%|██████████| 1/1 [00:01<00:00,  1.88s/it]\n",
      "\n",
      "  0%|          | 0/1 [00:00<?, ?it/s]\u001b[A"
     ]
    },
    {
     "name": "stdout",
     "output_type": "stream",
     "text": [
      "\n",
      "model: Lasso\n",
      "alpha: 0.00055\n",
      "train stop: 36\n",
      "mean validation corr: 0.008069820304380082\n",
      "mean validation sharpe: 0.2044151434741154\n"
     ]
    },
    {
     "name": "stderr",
     "output_type": "stream",
     "text": [
      "\n",
      "100%|██████████| 1/1 [00:01<00:00,  1.88s/it]\n",
      "\n",
      "  0%|          | 0/1 [00:00<?, ?it/s]\u001b[A"
     ]
    },
    {
     "name": "stdout",
     "output_type": "stream",
     "text": [
      "\n",
      "model: Lasso\n",
      "alpha: 0.00055\n",
      "train stop: 37\n",
      "mean validation corr: 0.008179729847797301\n",
      "mean validation sharpe: 0.20902448281247996\n"
     ]
    },
    {
     "name": "stderr",
     "output_type": "stream",
     "text": [
      "\n",
      "100%|██████████| 1/1 [00:02<00:00,  2.07s/it]\n",
      "\n",
      "  0%|          | 0/1 [00:00<?, ?it/s]\u001b[A"
     ]
    },
    {
     "name": "stdout",
     "output_type": "stream",
     "text": [
      "\n",
      "model: Lasso\n",
      "alpha: 0.00055\n",
      "train stop: 38\n",
      "mean validation corr: 0.006858832262829184\n",
      "mean validation sharpe: 0.1776030986204301\n"
     ]
    },
    {
     "name": "stderr",
     "output_type": "stream",
     "text": [
      "\n",
      "100%|██████████| 1/1 [00:02<00:00,  2.17s/it]\n",
      "\n",
      "  0%|          | 0/1 [00:00<?, ?it/s]\u001b[A"
     ]
    },
    {
     "name": "stdout",
     "output_type": "stream",
     "text": [
      "\n",
      "model: Lasso\n",
      "alpha: 0.00055\n",
      "train stop: 39\n",
      "mean validation corr: 0.006717239893233876\n",
      "mean validation sharpe: 0.17706341590649843\n"
     ]
    },
    {
     "name": "stderr",
     "output_type": "stream",
     "text": [
      "\n",
      "100%|██████████| 1/1 [00:02<00:00,  2.37s/it]\n",
      "\n",
      "  0%|          | 0/1 [00:00<?, ?it/s]\u001b[A"
     ]
    },
    {
     "name": "stdout",
     "output_type": "stream",
     "text": [
      "\n",
      "model: Lasso\n",
      "alpha: 0.00055\n",
      "train stop: 40\n",
      "mean validation corr: 0.006364109814907121\n",
      "mean validation sharpe: 0.1679894954688978\n"
     ]
    },
    {
     "name": "stderr",
     "output_type": "stream",
     "text": [
      "\n",
      "100%|██████████| 1/1 [00:02<00:00,  2.31s/it]\n",
      "\n",
      "  0%|          | 0/1 [00:00<?, ?it/s]\u001b[A"
     ]
    },
    {
     "name": "stdout",
     "output_type": "stream",
     "text": [
      "\n",
      "model: Lasso\n",
      "alpha: 0.00055\n",
      "train stop: 41\n",
      "mean validation corr: 0.005585831028577301\n",
      "mean validation sharpe: 0.14326407669480282\n"
     ]
    },
    {
     "name": "stderr",
     "output_type": "stream",
     "text": [
      "\n",
      "100%|██████████| 1/1 [00:02<00:00,  2.41s/it]\n",
      "\n",
      "  0%|          | 0/1 [00:00<?, ?it/s]\u001b[A"
     ]
    },
    {
     "name": "stdout",
     "output_type": "stream",
     "text": [
      "\n",
      "model: Lasso\n",
      "alpha: 0.00055\n",
      "train stop: 42\n",
      "mean validation corr: 0.006600103409808182\n",
      "mean validation sharpe: 0.16700841516878664\n"
     ]
    },
    {
     "name": "stderr",
     "output_type": "stream",
     "text": [
      "\n",
      "100%|██████████| 1/1 [00:02<00:00,  2.44s/it]\n",
      "\n",
      "  0%|          | 0/1 [00:00<?, ?it/s]\u001b[A"
     ]
    },
    {
     "name": "stdout",
     "output_type": "stream",
     "text": [
      "\n",
      "model: Lasso\n",
      "alpha: 0.00055\n",
      "train stop: 43\n",
      "mean validation corr: 0.006476185384473369\n",
      "mean validation sharpe: 0.16099513310321972\n"
     ]
    },
    {
     "name": "stderr",
     "output_type": "stream",
     "text": [
      "\n",
      "100%|██████████| 1/1 [00:02<00:00,  2.63s/it]\n",
      "\n",
      "  0%|          | 0/1 [00:00<?, ?it/s]\u001b[A"
     ]
    },
    {
     "name": "stdout",
     "output_type": "stream",
     "text": [
      "\n",
      "model: Lasso\n",
      "alpha: 0.00055\n",
      "train stop: 44\n",
      "mean validation corr: 0.006944659824337845\n",
      "mean validation sharpe: 0.168942445071659\n"
     ]
    },
    {
     "name": "stderr",
     "output_type": "stream",
     "text": [
      "\n",
      "100%|██████████| 1/1 [00:02<00:00,  2.73s/it]\n",
      "\n",
      "  0%|          | 0/1 [00:00<?, ?it/s]\u001b[A"
     ]
    },
    {
     "name": "stdout",
     "output_type": "stream",
     "text": [
      "\n",
      "model: Lasso\n",
      "alpha: 0.00055\n",
      "train stop: 45\n",
      "mean validation corr: 0.00769888965566398\n",
      "mean validation sharpe: 0.17890595398211423\n"
     ]
    },
    {
     "name": "stderr",
     "output_type": "stream",
     "text": [
      "\n",
      "100%|██████████| 1/1 [00:02<00:00,  2.93s/it]\n",
      "\n",
      "  0%|          | 0/1 [00:00<?, ?it/s]\u001b[A"
     ]
    },
    {
     "name": "stdout",
     "output_type": "stream",
     "text": [
      "\n",
      "model: Lasso\n",
      "alpha: 0.00055\n",
      "train stop: 46\n",
      "mean validation corr: 0.006497835677977145\n",
      "mean validation sharpe: 0.15914960651107604\n"
     ]
    },
    {
     "name": "stderr",
     "output_type": "stream",
     "text": [
      "\n",
      "100%|██████████| 1/1 [00:03<00:00,  3.02s/it]\n",
      "\n",
      "  0%|          | 0/1 [00:00<?, ?it/s]\u001b[A"
     ]
    },
    {
     "name": "stdout",
     "output_type": "stream",
     "text": [
      "\n",
      "model: Lasso\n",
      "alpha: 0.00055\n",
      "train stop: 47\n",
      "mean validation corr: 0.007516201139314024\n",
      "mean validation sharpe: 0.17973061560941647\n"
     ]
    },
    {
     "name": "stderr",
     "output_type": "stream",
     "text": [
      "\n",
      "100%|██████████| 1/1 [00:02<00:00,  3.00s/it]\n",
      "\n",
      "  0%|          | 0/1 [00:00<?, ?it/s]\u001b[A"
     ]
    },
    {
     "name": "stdout",
     "output_type": "stream",
     "text": [
      "\n",
      "model: Lasso\n",
      "alpha: 0.00055\n",
      "train stop: 48\n",
      "mean validation corr: 0.00905776370284749\n",
      "mean validation sharpe: 0.2195765475715872\n"
     ]
    },
    {
     "name": "stderr",
     "output_type": "stream",
     "text": [
      "\n",
      "100%|██████████| 1/1 [00:03<00:00,  3.08s/it]\n",
      "\n",
      "  0%|          | 0/1 [00:00<?, ?it/s]\u001b[A"
     ]
    },
    {
     "name": "stdout",
     "output_type": "stream",
     "text": [
      "\n",
      "model: Lasso\n",
      "alpha: 0.00055\n",
      "train stop: 49\n",
      "mean validation corr: 0.010254810547990593\n",
      "mean validation sharpe: 0.25889819118273766\n"
     ]
    },
    {
     "name": "stderr",
     "output_type": "stream",
     "text": [
      "\n",
      "100%|██████████| 1/1 [00:03<00:00,  3.26s/it]\n",
      "\n",
      "  0%|          | 0/1 [00:00<?, ?it/s]\u001b[A"
     ]
    },
    {
     "name": "stdout",
     "output_type": "stream",
     "text": [
      "\n",
      "model: Lasso\n",
      "alpha: 0.00055\n",
      "train stop: 50\n",
      "mean validation corr: 0.010776041128449753\n",
      "mean validation sharpe: 0.26562163041344056\n"
     ]
    },
    {
     "name": "stderr",
     "output_type": "stream",
     "text": [
      "\n",
      "100%|██████████| 1/1 [00:03<00:00,  3.43s/it]\n",
      "\n",
      "  0%|          | 0/1 [00:00<?, ?it/s]\u001b[A"
     ]
    },
    {
     "name": "stdout",
     "output_type": "stream",
     "text": [
      "\n",
      "model: Lasso\n",
      "alpha: 0.00055\n",
      "train stop: 51\n",
      "mean validation corr: 0.010030201559044369\n",
      "mean validation sharpe: 0.23216716167825385\n"
     ]
    },
    {
     "name": "stderr",
     "output_type": "stream",
     "text": [
      "\n",
      "100%|██████████| 1/1 [00:03<00:00,  3.53s/it]\n",
      "\n",
      "  0%|          | 0/1 [00:00<?, ?it/s]\u001b[A"
     ]
    },
    {
     "name": "stdout",
     "output_type": "stream",
     "text": [
      "\n",
      "model: Lasso\n",
      "alpha: 0.00055\n",
      "train stop: 52\n",
      "mean validation corr: 0.010708524301072728\n",
      "mean validation sharpe: 0.253687859621184\n"
     ]
    },
    {
     "name": "stderr",
     "output_type": "stream",
     "text": [
      "\n",
      "100%|██████████| 1/1 [00:03<00:00,  3.48s/it]\n",
      "\n",
      "  0%|          | 0/1 [00:00<?, ?it/s]\u001b[A"
     ]
    },
    {
     "name": "stdout",
     "output_type": "stream",
     "text": [
      "\n",
      "model: Lasso\n",
      "alpha: 0.00055\n",
      "train stop: 53\n",
      "mean validation corr: 0.010674543646861462\n",
      "mean validation sharpe: 0.2618981432632861\n"
     ]
    },
    {
     "name": "stderr",
     "output_type": "stream",
     "text": [
      "\n",
      "100%|██████████| 1/1 [00:03<00:00,  3.61s/it]\n",
      "\n",
      "  0%|          | 0/1 [00:00<?, ?it/s]\u001b[A"
     ]
    },
    {
     "name": "stdout",
     "output_type": "stream",
     "text": [
      "\n",
      "model: Lasso\n",
      "alpha: 0.00055\n",
      "train stop: 54\n",
      "mean validation corr: 0.011251976903501992\n",
      "mean validation sharpe: 0.2525815760145075\n"
     ]
    },
    {
     "name": "stderr",
     "output_type": "stream",
     "text": [
      "\n",
      "100%|██████████| 1/1 [00:03<00:00,  3.73s/it]\n",
      "\n",
      "  0%|          | 0/1 [00:00<?, ?it/s]\u001b[A"
     ]
    },
    {
     "name": "stdout",
     "output_type": "stream",
     "text": [
      "\n",
      "model: Lasso\n",
      "alpha: 0.00055\n",
      "train stop: 55\n",
      "mean validation corr: 0.009751311163249144\n",
      "mean validation sharpe: 0.21271131258415304\n"
     ]
    },
    {
     "name": "stderr",
     "output_type": "stream",
     "text": [
      "\n",
      "100%|██████████| 1/1 [00:03<00:00,  3.80s/it]\n",
      "\n",
      "  0%|          | 0/1 [00:00<?, ?it/s]\u001b[A"
     ]
    },
    {
     "name": "stdout",
     "output_type": "stream",
     "text": [
      "\n",
      "model: Lasso\n",
      "alpha: 0.00055\n",
      "train stop: 56\n",
      "mean validation corr: 0.00923311271058509\n",
      "mean validation sharpe: 0.19020049202373057\n"
     ]
    },
    {
     "name": "stderr",
     "output_type": "stream",
     "text": [
      "\n",
      "100%|██████████| 1/1 [00:03<00:00,  3.85s/it]\n",
      "\n",
      "  0%|          | 0/1 [00:00<?, ?it/s]\u001b[A"
     ]
    },
    {
     "name": "stdout",
     "output_type": "stream",
     "text": [
      "\n",
      "model: Lasso\n",
      "alpha: 0.00055\n",
      "train stop: 57\n",
      "mean validation corr: 0.009431659174775502\n",
      "mean validation sharpe: 0.1913390188227185\n"
     ]
    },
    {
     "name": "stderr",
     "output_type": "stream",
     "text": [
      "\n",
      "100%|██████████| 1/1 [00:04<00:00,  4.11s/it]\n",
      "\n",
      "  0%|          | 0/1 [00:00<?, ?it/s]\u001b[A"
     ]
    },
    {
     "name": "stdout",
     "output_type": "stream",
     "text": [
      "\n",
      "model: Lasso\n",
      "alpha: 0.00055\n",
      "train stop: 58\n",
      "mean validation corr: 0.008792974326745459\n",
      "mean validation sharpe: 0.18446895425194798\n"
     ]
    },
    {
     "name": "stderr",
     "output_type": "stream",
     "text": [
      "\n",
      "100%|██████████| 1/1 [00:04<00:00,  4.12s/it]\n",
      "\n",
      "  0%|          | 0/1 [00:00<?, ?it/s]\u001b[A"
     ]
    },
    {
     "name": "stdout",
     "output_type": "stream",
     "text": [
      "\n",
      "model: Lasso\n",
      "alpha: 0.00055\n",
      "train stop: 59\n",
      "mean validation corr: 0.010073636467448794\n",
      "mean validation sharpe: 0.2176356731947983\n"
     ]
    },
    {
     "name": "stderr",
     "output_type": "stream",
     "text": [
      "\n",
      "100%|██████████| 1/1 [00:04<00:00,  4.17s/it]\n",
      "\n",
      "  0%|          | 0/1 [00:00<?, ?it/s]\u001b[A"
     ]
    },
    {
     "name": "stdout",
     "output_type": "stream",
     "text": [
      "\n",
      "model: Lasso\n",
      "alpha: 0.00055\n",
      "train stop: 60\n",
      "mean validation corr: 0.00885618594798502\n",
      "mean validation sharpe: 0.19446177734989284\n"
     ]
    },
    {
     "name": "stderr",
     "output_type": "stream",
     "text": [
      "\n",
      "100%|██████████| 1/1 [00:04<00:00,  4.20s/it]\n",
      "\n",
      "  0%|          | 0/1 [00:00<?, ?it/s]\u001b[A"
     ]
    },
    {
     "name": "stdout",
     "output_type": "stream",
     "text": [
      "\n",
      "model: Lasso\n",
      "alpha: 0.00055\n",
      "train stop: 61\n",
      "mean validation corr: 0.010482796974262453\n",
      "mean validation sharpe: 0.22476760568555637\n"
     ]
    },
    {
     "name": "stderr",
     "output_type": "stream",
     "text": [
      "\n",
      "100%|██████████| 1/1 [00:05<00:00,  5.17s/it]\n",
      "\n",
      "  0%|          | 0/1 [00:00<?, ?it/s]\u001b[A"
     ]
    },
    {
     "name": "stdout",
     "output_type": "stream",
     "text": [
      "\n",
      "model: Lasso\n",
      "alpha: 0.00055\n",
      "train stop: 62\n",
      "mean validation corr: 0.008238527558816636\n",
      "mean validation sharpe: 0.17718508317138115\n"
     ]
    },
    {
     "name": "stderr",
     "output_type": "stream",
     "text": [
      "\n",
      "100%|██████████| 1/1 [00:05<00:00,  5.20s/it]\n",
      "\n",
      "  0%|          | 0/1 [00:00<?, ?it/s]\u001b[A"
     ]
    },
    {
     "name": "stdout",
     "output_type": "stream",
     "text": [
      "\n",
      "model: Lasso\n",
      "alpha: 0.00055\n",
      "train stop: 63\n",
      "mean validation corr: 0.009517700681282857\n",
      "mean validation sharpe: 0.20105077771827987\n"
     ]
    },
    {
     "name": "stderr",
     "output_type": "stream",
     "text": [
      "\n",
      "100%|██████████| 1/1 [00:07<00:00,  7.39s/it]\n",
      "\n",
      "  0%|          | 0/1 [00:00<?, ?it/s]\u001b[A"
     ]
    },
    {
     "name": "stdout",
     "output_type": "stream",
     "text": [
      "\n",
      "model: Lasso\n",
      "alpha: 0.00055\n",
      "train stop: 64\n",
      "mean validation corr: 0.009520398770148516\n",
      "mean validation sharpe: 0.20332138295628835\n"
     ]
    },
    {
     "name": "stderr",
     "output_type": "stream",
     "text": [
      "\n",
      "100%|██████████| 1/1 [00:08<00:00,  8.89s/it]\n",
      "\n",
      "  0%|          | 0/1 [00:00<?, ?it/s]\u001b[A"
     ]
    },
    {
     "name": "stdout",
     "output_type": "stream",
     "text": [
      "\n",
      "model: Lasso\n",
      "alpha: 0.00055\n",
      "train stop: 65\n",
      "mean validation corr: 0.00875827089223736\n",
      "mean validation sharpe: 0.18711591747919779\n"
     ]
    },
    {
     "name": "stderr",
     "output_type": "stream",
     "text": [
      "\n",
      "100%|██████████| 1/1 [00:06<00:00,  6.39s/it]\n",
      "\n",
      "  0%|          | 0/1 [00:00<?, ?it/s]\u001b[A"
     ]
    },
    {
     "name": "stdout",
     "output_type": "stream",
     "text": [
      "\n",
      "model: Lasso\n",
      "alpha: 0.00055\n",
      "train stop: 66\n",
      "mean validation corr: 0.007440867139085925\n",
      "mean validation sharpe: 0.15232607985841676\n"
     ]
    },
    {
     "name": "stderr",
     "output_type": "stream",
     "text": [
      "\n",
      "100%|██████████| 1/1 [00:04<00:00,  4.78s/it]\n",
      "\n",
      "  0%|          | 0/1 [00:00<?, ?it/s]\u001b[A"
     ]
    },
    {
     "name": "stdout",
     "output_type": "stream",
     "text": [
      "\n",
      "model: Lasso\n",
      "alpha: 0.00055\n",
      "train stop: 67\n",
      "mean validation corr: 0.007186530002918429\n",
      "mean validation sharpe: 0.14422804207085727\n"
     ]
    },
    {
     "name": "stderr",
     "output_type": "stream",
     "text": [
      "\n",
      "100%|██████████| 1/1 [00:04<00:00,  4.41s/it]\n",
      "\n",
      "  0%|          | 0/1 [00:00<?, ?it/s]\u001b[A"
     ]
    },
    {
     "name": "stdout",
     "output_type": "stream",
     "text": [
      "\n",
      "model: Lasso\n",
      "alpha: 0.00055\n",
      "train stop: 68\n",
      "mean validation corr: 0.005923352002413819\n",
      "mean validation sharpe: 0.11780689769330421\n"
     ]
    },
    {
     "name": "stderr",
     "output_type": "stream",
     "text": [
      "\n",
      "100%|██████████| 1/1 [00:04<00:00,  4.22s/it]\n",
      "\n",
      "  0%|          | 0/1 [00:00<?, ?it/s]\u001b[A"
     ]
    },
    {
     "name": "stdout",
     "output_type": "stream",
     "text": [
      "\n",
      "model: Lasso\n",
      "alpha: 0.00055\n",
      "train stop: 69\n",
      "mean validation corr: 0.0033655231199672987\n",
      "mean validation sharpe: 0.06515536711681488\n"
     ]
    },
    {
     "name": "stderr",
     "output_type": "stream",
     "text": [
      "\n",
      "100%|██████████| 1/1 [00:04<00:00,  4.34s/it]\n",
      "\n",
      "  0%|          | 0/1 [00:00<?, ?it/s]\u001b[A"
     ]
    },
    {
     "name": "stdout",
     "output_type": "stream",
     "text": [
      "\n",
      "model: Lasso\n",
      "alpha: 0.00055\n",
      "train stop: 70\n",
      "mean validation corr: 0.0025118377119047047\n",
      "mean validation sharpe: 0.04855046235111439\n"
     ]
    },
    {
     "name": "stderr",
     "output_type": "stream",
     "text": [
      "\n",
      "100%|██████████| 1/1 [00:04<00:00,  4.70s/it]\n",
      "\n",
      "  0%|          | 0/1 [00:00<?, ?it/s]\u001b[A"
     ]
    },
    {
     "name": "stdout",
     "output_type": "stream",
     "text": [
      "\n",
      "model: Lasso\n",
      "alpha: 0.00055\n",
      "train stop: 71\n",
      "mean validation corr: 0.0027930751805313667\n",
      "mean validation sharpe: 0.05456721135200235\n"
     ]
    },
    {
     "name": "stderr",
     "output_type": "stream",
     "text": [
      "\n",
      "100%|██████████| 1/1 [00:04<00:00,  4.59s/it]\n",
      "\n",
      "  0%|          | 0/1 [00:00<?, ?it/s]\u001b[A"
     ]
    },
    {
     "name": "stdout",
     "output_type": "stream",
     "text": [
      "\n",
      "model: Lasso\n",
      "alpha: 0.00055\n",
      "train stop: 72\n",
      "mean validation corr: 0.0051573210174891745\n",
      "mean validation sharpe: 0.10405939434251105\n"
     ]
    },
    {
     "name": "stderr",
     "output_type": "stream",
     "text": [
      "\n",
      "100%|██████████| 1/1 [00:04<00:00,  4.09s/it]\n",
      "\n",
      "  0%|          | 0/1 [00:00<?, ?it/s]\u001b[A"
     ]
    },
    {
     "name": "stdout",
     "output_type": "stream",
     "text": [
      "\n",
      "model: Lasso\n",
      "alpha: 0.00055\n",
      "train stop: 73\n",
      "mean validation corr: 0.004233581123878713\n",
      "mean validation sharpe: 0.09136775206871287\n"
     ]
    },
    {
     "name": "stderr",
     "output_type": "stream",
     "text": [
      "\n",
      "100%|██████████| 1/1 [00:04<00:00,  4.22s/it]\n",
      "\n",
      "  0%|          | 0/1 [00:00<?, ?it/s]\u001b[A"
     ]
    },
    {
     "name": "stdout",
     "output_type": "stream",
     "text": [
      "\n",
      "model: Lasso\n",
      "alpha: 0.00055\n",
      "train stop: 74\n",
      "mean validation corr: 0.005762029600262428\n",
      "mean validation sharpe: 0.127062528708649\n"
     ]
    },
    {
     "name": "stderr",
     "output_type": "stream",
     "text": [
      "\n",
      "100%|██████████| 1/1 [00:04<00:00,  4.52s/it]\n",
      "\n",
      "  0%|          | 0/1 [00:00<?, ?it/s]\u001b[A"
     ]
    },
    {
     "name": "stdout",
     "output_type": "stream",
     "text": [
      "\n",
      "model: Lasso\n",
      "alpha: 0.00055\n",
      "train stop: 75\n",
      "mean validation corr: 0.007716992326086955\n",
      "mean validation sharpe: 0.1686912999735474\n"
     ]
    },
    {
     "name": "stderr",
     "output_type": "stream",
     "text": [
      "\n",
      "100%|██████████| 1/1 [00:05<00:00,  5.45s/it]\n",
      "\n",
      "  0%|          | 0/1 [00:00<?, ?it/s]\u001b[A"
     ]
    },
    {
     "name": "stdout",
     "output_type": "stream",
     "text": [
      "\n",
      "model: Lasso\n",
      "alpha: 0.00055\n",
      "train stop: 76\n",
      "mean validation corr: 0.008203812623821784\n",
      "mean validation sharpe: 0.17810142040975438\n"
     ]
    },
    {
     "name": "stderr",
     "output_type": "stream",
     "text": [
      "\n",
      "100%|██████████| 1/1 [00:04<00:00,  4.52s/it]\n",
      "\n",
      "  0%|          | 0/1 [00:00<?, ?it/s]\u001b[A"
     ]
    },
    {
     "name": "stdout",
     "output_type": "stream",
     "text": [
      "\n",
      "model: Lasso\n",
      "alpha: 0.00055\n",
      "train stop: 77\n",
      "mean validation corr: 0.008202469109362263\n",
      "mean validation sharpe: 0.17224565850649967\n"
     ]
    },
    {
     "name": "stderr",
     "output_type": "stream",
     "text": [
      "\n",
      "100%|██████████| 1/1 [00:04<00:00,  4.34s/it]\n",
      "\n",
      "  0%|          | 0/1 [00:00<?, ?it/s]\u001b[A"
     ]
    },
    {
     "name": "stdout",
     "output_type": "stream",
     "text": [
      "\n",
      "model: Lasso\n",
      "alpha: 0.00055\n",
      "train stop: 78\n",
      "mean validation corr: 0.008952645644486681\n",
      "mean validation sharpe: 0.19218590892902188\n"
     ]
    },
    {
     "name": "stderr",
     "output_type": "stream",
     "text": [
      "\n",
      "100%|██████████| 1/1 [00:04<00:00,  5.00s/it]\n",
      "\n",
      "  0%|          | 0/1 [00:00<?, ?it/s]\u001b[A"
     ]
    },
    {
     "name": "stdout",
     "output_type": "stream",
     "text": [
      "\n",
      "model: Lasso\n",
      "alpha: 0.00055\n",
      "train stop: 79\n",
      "mean validation corr: 0.00814873636131125\n",
      "mean validation sharpe: 0.1687816372889137\n"
     ]
    },
    {
     "name": "stderr",
     "output_type": "stream",
     "text": [
      "\n",
      "100%|██████████| 1/1 [00:04<00:00,  4.66s/it]\n",
      "\n",
      "  0%|          | 0/1 [00:00<?, ?it/s]\u001b[A"
     ]
    },
    {
     "name": "stdout",
     "output_type": "stream",
     "text": [
      "\n",
      "model: Lasso\n",
      "alpha: 0.00055\n",
      "train stop: 80\n",
      "mean validation corr: 0.006592651442243297\n",
      "mean validation sharpe: 0.13473876422459485\n"
     ]
    },
    {
     "name": "stderr",
     "output_type": "stream",
     "text": [
      "\n",
      "100%|██████████| 1/1 [00:04<00:00,  4.47s/it]\n",
      "\n",
      "  0%|          | 0/1 [00:00<?, ?it/s]\u001b[A"
     ]
    },
    {
     "name": "stdout",
     "output_type": "stream",
     "text": [
      "\n",
      "model: Lasso\n",
      "alpha: 0.00055\n",
      "train stop: 81\n",
      "mean validation corr: 0.008089407157122934\n",
      "mean validation sharpe: 0.1715368437656774\n"
     ]
    },
    {
     "name": "stderr",
     "output_type": "stream",
     "text": [
      "\n",
      "100%|██████████| 1/1 [00:04<00:00,  4.75s/it]\n",
      "\n",
      "  0%|          | 0/1 [00:00<?, ?it/s]\u001b[A"
     ]
    },
    {
     "name": "stdout",
     "output_type": "stream",
     "text": [
      "\n",
      "model: Lasso\n",
      "alpha: 0.00055\n",
      "train stop: 82\n",
      "mean validation corr: 0.005290193695216921\n",
      "mean validation sharpe: 0.11139774257789065\n"
     ]
    },
    {
     "name": "stderr",
     "output_type": "stream",
     "text": [
      "\n",
      "100%|██████████| 1/1 [00:04<00:00,  4.53s/it]\n",
      "\n",
      "  0%|          | 0/1 [00:00<?, ?it/s]\u001b[A"
     ]
    },
    {
     "name": "stdout",
     "output_type": "stream",
     "text": [
      "\n",
      "model: Lasso\n",
      "alpha: 0.00055\n",
      "train stop: 83\n",
      "mean validation corr: 0.006306867863459808\n",
      "mean validation sharpe: 0.1335182584199767\n"
     ]
    },
    {
     "name": "stderr",
     "output_type": "stream",
     "text": [
      "\n",
      "100%|██████████| 1/1 [00:05<00:00,  5.39s/it]\n",
      "\n",
      "  0%|          | 0/1 [00:00<?, ?it/s]\u001b[A"
     ]
    },
    {
     "name": "stdout",
     "output_type": "stream",
     "text": [
      "\n",
      "model: Lasso\n",
      "alpha: 0.00055\n",
      "train stop: 84\n",
      "mean validation corr: 0.006485452126833638\n",
      "mean validation sharpe: 0.1396268952490701\n"
     ]
    },
    {
     "name": "stderr",
     "output_type": "stream",
     "text": [
      "\n",
      "100%|██████████| 1/1 [00:04<00:00,  4.49s/it]\n",
      "\n",
      "  0%|          | 0/1 [00:00<?, ?it/s]\u001b[A"
     ]
    },
    {
     "name": "stdout",
     "output_type": "stream",
     "text": [
      "\n",
      "model: Lasso\n",
      "alpha: 0.00055\n",
      "train stop: 85\n",
      "mean validation corr: 0.006580019120879094\n",
      "mean validation sharpe: 0.14145880533358887\n"
     ]
    },
    {
     "name": "stderr",
     "output_type": "stream",
     "text": [
      "\n",
      "100%|██████████| 1/1 [00:04<00:00,  4.53s/it]\n",
      "\n",
      "  0%|          | 0/1 [00:00<?, ?it/s]\u001b[A"
     ]
    },
    {
     "name": "stdout",
     "output_type": "stream",
     "text": [
      "\n",
      "model: Lasso\n",
      "alpha: 0.00055\n",
      "train stop: 86\n",
      "mean validation corr: 0.007083716340925795\n",
      "mean validation sharpe: 0.1577510446647963\n"
     ]
    },
    {
     "name": "stderr",
     "output_type": "stream",
     "text": [
      "\n",
      "100%|██████████| 1/1 [00:04<00:00,  4.62s/it]\n",
      "\n",
      "  0%|          | 0/1 [00:00<?, ?it/s]\u001b[A"
     ]
    },
    {
     "name": "stdout",
     "output_type": "stream",
     "text": [
      "\n",
      "model: Lasso\n",
      "alpha: 0.00055\n",
      "train stop: 87\n",
      "mean validation corr: 0.006348093494967242\n",
      "mean validation sharpe: 0.1384404236873765\n"
     ]
    },
    {
     "name": "stderr",
     "output_type": "stream",
     "text": [
      "\n",
      "100%|██████████| 1/1 [00:04<00:00,  4.59s/it]\n",
      "\n",
      "  0%|          | 0/1 [00:00<?, ?it/s]\u001b[A"
     ]
    },
    {
     "name": "stdout",
     "output_type": "stream",
     "text": [
      "\n",
      "model: Lasso\n",
      "alpha: 0.00055\n",
      "train stop: 88\n",
      "mean validation corr: 0.007540523878784478\n",
      "mean validation sharpe: 0.16222490180891558\n"
     ]
    },
    {
     "name": "stderr",
     "output_type": "stream",
     "text": [
      "\n",
      "100%|██████████| 1/1 [00:04<00:00,  4.68s/it]\n",
      "\n",
      "  0%|          | 0/1 [00:00<?, ?it/s]\u001b[A"
     ]
    },
    {
     "name": "stdout",
     "output_type": "stream",
     "text": [
      "\n",
      "model: Lasso\n",
      "alpha: 0.00055\n",
      "train stop: 89\n",
      "mean validation corr: 0.005492625896825946\n",
      "mean validation sharpe: 0.11367434432206243\n"
     ]
    },
    {
     "name": "stderr",
     "output_type": "stream",
     "text": [
      "\n",
      "100%|██████████| 1/1 [00:04<00:00,  4.79s/it]\n",
      "\n",
      "  0%|          | 0/1 [00:00<?, ?it/s]\u001b[A"
     ]
    },
    {
     "name": "stdout",
     "output_type": "stream",
     "text": [
      "\n",
      "model: Lasso\n",
      "alpha: 0.00055\n",
      "train stop: 90\n",
      "mean validation corr: 0.004340304105159816\n",
      "mean validation sharpe: 0.08706918865756129\n"
     ]
    },
    {
     "name": "stderr",
     "output_type": "stream",
     "text": [
      "\n",
      "100%|██████████| 1/1 [00:04<00:00,  4.79s/it]\n",
      "\n",
      "  0%|          | 0/1 [00:00<?, ?it/s]\u001b[A"
     ]
    },
    {
     "name": "stdout",
     "output_type": "stream",
     "text": [
      "\n",
      "model: Lasso\n",
      "alpha: 0.00055\n",
      "train stop: 91\n",
      "mean validation corr: 0.004383029693790508\n",
      "mean validation sharpe: 0.08614402853376137\n"
     ]
    },
    {
     "name": "stderr",
     "output_type": "stream",
     "text": [
      "\n",
      "100%|██████████| 1/1 [00:04<00:00,  4.91s/it]\n",
      "\n",
      "  0%|          | 0/1 [00:00<?, ?it/s]\u001b[A"
     ]
    },
    {
     "name": "stdout",
     "output_type": "stream",
     "text": [
      "\n",
      "model: Lasso\n",
      "alpha: 0.00055\n",
      "train stop: 92\n",
      "mean validation corr: 0.004648476357894268\n",
      "mean validation sharpe: 0.09019162405441437\n"
     ]
    },
    {
     "name": "stderr",
     "output_type": "stream",
     "text": [
      "\n",
      "100%|██████████| 1/1 [00:05<00:00,  5.04s/it]\n",
      "\n",
      "  0%|          | 0/1 [00:00<?, ?it/s]\u001b[A"
     ]
    },
    {
     "name": "stdout",
     "output_type": "stream",
     "text": [
      "\n",
      "model: Lasso\n",
      "alpha: 0.00055\n",
      "train stop: 93\n",
      "mean validation corr: 0.004804130491348568\n",
      "mean validation sharpe: 0.0913040985002437\n"
     ]
    },
    {
     "name": "stderr",
     "output_type": "stream",
     "text": [
      "\n",
      "100%|██████████| 1/1 [00:05<00:00,  5.05s/it]\n",
      "\n",
      "  0%|          | 0/1 [00:00<?, ?it/s]\u001b[A"
     ]
    },
    {
     "name": "stdout",
     "output_type": "stream",
     "text": [
      "\n",
      "model: Lasso\n",
      "alpha: 0.00055\n",
      "train stop: 94\n",
      "mean validation corr: 0.0051447725609690236\n",
      "mean validation sharpe: 0.10017718204271922\n"
     ]
    },
    {
     "name": "stderr",
     "output_type": "stream",
     "text": [
      "\n",
      "100%|██████████| 1/1 [00:05<00:00,  5.38s/it]\n",
      "\n",
      "  0%|          | 0/1 [00:00<?, ?it/s]\u001b[A"
     ]
    },
    {
     "name": "stdout",
     "output_type": "stream",
     "text": [
      "\n",
      "model: Lasso\n",
      "alpha: 0.00055\n",
      "train stop: 95\n",
      "mean validation corr: 0.004872922178734661\n",
      "mean validation sharpe: 0.09422466496374408\n"
     ]
    },
    {
     "name": "stderr",
     "output_type": "stream",
     "text": [
      "\n",
      "100%|██████████| 1/1 [00:05<00:00,  5.12s/it]\n",
      "\n",
      "  0%|          | 0/1 [00:00<?, ?it/s]\u001b[A"
     ]
    },
    {
     "name": "stdout",
     "output_type": "stream",
     "text": [
      "\n",
      "model: Lasso\n",
      "alpha: 0.00055\n",
      "train stop: 96\n",
      "mean validation corr: 0.005357835424692165\n",
      "mean validation sharpe: 0.1068886998660447\n"
     ]
    },
    {
     "name": "stderr",
     "output_type": "stream",
     "text": [
      "\n",
      "100%|██████████| 1/1 [00:05<00:00,  5.65s/it]\n",
      "\n",
      "  0%|          | 0/1 [00:00<?, ?it/s]\u001b[A"
     ]
    },
    {
     "name": "stdout",
     "output_type": "stream",
     "text": [
      "\n",
      "model: Lasso\n",
      "alpha: 0.00055\n",
      "train stop: 97\n",
      "mean validation corr: 0.005415449615211128\n",
      "mean validation sharpe: 0.1090788081581626\n"
     ]
    },
    {
     "name": "stderr",
     "output_type": "stream",
     "text": [
      "\n",
      "100%|██████████| 1/1 [00:05<00:00,  5.57s/it]\n",
      "\n",
      "  0%|          | 0/1 [00:00<?, ?it/s]\u001b[A"
     ]
    },
    {
     "name": "stdout",
     "output_type": "stream",
     "text": [
      "\n",
      "model: Lasso\n",
      "alpha: 0.00055\n",
      "train stop: 98\n",
      "mean validation corr: 0.005219960991929727\n",
      "mean validation sharpe: 0.10404526615466823\n"
     ]
    },
    {
     "name": "stderr",
     "output_type": "stream",
     "text": [
      "\n",
      "100%|██████████| 1/1 [00:05<00:00,  5.42s/it]\n",
      "\n",
      "  0%|          | 0/1 [00:00<?, ?it/s]\u001b[A"
     ]
    },
    {
     "name": "stdout",
     "output_type": "stream",
     "text": [
      "\n",
      "model: Lasso\n",
      "alpha: 0.00055\n",
      "train stop: 99\n",
      "mean validation corr: 0.004754195021416323\n",
      "mean validation sharpe: 0.09581610612647971\n"
     ]
    },
    {
     "name": "stderr",
     "output_type": "stream",
     "text": [
      "\n",
      "100%|██████████| 1/1 [00:05<00:00,  5.46s/it]\n",
      "\n",
      "  0%|          | 0/1 [00:00<?, ?it/s]\u001b[A"
     ]
    },
    {
     "name": "stdout",
     "output_type": "stream",
     "text": [
      "\n",
      "model: Lasso\n",
      "alpha: 0.00055\n",
      "train stop: 100\n",
      "mean validation corr: 0.003314576997284999\n",
      "mean validation sharpe: 0.06726864064946714\n"
     ]
    },
    {
     "name": "stderr",
     "output_type": "stream",
     "text": [
      "\n",
      "100%|██████████| 1/1 [00:05<00:00,  5.40s/it]\n",
      "\n",
      "  0%|          | 0/1 [00:00<?, ?it/s]\u001b[A"
     ]
    },
    {
     "name": "stdout",
     "output_type": "stream",
     "text": [
      "\n",
      "model: Lasso\n",
      "alpha: 0.00055\n",
      "train stop: 101\n",
      "mean validation corr: 0.002145070698160032\n",
      "mean validation sharpe: 0.043089106173762236\n"
     ]
    },
    {
     "name": "stderr",
     "output_type": "stream",
     "text": [
      "\n",
      "100%|██████████| 1/1 [00:05<00:00,  5.48s/it]\n",
      "\n",
      "  0%|          | 0/1 [00:00<?, ?it/s]\u001b[A"
     ]
    },
    {
     "name": "stdout",
     "output_type": "stream",
     "text": [
      "\n",
      "model: Lasso\n",
      "alpha: 0.00055\n",
      "train stop: 102\n",
      "mean validation corr: 0.0036894885968858683\n",
      "mean validation sharpe: 0.07550927338281906\n"
     ]
    },
    {
     "name": "stderr",
     "output_type": "stream",
     "text": [
      "\n",
      "100%|██████████| 1/1 [00:05<00:00,  5.74s/it]\n",
      "\n",
      "  0%|          | 0/1 [00:00<?, ?it/s]\u001b[A"
     ]
    },
    {
     "name": "stdout",
     "output_type": "stream",
     "text": [
      "\n",
      "model: Lasso\n",
      "alpha: 0.00055\n",
      "train stop: 103\n",
      "mean validation corr: 0.003878185506330706\n",
      "mean validation sharpe: 0.07759748429231002\n"
     ]
    },
    {
     "name": "stderr",
     "output_type": "stream",
     "text": [
      "\n",
      "100%|██████████| 1/1 [00:05<00:00,  5.55s/it]\n",
      "\n",
      "  0%|          | 0/1 [00:00<?, ?it/s]\u001b[A"
     ]
    },
    {
     "name": "stdout",
     "output_type": "stream",
     "text": [
      "\n",
      "model: Lasso\n",
      "alpha: 0.00055\n",
      "train stop: 104\n",
      "mean validation corr: 0.003048244711447561\n",
      "mean validation sharpe: 0.06272914792437191\n"
     ]
    },
    {
     "name": "stderr",
     "output_type": "stream",
     "text": [
      "\n",
      "100%|██████████| 1/1 [00:05<00:00,  5.51s/it]\n",
      "\n",
      "  0%|          | 0/1 [00:00<?, ?it/s]\u001b[A"
     ]
    },
    {
     "name": "stdout",
     "output_type": "stream",
     "text": [
      "\n",
      "model: Lasso\n",
      "alpha: 0.00055\n",
      "train stop: 105\n",
      "mean validation corr: 0.006457209649914163\n",
      "mean validation sharpe: 0.1256818638495129\n"
     ]
    },
    {
     "name": "stderr",
     "output_type": "stream",
     "text": [
      "\n",
      "100%|██████████| 1/1 [00:05<00:00,  5.90s/it]\n",
      "\n",
      "  0%|          | 0/1 [00:00<?, ?it/s]\u001b[A"
     ]
    },
    {
     "name": "stdout",
     "output_type": "stream",
     "text": [
      "\n",
      "model: Lasso\n",
      "alpha: 0.00055\n",
      "train stop: 106\n",
      "mean validation corr: 0.006648597772739262\n",
      "mean validation sharpe: 0.13132353808575403\n"
     ]
    },
    {
     "name": "stderr",
     "output_type": "stream",
     "text": [
      "\n",
      "100%|██████████| 1/1 [00:05<00:00,  5.44s/it]\n",
      "\n",
      "  0%|          | 0/1 [00:00<?, ?it/s]\u001b[A"
     ]
    },
    {
     "name": "stdout",
     "output_type": "stream",
     "text": [
      "\n",
      "model: Lasso\n",
      "alpha: 0.00055\n",
      "train stop: 107\n",
      "mean validation corr: 0.006007072986227879\n",
      "mean validation sharpe: 0.11881529343259653\n"
     ]
    },
    {
     "name": "stderr",
     "output_type": "stream",
     "text": [
      "\n",
      "100%|██████████| 1/1 [00:05<00:00,  5.42s/it]\n",
      "\n",
      "  0%|          | 0/1 [00:00<?, ?it/s]\u001b[A"
     ]
    },
    {
     "name": "stdout",
     "output_type": "stream",
     "text": [
      "\n",
      "model: Lasso\n",
      "alpha: 0.00055\n",
      "train stop: 108\n",
      "mean validation corr: 0.006690845471526914\n",
      "mean validation sharpe: 0.13098029271517478\n"
     ]
    },
    {
     "name": "stderr",
     "output_type": "stream",
     "text": [
      "\n",
      "100%|██████████| 1/1 [00:05<00:00,  5.83s/it]\n",
      "\n",
      "  0%|          | 0/1 [00:00<?, ?it/s]\u001b[A"
     ]
    },
    {
     "name": "stdout",
     "output_type": "stream",
     "text": [
      "\n",
      "model: Lasso\n",
      "alpha: 0.00055\n",
      "train stop: 109\n",
      "mean validation corr: 0.008284017499529487\n",
      "mean validation sharpe: 0.16481928127697973\n"
     ]
    },
    {
     "name": "stderr",
     "output_type": "stream",
     "text": [
      "\n",
      "100%|██████████| 1/1 [00:05<00:00,  5.76s/it]\n",
      "\n",
      "  0%|          | 0/1 [00:00<?, ?it/s]\u001b[A"
     ]
    },
    {
     "name": "stdout",
     "output_type": "stream",
     "text": [
      "\n",
      "model: Lasso\n",
      "alpha: 0.00055\n",
      "train stop: 110\n",
      "mean validation corr: 0.008366951728392313\n",
      "mean validation sharpe: 0.16845323849233618\n"
     ]
    },
    {
     "name": "stderr",
     "output_type": "stream",
     "text": [
      "\n",
      "100%|██████████| 1/1 [00:06<00:00,  6.03s/it]\n",
      "\n",
      "  0%|          | 0/1 [00:00<?, ?it/s]\u001b[A"
     ]
    },
    {
     "name": "stdout",
     "output_type": "stream",
     "text": [
      "\n",
      "model: Lasso\n",
      "alpha: 0.00055\n",
      "train stop: 111\n",
      "mean validation corr: 0.007916245370693391\n",
      "mean validation sharpe: 0.157745731258363\n"
     ]
    },
    {
     "name": "stderr",
     "output_type": "stream",
     "text": [
      "\n",
      "100%|██████████| 1/1 [00:06<00:00,  6.35s/it]\n",
      "\n",
      "  0%|          | 0/1 [00:00<?, ?it/s]\u001b[A"
     ]
    },
    {
     "name": "stdout",
     "output_type": "stream",
     "text": [
      "\n",
      "model: Lasso\n",
      "alpha: 0.00055\n",
      "train stop: 112\n",
      "mean validation corr: 0.006424606879795385\n",
      "mean validation sharpe: 0.12664637929536074\n"
     ]
    },
    {
     "name": "stderr",
     "output_type": "stream",
     "text": [
      "\n",
      "100%|██████████| 1/1 [00:06<00:00,  6.22s/it]\n",
      "\n",
      "  0%|          | 0/1 [00:00<?, ?it/s]\u001b[A"
     ]
    },
    {
     "name": "stdout",
     "output_type": "stream",
     "text": [
      "\n",
      "model: Lasso\n",
      "alpha: 0.00055\n",
      "train stop: 113\n",
      "mean validation corr: 0.006841790321797405\n",
      "mean validation sharpe: 0.1330010850680013\n"
     ]
    },
    {
     "name": "stderr",
     "output_type": "stream",
     "text": [
      "\n",
      "100%|██████████| 1/1 [00:06<00:00,  6.28s/it]\n",
      "\n",
      "  0%|          | 0/1 [00:00<?, ?it/s]\u001b[A"
     ]
    },
    {
     "name": "stdout",
     "output_type": "stream",
     "text": [
      "\n",
      "model: Lasso\n",
      "alpha: 0.00055\n",
      "train stop: 114\n",
      "mean validation corr: 0.006156669118917471\n",
      "mean validation sharpe: 0.11971024313402655\n"
     ]
    },
    {
     "name": "stderr",
     "output_type": "stream",
     "text": [
      "\n",
      "100%|██████████| 1/1 [00:06<00:00,  6.75s/it]\n",
      "\n",
      "  0%|          | 0/1 [00:00<?, ?it/s]\u001b[A"
     ]
    },
    {
     "name": "stdout",
     "output_type": "stream",
     "text": [
      "\n",
      "model: Lasso\n",
      "alpha: 0.00055\n",
      "train stop: 115\n",
      "mean validation corr: 0.005892874928545918\n",
      "mean validation sharpe: 0.11295800667569265\n"
     ]
    },
    {
     "name": "stderr",
     "output_type": "stream",
     "text": [
      "\n",
      "100%|██████████| 1/1 [00:06<00:00,  6.51s/it]\n",
      "\n",
      "  0%|          | 0/1 [00:00<?, ?it/s]\u001b[A"
     ]
    },
    {
     "name": "stdout",
     "output_type": "stream",
     "text": [
      "\n",
      "model: Lasso\n",
      "alpha: 0.00055\n",
      "train stop: 116\n",
      "mean validation corr: 0.005501099231930165\n",
      "mean validation sharpe: 0.10815600277960567\n"
     ]
    },
    {
     "name": "stderr",
     "output_type": "stream",
     "text": [
      "\n",
      "100%|██████████| 1/1 [00:06<00:00,  6.58s/it]\n",
      "\n",
      "  0%|          | 0/1 [00:00<?, ?it/s]\u001b[A"
     ]
    },
    {
     "name": "stdout",
     "output_type": "stream",
     "text": [
      "\n",
      "model: Lasso\n",
      "alpha: 0.00055\n",
      "train stop: 117\n",
      "mean validation corr: 0.006644781314291219\n",
      "mean validation sharpe: 0.1301031898695451\n"
     ]
    },
    {
     "name": "stderr",
     "output_type": "stream",
     "text": [
      "\n",
      "100%|██████████| 1/1 [00:06<00:00,  6.39s/it]\n",
      "\n",
      "  0%|          | 0/1 [00:00<?, ?it/s]\u001b[A"
     ]
    },
    {
     "name": "stdout",
     "output_type": "stream",
     "text": [
      "\n",
      "model: Lasso\n",
      "alpha: 0.00055\n",
      "train stop: 118\n",
      "mean validation corr: 0.005954474335904229\n",
      "mean validation sharpe: 0.11751293429785195\n"
     ]
    },
    {
     "name": "stderr",
     "output_type": "stream",
     "text": [
      "\n",
      "100%|██████████| 1/1 [00:06<00:00,  6.94s/it]\n",
      "\n",
      "  0%|          | 0/1 [00:00<?, ?it/s]\u001b[A"
     ]
    },
    {
     "name": "stdout",
     "output_type": "stream",
     "text": [
      "\n",
      "model: Lasso\n",
      "alpha: 0.00055\n",
      "train stop: 119\n",
      "mean validation corr: 0.005733179186574329\n",
      "mean validation sharpe: 0.11415098891036872\n"
     ]
    },
    {
     "name": "stderr",
     "output_type": "stream",
     "text": [
      "\n",
      "100%|██████████| 1/1 [00:07<00:00,  7.96s/it]\n",
      "\n",
      "  0%|          | 0/1 [00:00<?, ?it/s]\u001b[A"
     ]
    },
    {
     "name": "stdout",
     "output_type": "stream",
     "text": [
      "\n",
      "model: Lasso\n",
      "alpha: 0.00055\n",
      "train stop: 120\n",
      "mean validation corr: 0.006301707873960923\n",
      "mean validation sharpe: 0.12616049900282128\n"
     ]
    },
    {
     "name": "stderr",
     "output_type": "stream",
     "text": [
      "\n",
      "100%|██████████| 1/1 [00:07<00:00,  7.89s/it]\n",
      "\n",
      "  0%|          | 0/1 [00:00<?, ?it/s]\u001b[A"
     ]
    },
    {
     "name": "stdout",
     "output_type": "stream",
     "text": [
      "\n",
      "model: Lasso\n",
      "alpha: 0.00055\n",
      "train stop: 121\n",
      "mean validation corr: 0.005857299770679376\n",
      "mean validation sharpe: 0.11698495319778086\n"
     ]
    },
    {
     "name": "stderr",
     "output_type": "stream",
     "text": [
      "\n",
      "100%|██████████| 1/1 [00:09<00:00,  9.29s/it]\n",
      "\n",
      "  0%|          | 0/1 [00:00<?, ?it/s]\u001b[A"
     ]
    },
    {
     "name": "stdout",
     "output_type": "stream",
     "text": [
      "\n",
      "model: Lasso\n",
      "alpha: 0.00055\n",
      "train stop: 122\n",
      "mean validation corr: 0.00472301544507887\n",
      "mean validation sharpe: 0.09394213798082326\n"
     ]
    },
    {
     "name": "stderr",
     "output_type": "stream",
     "text": [
      "\n",
      "100%|██████████| 1/1 [00:08<00:00,  8.16s/it]\n",
      "\n",
      "  0%|          | 0/1 [00:00<?, ?it/s]\u001b[A"
     ]
    },
    {
     "name": "stdout",
     "output_type": "stream",
     "text": [
      "\n",
      "model: Lasso\n",
      "alpha: 0.00055\n",
      "train stop: 123\n",
      "mean validation corr: 0.004906855478590155\n",
      "mean validation sharpe: 0.0980221625925863\n"
     ]
    },
    {
     "name": "stderr",
     "output_type": "stream",
     "text": [
      "\n",
      "100%|██████████| 1/1 [00:08<00:00,  8.71s/it]\n",
      "\n",
      "  0%|          | 0/1 [00:00<?, ?it/s]\u001b[A"
     ]
    },
    {
     "name": "stdout",
     "output_type": "stream",
     "text": [
      "\n",
      "model: Lasso\n",
      "alpha: 0.00055\n",
      "train stop: 124\n",
      "mean validation corr: 0.005484750652236619\n",
      "mean validation sharpe: 0.11171711577069904\n"
     ]
    },
    {
     "name": "stderr",
     "output_type": "stream",
     "text": [
      "\n",
      "100%|██████████| 1/1 [00:08<00:00,  8.49s/it]\n",
      "\n",
      "  0%|          | 0/1 [00:00<?, ?it/s]\u001b[A"
     ]
    },
    {
     "name": "stdout",
     "output_type": "stream",
     "text": [
      "\n",
      "model: Lasso\n",
      "alpha: 0.00055\n",
      "train stop: 125\n",
      "mean validation corr: 0.005650289399767472\n",
      "mean validation sharpe: 0.11306349483312153\n"
     ]
    },
    {
     "name": "stderr",
     "output_type": "stream",
     "text": [
      "\n",
      "100%|██████████| 1/1 [00:06<00:00,  6.96s/it]\n",
      "\n",
      "  0%|          | 0/1 [00:00<?, ?it/s]\u001b[A"
     ]
    },
    {
     "name": "stdout",
     "output_type": "stream",
     "text": [
      "\n",
      "model: Lasso\n",
      "alpha: 0.00055\n",
      "train stop: 126\n",
      "mean validation corr: 0.005459493107899595\n",
      "mean validation sharpe: 0.10870351753536787\n"
     ]
    },
    {
     "name": "stderr",
     "output_type": "stream",
     "text": [
      "\n",
      "100%|██████████| 1/1 [00:06<00:00,  6.97s/it]\n",
      "\n",
      "  0%|          | 0/1 [00:00<?, ?it/s]\u001b[A"
     ]
    },
    {
     "name": "stdout",
     "output_type": "stream",
     "text": [
      "\n",
      "model: Lasso\n",
      "alpha: 0.00055\n",
      "train stop: 127\n",
      "mean validation corr: 0.004724694177200294\n",
      "mean validation sharpe: 0.0946516476866047\n"
     ]
    },
    {
     "name": "stderr",
     "output_type": "stream",
     "text": [
      "\n",
      "100%|██████████| 1/1 [00:07<00:00,  7.85s/it]\n",
      "\n",
      "  0%|          | 0/1 [00:00<?, ?it/s]\u001b[A"
     ]
    },
    {
     "name": "stdout",
     "output_type": "stream",
     "text": [
      "\n",
      "model: Lasso\n",
      "alpha: 0.00055\n",
      "train stop: 128\n",
      "mean validation corr: 0.004821105647567783\n",
      "mean validation sharpe: 0.09831527158631749\n"
     ]
    },
    {
     "name": "stderr",
     "output_type": "stream",
     "text": [
      "\n",
      "100%|██████████| 1/1 [00:07<00:00,  7.79s/it]\n",
      "\n",
      "  0%|          | 0/1 [00:00<?, ?it/s]\u001b[A"
     ]
    },
    {
     "name": "stdout",
     "output_type": "stream",
     "text": [
      "\n",
      "model: Lasso\n",
      "alpha: 0.00055\n",
      "train stop: 129\n",
      "mean validation corr: 0.004157964506477459\n",
      "mean validation sharpe: 0.08865340171166758\n"
     ]
    },
    {
     "name": "stderr",
     "output_type": "stream",
     "text": [
      "\n",
      "100%|██████████| 1/1 [00:08<00:00,  8.51s/it]\n",
      "\n",
      "  0%|          | 0/1 [00:00<?, ?it/s]\u001b[A"
     ]
    },
    {
     "name": "stdout",
     "output_type": "stream",
     "text": [
      "\n",
      "model: Lasso\n",
      "alpha: 0.00055\n",
      "train stop: 130\n",
      "mean validation corr: 0.004155961047932309\n",
      "mean validation sharpe: 0.09013123327179824\n"
     ]
    },
    {
     "name": "stderr",
     "output_type": "stream",
     "text": [
      "\n",
      "100%|██████████| 1/1 [00:09<00:00,  9.33s/it]\n",
      "\n",
      "  0%|          | 0/1 [00:00<?, ?it/s]\u001b[A"
     ]
    },
    {
     "name": "stdout",
     "output_type": "stream",
     "text": [
      "\n",
      "model: Lasso\n",
      "alpha: 0.00055\n",
      "train stop: 131\n",
      "mean validation corr: 0.0027777257990895723\n",
      "mean validation sharpe: 0.05905801595146438\n"
     ]
    },
    {
     "name": "stderr",
     "output_type": "stream",
     "text": [
      "\n",
      "100%|██████████| 1/1 [00:01<00:00,  1.25s/it]\n",
      "\n",
      "  0%|          | 0/1 [00:00<?, ?it/s]\u001b[A"
     ]
    },
    {
     "name": "stdout",
     "output_type": "stream",
     "text": [
      "\n",
      "model: Lasso\n",
      "alpha: 0.0007750000000000001\n",
      "train stop: 25\n",
      "mean validation corr: 0.005312750631045875\n",
      "mean validation sharpe: 0.14637565599272379\n"
     ]
    },
    {
     "name": "stderr",
     "output_type": "stream",
     "text": [
      "\n",
      "100%|██████████| 1/1 [00:01<00:00,  1.26s/it]\n",
      "\n",
      "  0%|          | 0/1 [00:00<?, ?it/s]\u001b[A"
     ]
    },
    {
     "name": "stdout",
     "output_type": "stream",
     "text": [
      "\n",
      "model: Lasso\n",
      "alpha: 0.0007750000000000001\n",
      "train stop: 26\n",
      "mean validation corr: 0.0038314833834937907\n",
      "mean validation sharpe: 0.10775905266206459\n"
     ]
    },
    {
     "name": "stderr",
     "output_type": "stream",
     "text": [
      "\n",
      "100%|██████████| 1/1 [00:01<00:00,  1.45s/it]\n",
      "\n",
      "  0%|          | 0/1 [00:00<?, ?it/s]\u001b[A"
     ]
    },
    {
     "name": "stdout",
     "output_type": "stream",
     "text": [
      "\n",
      "model: Lasso\n",
      "alpha: 0.0007750000000000001\n",
      "train stop: 27\n",
      "mean validation corr: 0.0021686696092738447\n",
      "mean validation sharpe: 0.06330708417496786\n"
     ]
    },
    {
     "name": "stderr",
     "output_type": "stream",
     "text": [
      "\n",
      "100%|██████████| 1/1 [00:01<00:00,  1.57s/it]\n",
      "\n",
      "  0%|          | 0/1 [00:00<?, ?it/s]\u001b[A"
     ]
    },
    {
     "name": "stdout",
     "output_type": "stream",
     "text": [
      "\n",
      "model: Lasso\n",
      "alpha: 0.0007750000000000001\n",
      "train stop: 28\n",
      "mean validation corr: 0.003460188255545957\n",
      "mean validation sharpe: 0.10132270246189756\n"
     ]
    },
    {
     "name": "stderr",
     "output_type": "stream",
     "text": [
      "\n",
      "100%|██████████| 1/1 [00:01<00:00,  1.57s/it]\n",
      "\n",
      "  0%|          | 0/1 [00:00<?, ?it/s]\u001b[A"
     ]
    },
    {
     "name": "stdout",
     "output_type": "stream",
     "text": [
      "\n",
      "model: Lasso\n",
      "alpha: 0.0007750000000000001\n",
      "train stop: 29\n",
      "mean validation corr: 0.0038827215500066535\n",
      "mean validation sharpe: 0.12198777276835747\n"
     ]
    },
    {
     "name": "stderr",
     "output_type": "stream",
     "text": [
      "\n",
      "100%|██████████| 1/1 [00:01<00:00,  1.62s/it]\n",
      "\n",
      "  0%|          | 0/1 [00:00<?, ?it/s]\u001b[A"
     ]
    },
    {
     "name": "stdout",
     "output_type": "stream",
     "text": [
      "\n",
      "model: Lasso\n",
      "alpha: 0.0007750000000000001\n",
      "train stop: 30\n",
      "mean validation corr: 0.004791803072127417\n",
      "mean validation sharpe: 0.1419485386633389\n"
     ]
    },
    {
     "name": "stderr",
     "output_type": "stream",
     "text": [
      "\n",
      "100%|██████████| 1/1 [00:01<00:00,  1.68s/it]\n",
      "\n",
      "  0%|          | 0/1 [00:00<?, ?it/s]\u001b[A"
     ]
    },
    {
     "name": "stdout",
     "output_type": "stream",
     "text": [
      "\n",
      "model: Lasso\n",
      "alpha: 0.0007750000000000001\n",
      "train stop: 31\n",
      "mean validation corr: 0.005838144206655449\n",
      "mean validation sharpe: 0.16342842445696829\n"
     ]
    },
    {
     "name": "stderr",
     "output_type": "stream",
     "text": [
      "\n",
      "100%|██████████| 1/1 [00:01<00:00,  1.61s/it]\n",
      "\n",
      "  0%|          | 0/1 [00:00<?, ?it/s]\u001b[A"
     ]
    },
    {
     "name": "stdout",
     "output_type": "stream",
     "text": [
      "\n",
      "model: Lasso\n",
      "alpha: 0.0007750000000000001\n",
      "train stop: 32\n",
      "mean validation corr: 0.005601714973008295\n",
      "mean validation sharpe: 0.1606087527578192\n"
     ]
    },
    {
     "name": "stderr",
     "output_type": "stream",
     "text": [
      "\n",
      "100%|██████████| 1/1 [00:01<00:00,  1.62s/it]\n",
      "\n",
      "  0%|          | 0/1 [00:00<?, ?it/s]\u001b[A"
     ]
    },
    {
     "name": "stdout",
     "output_type": "stream",
     "text": [
      "\n",
      "model: Lasso\n",
      "alpha: 0.0007750000000000001\n",
      "train stop: 33\n",
      "mean validation corr: 0.006195300651326383\n",
      "mean validation sharpe: 0.1779960396868562\n"
     ]
    },
    {
     "name": "stderr",
     "output_type": "stream",
     "text": [
      "\n",
      "100%|██████████| 1/1 [00:01<00:00,  1.76s/it]\n",
      "\n",
      "  0%|          | 0/1 [00:00<?, ?it/s]\u001b[A"
     ]
    },
    {
     "name": "stdout",
     "output_type": "stream",
     "text": [
      "\n",
      "model: Lasso\n",
      "alpha: 0.0007750000000000001\n",
      "train stop: 34\n",
      "mean validation corr: 0.00610420890846507\n",
      "mean validation sharpe: 0.17035565121364657\n"
     ]
    },
    {
     "name": "stderr",
     "output_type": "stream",
     "text": [
      "\n",
      "100%|██████████| 1/1 [00:01<00:00,  1.77s/it]\n",
      "\n",
      "  0%|          | 0/1 [00:00<?, ?it/s]\u001b[A"
     ]
    },
    {
     "name": "stdout",
     "output_type": "stream",
     "text": [
      "\n",
      "model: Lasso\n",
      "alpha: 0.0007750000000000001\n",
      "train stop: 35\n",
      "mean validation corr: 0.007041434567898416\n",
      "mean validation sharpe: 0.19463161384466543\n"
     ]
    },
    {
     "name": "stderr",
     "output_type": "stream",
     "text": [
      "\n",
      "100%|██████████| 1/1 [00:01<00:00,  1.80s/it]\n",
      "\n",
      "  0%|          | 0/1 [00:00<?, ?it/s]\u001b[A"
     ]
    },
    {
     "name": "stdout",
     "output_type": "stream",
     "text": [
      "\n",
      "model: Lasso\n",
      "alpha: 0.0007750000000000001\n",
      "train stop: 36\n",
      "mean validation corr: 0.006982560751658144\n",
      "mean validation sharpe: 0.1941900644274907\n"
     ]
    },
    {
     "name": "stderr",
     "output_type": "stream",
     "text": [
      "\n",
      "100%|██████████| 1/1 [00:01<00:00,  1.60s/it]\n",
      "\n",
      "  0%|          | 0/1 [00:00<?, ?it/s]\u001b[A"
     ]
    },
    {
     "name": "stdout",
     "output_type": "stream",
     "text": [
      "\n",
      "model: Lasso\n",
      "alpha: 0.0007750000000000001\n",
      "train stop: 37\n",
      "mean validation corr: 0.007274847898712963\n",
      "mean validation sharpe: 0.20084503756247704\n"
     ]
    },
    {
     "name": "stderr",
     "output_type": "stream",
     "text": [
      "\n",
      "100%|██████████| 1/1 [00:01<00:00,  1.98s/it]\n",
      "\n",
      "  0%|          | 0/1 [00:00<?, ?it/s]\u001b[A"
     ]
    },
    {
     "name": "stdout",
     "output_type": "stream",
     "text": [
      "\n",
      "model: Lasso\n",
      "alpha: 0.0007750000000000001\n",
      "train stop: 38\n",
      "mean validation corr: 0.006396520835065679\n",
      "mean validation sharpe: 0.18041152685609907\n"
     ]
    },
    {
     "name": "stderr",
     "output_type": "stream",
     "text": [
      "\n",
      "100%|██████████| 1/1 [00:01<00:00,  1.99s/it]\n",
      "\n",
      "  0%|          | 0/1 [00:00<?, ?it/s]\u001b[A"
     ]
    },
    {
     "name": "stdout",
     "output_type": "stream",
     "text": [
      "\n",
      "model: Lasso\n",
      "alpha: 0.0007750000000000001\n",
      "train stop: 39\n",
      "mean validation corr: 0.006202194835091718\n",
      "mean validation sharpe: 0.1846647758720189\n"
     ]
    },
    {
     "name": "stderr",
     "output_type": "stream",
     "text": [
      "\n",
      "100%|██████████| 1/1 [00:02<00:00,  2.14s/it]\n",
      "\n",
      "  0%|          | 0/1 [00:00<?, ?it/s]\u001b[A"
     ]
    },
    {
     "name": "stdout",
     "output_type": "stream",
     "text": [
      "\n",
      "model: Lasso\n",
      "alpha: 0.0007750000000000001\n",
      "train stop: 40\n",
      "mean validation corr: 0.006965436104314275\n",
      "mean validation sharpe: 0.2090939297174645\n"
     ]
    },
    {
     "name": "stderr",
     "output_type": "stream",
     "text": [
      "\n",
      "100%|██████████| 1/1 [00:02<00:00,  2.11s/it]\n",
      "\n",
      "  0%|          | 0/1 [00:00<?, ?it/s]\u001b[A"
     ]
    },
    {
     "name": "stdout",
     "output_type": "stream",
     "text": [
      "\n",
      "model: Lasso\n",
      "alpha: 0.0007750000000000001\n",
      "train stop: 41\n",
      "mean validation corr: 0.006857107092612491\n",
      "mean validation sharpe: 0.19957747264144118\n"
     ]
    },
    {
     "name": "stderr",
     "output_type": "stream",
     "text": [
      "\n",
      "100%|██████████| 1/1 [00:02<00:00,  2.32s/it]\n",
      "\n",
      "  0%|          | 0/1 [00:00<?, ?it/s]\u001b[A"
     ]
    },
    {
     "name": "stdout",
     "output_type": "stream",
     "text": [
      "\n",
      "model: Lasso\n",
      "alpha: 0.0007750000000000001\n",
      "train stop: 42\n",
      "mean validation corr: 0.006857824049394128\n",
      "mean validation sharpe: 0.19297424828277812\n"
     ]
    },
    {
     "name": "stderr",
     "output_type": "stream",
     "text": [
      "\n",
      "100%|██████████| 1/1 [00:02<00:00,  2.33s/it]\n",
      "\n",
      "  0%|          | 0/1 [00:00<?, ?it/s]\u001b[A"
     ]
    },
    {
     "name": "stdout",
     "output_type": "stream",
     "text": [
      "\n",
      "model: Lasso\n",
      "alpha: 0.0007750000000000001\n",
      "train stop: 43\n",
      "mean validation corr: 0.00739314935860844\n",
      "mean validation sharpe: 0.2015398613319676\n"
     ]
    },
    {
     "name": "stderr",
     "output_type": "stream",
     "text": [
      "\n",
      "100%|██████████| 1/1 [00:02<00:00,  2.53s/it]\n",
      "\n",
      "  0%|          | 0/1 [00:00<?, ?it/s]\u001b[A"
     ]
    },
    {
     "name": "stdout",
     "output_type": "stream",
     "text": [
      "\n",
      "model: Lasso\n",
      "alpha: 0.0007750000000000001\n",
      "train stop: 44\n",
      "mean validation corr: 0.0067041151098729355\n",
      "mean validation sharpe: 0.1801851757353571\n"
     ]
    },
    {
     "name": "stderr",
     "output_type": "stream",
     "text": [
      "\n",
      "100%|██████████| 1/1 [00:02<00:00,  2.59s/it]\n",
      "\n",
      "  0%|          | 0/1 [00:00<?, ?it/s]\u001b[A"
     ]
    },
    {
     "name": "stdout",
     "output_type": "stream",
     "text": [
      "\n",
      "model: Lasso\n",
      "alpha: 0.0007750000000000001\n",
      "train stop: 45\n",
      "mean validation corr: 0.005545071825361009\n",
      "mean validation sharpe: 0.14290375423036106\n"
     ]
    },
    {
     "name": "stderr",
     "output_type": "stream",
     "text": [
      "\n",
      "100%|██████████| 1/1 [00:02<00:00,  2.74s/it]\n",
      "\n",
      "  0%|          | 0/1 [00:00<?, ?it/s]\u001b[A"
     ]
    },
    {
     "name": "stdout",
     "output_type": "stream",
     "text": [
      "\n",
      "model: Lasso\n",
      "alpha: 0.0007750000000000001\n",
      "train stop: 46\n",
      "mean validation corr: 0.005631111431082475\n",
      "mean validation sharpe: 0.1504296281655238\n"
     ]
    },
    {
     "name": "stderr",
     "output_type": "stream",
     "text": [
      "\n",
      "100%|██████████| 1/1 [00:02<00:00,  2.79s/it]\n",
      "\n",
      "  0%|          | 0/1 [00:00<?, ?it/s]\u001b[A"
     ]
    },
    {
     "name": "stdout",
     "output_type": "stream",
     "text": [
      "\n",
      "model: Lasso\n",
      "alpha: 0.0007750000000000001\n",
      "train stop: 47\n",
      "mean validation corr: 0.0058973084879790656\n",
      "mean validation sharpe: 0.1511814972693586\n"
     ]
    },
    {
     "name": "stderr",
     "output_type": "stream",
     "text": [
      "\n",
      "100%|██████████| 1/1 [00:02<00:00,  2.89s/it]\n",
      "\n",
      "  0%|          | 0/1 [00:00<?, ?it/s]\u001b[A"
     ]
    },
    {
     "name": "stdout",
     "output_type": "stream",
     "text": [
      "\n",
      "model: Lasso\n",
      "alpha: 0.0007750000000000001\n",
      "train stop: 48\n",
      "mean validation corr: 0.007012970168431181\n",
      "mean validation sharpe: 0.17767808995429088\n"
     ]
    },
    {
     "name": "stderr",
     "output_type": "stream",
     "text": [
      "\n",
      "100%|██████████| 1/1 [00:02<00:00,  2.90s/it]\n",
      "\n",
      "  0%|          | 0/1 [00:00<?, ?it/s]\u001b[A"
     ]
    },
    {
     "name": "stdout",
     "output_type": "stream",
     "text": [
      "\n",
      "model: Lasso\n",
      "alpha: 0.0007750000000000001\n",
      "train stop: 49\n",
      "mean validation corr: 0.0078031936599204195\n",
      "mean validation sharpe: 0.20449092489473727\n"
     ]
    },
    {
     "name": "stderr",
     "output_type": "stream",
     "text": [
      "\n",
      "100%|██████████| 1/1 [00:03<00:00,  3.11s/it]\n",
      "\n",
      "  0%|          | 0/1 [00:00<?, ?it/s]\u001b[A"
     ]
    },
    {
     "name": "stdout",
     "output_type": "stream",
     "text": [
      "\n",
      "model: Lasso\n",
      "alpha: 0.0007750000000000001\n",
      "train stop: 50\n",
      "mean validation corr: 0.008497008812076955\n",
      "mean validation sharpe: 0.23640862494924117\n"
     ]
    },
    {
     "name": "stderr",
     "output_type": "stream",
     "text": [
      "\n",
      "100%|██████████| 1/1 [00:03<00:00,  3.22s/it]\n",
      "\n",
      "  0%|          | 0/1 [00:00<?, ?it/s]\u001b[A"
     ]
    },
    {
     "name": "stdout",
     "output_type": "stream",
     "text": [
      "\n",
      "model: Lasso\n",
      "alpha: 0.0007750000000000001\n",
      "train stop: 51\n",
      "mean validation corr: 0.008133614771902855\n",
      "mean validation sharpe: 0.2200917198887535\n"
     ]
    },
    {
     "name": "stderr",
     "output_type": "stream",
     "text": [
      "\n",
      "100%|██████████| 1/1 [00:03<00:00,  3.33s/it]\n",
      "\n",
      "  0%|          | 0/1 [00:00<?, ?it/s]\u001b[A"
     ]
    },
    {
     "name": "stdout",
     "output_type": "stream",
     "text": [
      "\n",
      "model: Lasso\n",
      "alpha: 0.0007750000000000001\n",
      "train stop: 52\n",
      "mean validation corr: 0.008379906197019778\n",
      "mean validation sharpe: 0.2232310116072505\n"
     ]
    },
    {
     "name": "stderr",
     "output_type": "stream",
     "text": [
      "\n",
      "100%|██████████| 1/1 [00:03<00:00,  3.41s/it]\n",
      "\n",
      "  0%|          | 0/1 [00:00<?, ?it/s]\u001b[A"
     ]
    },
    {
     "name": "stdout",
     "output_type": "stream",
     "text": [
      "\n",
      "model: Lasso\n",
      "alpha: 0.0007750000000000001\n",
      "train stop: 53\n",
      "mean validation corr: 0.009444578831992895\n",
      "mean validation sharpe: 0.2585008550573508\n"
     ]
    },
    {
     "name": "stderr",
     "output_type": "stream",
     "text": [
      "\n",
      "100%|██████████| 1/1 [00:03<00:00,  3.31s/it]\n",
      "\n",
      "  0%|          | 0/1 [00:00<?, ?it/s]\u001b[A"
     ]
    },
    {
     "name": "stdout",
     "output_type": "stream",
     "text": [
      "\n",
      "model: Lasso\n",
      "alpha: 0.0007750000000000001\n",
      "train stop: 54\n",
      "mean validation corr: 0.00958982651912197\n",
      "mean validation sharpe: 0.24461059990153367\n"
     ]
    },
    {
     "name": "stderr",
     "output_type": "stream",
     "text": [
      "\n",
      "100%|██████████| 1/1 [00:03<00:00,  3.54s/it]\n",
      "\n",
      "  0%|          | 0/1 [00:00<?, ?it/s]\u001b[A"
     ]
    },
    {
     "name": "stdout",
     "output_type": "stream",
     "text": [
      "\n",
      "model: Lasso\n",
      "alpha: 0.0007750000000000001\n",
      "train stop: 55\n",
      "mean validation corr: 0.008815425643260086\n",
      "mean validation sharpe: 0.21310019916310174\n"
     ]
    },
    {
     "name": "stderr",
     "output_type": "stream",
     "text": [
      "\n",
      "100%|██████████| 1/1 [00:03<00:00,  3.68s/it]\n",
      "\n",
      "  0%|          | 0/1 [00:00<?, ?it/s]\u001b[A"
     ]
    },
    {
     "name": "stdout",
     "output_type": "stream",
     "text": [
      "\n",
      "model: Lasso\n",
      "alpha: 0.0007750000000000001\n",
      "train stop: 56\n",
      "mean validation corr: 0.008538744718890406\n",
      "mean validation sharpe: 0.19031843613557622\n"
     ]
    },
    {
     "name": "stderr",
     "output_type": "stream",
     "text": [
      "\n",
      "100%|██████████| 1/1 [00:03<00:00,  3.74s/it]\n",
      "\n",
      "  0%|          | 0/1 [00:00<?, ?it/s]\u001b[A"
     ]
    },
    {
     "name": "stdout",
     "output_type": "stream",
     "text": [
      "\n",
      "model: Lasso\n",
      "alpha: 0.0007750000000000001\n",
      "train stop: 57\n",
      "mean validation corr: 0.00753530792495008\n",
      "mean validation sharpe: 0.15842325528504478\n"
     ]
    },
    {
     "name": "stderr",
     "output_type": "stream",
     "text": [
      "\n",
      "100%|██████████| 1/1 [00:03<00:00,  3.94s/it]\n",
      "\n",
      "  0%|          | 0/1 [00:00<?, ?it/s]\u001b[A"
     ]
    },
    {
     "name": "stdout",
     "output_type": "stream",
     "text": [
      "\n",
      "model: Lasso\n",
      "alpha: 0.0007750000000000001\n",
      "train stop: 58\n",
      "mean validation corr: 0.007247402343088325\n",
      "mean validation sharpe: 0.15324859239224772\n"
     ]
    },
    {
     "name": "stderr",
     "output_type": "stream",
     "text": [
      "\n",
      "100%|██████████| 1/1 [00:04<00:00,  4.07s/it]\n",
      "\n",
      "  0%|          | 0/1 [00:00<?, ?it/s]\u001b[A"
     ]
    },
    {
     "name": "stdout",
     "output_type": "stream",
     "text": [
      "\n",
      "model: Lasso\n",
      "alpha: 0.0007750000000000001\n",
      "train stop: 59\n",
      "mean validation corr: 0.008591815599995379\n",
      "mean validation sharpe: 0.1808929419118816\n"
     ]
    },
    {
     "name": "stderr",
     "output_type": "stream",
     "text": [
      "\n",
      "100%|██████████| 1/1 [00:03<00:00,  3.49s/it]\n",
      "\n",
      "  0%|          | 0/1 [00:00<?, ?it/s]\u001b[A"
     ]
    },
    {
     "name": "stdout",
     "output_type": "stream",
     "text": [
      "\n",
      "model: Lasso\n",
      "alpha: 0.0007750000000000001\n",
      "train stop: 60\n",
      "mean validation corr: 0.007371279504484357\n",
      "mean validation sharpe: 0.1615902234529425\n"
     ]
    },
    {
     "name": "stderr",
     "output_type": "stream",
     "text": [
      "\n",
      "100%|██████████| 1/1 [00:03<00:00,  3.58s/it]\n",
      "\n",
      "  0%|          | 0/1 [00:00<?, ?it/s]\u001b[A"
     ]
    },
    {
     "name": "stdout",
     "output_type": "stream",
     "text": [
      "\n",
      "model: Lasso\n",
      "alpha: 0.0007750000000000001\n",
      "train stop: 61\n",
      "mean validation corr: 0.008547311222519146\n",
      "mean validation sharpe: 0.1871284946679105\n"
     ]
    },
    {
     "name": "stderr",
     "output_type": "stream",
     "text": [
      "\n",
      "100%|██████████| 1/1 [00:03<00:00,  3.57s/it]\n",
      "\n",
      "  0%|          | 0/1 [00:00<?, ?it/s]\u001b[A"
     ]
    },
    {
     "name": "stdout",
     "output_type": "stream",
     "text": [
      "\n",
      "model: Lasso\n",
      "alpha: 0.0007750000000000001\n",
      "train stop: 62\n",
      "mean validation corr: 0.006462421478711093\n",
      "mean validation sharpe: 0.14094759559058068\n"
     ]
    },
    {
     "name": "stderr",
     "output_type": "stream",
     "text": [
      "\n",
      "100%|██████████| 1/1 [00:03<00:00,  3.83s/it]\n",
      "\n",
      "  0%|          | 0/1 [00:00<?, ?it/s]\u001b[A"
     ]
    },
    {
     "name": "stdout",
     "output_type": "stream",
     "text": [
      "\n",
      "model: Lasso\n",
      "alpha: 0.0007750000000000001\n",
      "train stop: 63\n",
      "mean validation corr: 0.0066647254107708425\n",
      "mean validation sharpe: 0.147185259396685\n"
     ]
    },
    {
     "name": "stderr",
     "output_type": "stream",
     "text": [
      "\n",
      "100%|██████████| 1/1 [00:03<00:00,  3.38s/it]\n",
      "\n",
      "  0%|          | 0/1 [00:00<?, ?it/s]\u001b[A"
     ]
    },
    {
     "name": "stdout",
     "output_type": "stream",
     "text": [
      "\n",
      "model: Lasso\n",
      "alpha: 0.0007750000000000001\n",
      "train stop: 64\n",
      "mean validation corr: 0.00723312681537212\n",
      "mean validation sharpe: 0.1655461399018686\n"
     ]
    },
    {
     "name": "stderr",
     "output_type": "stream",
     "text": [
      "\n",
      "100%|██████████| 1/1 [00:03<00:00,  3.75s/it]\n",
      "\n",
      "  0%|          | 0/1 [00:00<?, ?it/s]\u001b[A"
     ]
    },
    {
     "name": "stdout",
     "output_type": "stream",
     "text": [
      "\n",
      "model: Lasso\n",
      "alpha: 0.0007750000000000001\n",
      "train stop: 65\n",
      "mean validation corr: 0.007259544050289765\n",
      "mean validation sharpe: 0.16822080251023702\n"
     ]
    },
    {
     "name": "stderr",
     "output_type": "stream",
     "text": [
      "\n",
      "100%|██████████| 1/1 [00:03<00:00,  3.39s/it]\n",
      "\n",
      "  0%|          | 0/1 [00:00<?, ?it/s]\u001b[A"
     ]
    },
    {
     "name": "stdout",
     "output_type": "stream",
     "text": [
      "\n",
      "model: Lasso\n",
      "alpha: 0.0007750000000000001\n",
      "train stop: 66\n",
      "mean validation corr: 0.0067255181663054\n",
      "mean validation sharpe: 0.14604224275822775\n"
     ]
    },
    {
     "name": "stderr",
     "output_type": "stream",
     "text": [
      "\n",
      "100%|██████████| 1/1 [00:03<00:00,  3.92s/it]\n",
      "\n",
      "  0%|          | 0/1 [00:00<?, ?it/s]\u001b[A"
     ]
    },
    {
     "name": "stdout",
     "output_type": "stream",
     "text": [
      "\n",
      "model: Lasso\n",
      "alpha: 0.0007750000000000001\n",
      "train stop: 67\n",
      "mean validation corr: 0.0058393407328653345\n",
      "mean validation sharpe: 0.12629175814228086\n"
     ]
    },
    {
     "name": "stderr",
     "output_type": "stream",
     "text": [
      "\n",
      "100%|██████████| 1/1 [00:03<00:00,  3.40s/it]\n",
      "\n",
      "  0%|          | 0/1 [00:00<?, ?it/s]\u001b[A"
     ]
    },
    {
     "name": "stdout",
     "output_type": "stream",
     "text": [
      "\n",
      "model: Lasso\n",
      "alpha: 0.0007750000000000001\n",
      "train stop: 68\n",
      "mean validation corr: 0.00448742521951488\n",
      "mean validation sharpe: 0.0965370111256042\n"
     ]
    },
    {
     "name": "stderr",
     "output_type": "stream",
     "text": [
      "\n",
      "100%|██████████| 1/1 [00:03<00:00,  3.29s/it]\n",
      "\n",
      "  0%|          | 0/1 [00:00<?, ?it/s]\u001b[A"
     ]
    },
    {
     "name": "stdout",
     "output_type": "stream",
     "text": [
      "\n",
      "model: Lasso\n",
      "alpha: 0.0007750000000000001\n",
      "train stop: 69\n",
      "mean validation corr: 0.002958994422507806\n",
      "mean validation sharpe: 0.06228594764246674\n"
     ]
    },
    {
     "name": "stderr",
     "output_type": "stream",
     "text": [
      "\n",
      "100%|██████████| 1/1 [00:03<00:00,  3.67s/it]\n",
      "\n",
      "  0%|          | 0/1 [00:00<?, ?it/s]\u001b[A"
     ]
    },
    {
     "name": "stdout",
     "output_type": "stream",
     "text": [
      "\n",
      "model: Lasso\n",
      "alpha: 0.0007750000000000001\n",
      "train stop: 70\n",
      "mean validation corr: 0.0025607865549753493\n",
      "mean validation sharpe: 0.05345159426485209\n"
     ]
    },
    {
     "name": "stderr",
     "output_type": "stream",
     "text": [
      "\n",
      "100%|██████████| 1/1 [00:04<00:00,  4.09s/it]\n",
      "\n",
      "  0%|          | 0/1 [00:00<?, ?it/s]\u001b[A"
     ]
    },
    {
     "name": "stdout",
     "output_type": "stream",
     "text": [
      "\n",
      "model: Lasso\n",
      "alpha: 0.0007750000000000001\n",
      "train stop: 71\n",
      "mean validation corr: 0.0034011020922027624\n",
      "mean validation sharpe: 0.07057953753414764\n"
     ]
    },
    {
     "name": "stderr",
     "output_type": "stream",
     "text": [
      "\n",
      "100%|██████████| 1/1 [00:04<00:00,  4.08s/it]\n",
      "\n",
      "  0%|          | 0/1 [00:00<?, ?it/s]\u001b[A"
     ]
    },
    {
     "name": "stdout",
     "output_type": "stream",
     "text": [
      "\n",
      "model: Lasso\n",
      "alpha: 0.0007750000000000001\n",
      "train stop: 72\n",
      "mean validation corr: 0.004149180015923411\n",
      "mean validation sharpe: 0.09039018441162966\n"
     ]
    },
    {
     "name": "stderr",
     "output_type": "stream",
     "text": [
      "\n",
      "100%|██████████| 1/1 [00:03<00:00,  3.30s/it]\n",
      "\n",
      "  0%|          | 0/1 [00:00<?, ?it/s]\u001b[A"
     ]
    },
    {
     "name": "stdout",
     "output_type": "stream",
     "text": [
      "\n",
      "model: Lasso\n",
      "alpha: 0.0007750000000000001\n",
      "train stop: 73\n",
      "mean validation corr: 0.0024350704929723965\n",
      "mean validation sharpe: 0.05536639296496128\n"
     ]
    },
    {
     "name": "stderr",
     "output_type": "stream",
     "text": [
      "\n",
      "100%|██████████| 1/1 [00:03<00:00,  3.63s/it]\n",
      "\n",
      "  0%|          | 0/1 [00:00<?, ?it/s]\u001b[A"
     ]
    },
    {
     "name": "stdout",
     "output_type": "stream",
     "text": [
      "\n",
      "model: Lasso\n",
      "alpha: 0.0007750000000000001\n",
      "train stop: 74\n",
      "mean validation corr: 0.002989333307673694\n",
      "mean validation sharpe: 0.07183209219076477\n"
     ]
    },
    {
     "name": "stderr",
     "output_type": "stream",
     "text": [
      "\n",
      "100%|██████████| 1/1 [00:03<00:00,  3.97s/it]\n",
      "\n",
      "  0%|          | 0/1 [00:00<?, ?it/s]\u001b[A"
     ]
    },
    {
     "name": "stdout",
     "output_type": "stream",
     "text": [
      "\n",
      "model: Lasso\n",
      "alpha: 0.0007750000000000001\n",
      "train stop: 75\n",
      "mean validation corr: 0.0037846751047190402\n",
      "mean validation sharpe: 0.08798775512177874\n"
     ]
    },
    {
     "name": "stderr",
     "output_type": "stream",
     "text": [
      "\n",
      "100%|██████████| 1/1 [00:04<00:00,  4.31s/it]\n",
      "\n",
      "  0%|          | 0/1 [00:00<?, ?it/s]\u001b[A"
     ]
    },
    {
     "name": "stdout",
     "output_type": "stream",
     "text": [
      "\n",
      "model: Lasso\n",
      "alpha: 0.0007750000000000001\n",
      "train stop: 76\n",
      "mean validation corr: 0.004719656125735199\n",
      "mean validation sharpe: 0.11402499852915775\n"
     ]
    },
    {
     "name": "stderr",
     "output_type": "stream",
     "text": [
      "\n",
      "100%|██████████| 1/1 [00:03<00:00,  3.93s/it]\n",
      "\n",
      "  0%|          | 0/1 [00:00<?, ?it/s]\u001b[A"
     ]
    },
    {
     "name": "stdout",
     "output_type": "stream",
     "text": [
      "\n",
      "model: Lasso\n",
      "alpha: 0.0007750000000000001\n",
      "train stop: 77\n",
      "mean validation corr: 0.004671015276456282\n",
      "mean validation sharpe: 0.10562008887051241\n"
     ]
    },
    {
     "name": "stderr",
     "output_type": "stream",
     "text": [
      "\n",
      "100%|██████████| 1/1 [00:03<00:00,  3.92s/it]\n",
      "\n",
      "  0%|          | 0/1 [00:00<?, ?it/s]\u001b[A"
     ]
    },
    {
     "name": "stdout",
     "output_type": "stream",
     "text": [
      "\n",
      "model: Lasso\n",
      "alpha: 0.0007750000000000001\n",
      "train stop: 78\n",
      "mean validation corr: 0.0034196700256953934\n",
      "mean validation sharpe: 0.08219886400019191\n"
     ]
    },
    {
     "name": "stderr",
     "output_type": "stream",
     "text": [
      "\n",
      "100%|██████████| 1/1 [00:03<00:00,  3.94s/it]\n",
      "\n",
      "  0%|          | 0/1 [00:00<?, ?it/s]\u001b[A"
     ]
    },
    {
     "name": "stdout",
     "output_type": "stream",
     "text": [
      "\n",
      "model: Lasso\n",
      "alpha: 0.0007750000000000001\n",
      "train stop: 79\n",
      "mean validation corr: 0.0030557585077625737\n",
      "mean validation sharpe: 0.07259096204099316\n"
     ]
    },
    {
     "name": "stderr",
     "output_type": "stream",
     "text": [
      "\n",
      "100%|██████████| 1/1 [00:04<00:00,  4.09s/it]\n",
      "\n",
      "  0%|          | 0/1 [00:00<?, ?it/s]\u001b[A"
     ]
    },
    {
     "name": "stdout",
     "output_type": "stream",
     "text": [
      "\n",
      "model: Lasso\n",
      "alpha: 0.0007750000000000001\n",
      "train stop: 80\n",
      "mean validation corr: 0.0025775175749741808\n",
      "mean validation sharpe: 0.06387082756167796\n"
     ]
    },
    {
     "name": "stderr",
     "output_type": "stream",
     "text": [
      "\n",
      "100%|██████████| 1/1 [00:04<00:00,  4.23s/it]\n",
      "\n",
      "  0%|          | 0/1 [00:00<?, ?it/s]\u001b[A"
     ]
    },
    {
     "name": "stdout",
     "output_type": "stream",
     "text": [
      "\n",
      "model: Lasso\n",
      "alpha: 0.0007750000000000001\n",
      "train stop: 81\n",
      "mean validation corr: 0.004317343415873661\n",
      "mean validation sharpe: 0.1062093615375973\n"
     ]
    },
    {
     "name": "stderr",
     "output_type": "stream",
     "text": [
      "\n",
      "100%|██████████| 1/1 [00:04<00:00,  4.39s/it]\n",
      "\n",
      "  0%|          | 0/1 [00:00<?, ?it/s]\u001b[A"
     ]
    },
    {
     "name": "stdout",
     "output_type": "stream",
     "text": [
      "\n",
      "model: Lasso\n",
      "alpha: 0.0007750000000000001\n",
      "train stop: 82\n",
      "mean validation corr: 0.0037834445313147946\n",
      "mean validation sharpe: 0.09044745989401544\n"
     ]
    },
    {
     "name": "stderr",
     "output_type": "stream",
     "text": [
      "\n",
      "100%|██████████| 1/1 [00:04<00:00,  4.32s/it]\n",
      "\n",
      "  0%|          | 0/1 [00:00<?, ?it/s]\u001b[A"
     ]
    },
    {
     "name": "stdout",
     "output_type": "stream",
     "text": [
      "\n",
      "model: Lasso\n",
      "alpha: 0.0007750000000000001\n",
      "train stop: 83\n",
      "mean validation corr: 0.004526230030263957\n",
      "mean validation sharpe: 0.10756077696410196\n"
     ]
    },
    {
     "name": "stderr",
     "output_type": "stream",
     "text": [
      "\n",
      "100%|██████████| 1/1 [00:04<00:00,  4.39s/it]\n",
      "\n",
      "  0%|          | 0/1 [00:00<?, ?it/s]\u001b[A"
     ]
    },
    {
     "name": "stdout",
     "output_type": "stream",
     "text": [
      "\n",
      "model: Lasso\n",
      "alpha: 0.0007750000000000001\n",
      "train stop: 84\n",
      "mean validation corr: 0.005648025622046565\n",
      "mean validation sharpe: 0.13054793345795346\n"
     ]
    },
    {
     "name": "stderr",
     "output_type": "stream",
     "text": [
      "\n",
      "100%|██████████| 1/1 [00:04<00:00,  4.38s/it]\n",
      "\n",
      "  0%|          | 0/1 [00:00<?, ?it/s]\u001b[A"
     ]
    },
    {
     "name": "stdout",
     "output_type": "stream",
     "text": [
      "\n",
      "model: Lasso\n",
      "alpha: 0.0007750000000000001\n",
      "train stop: 85\n",
      "mean validation corr: 0.005904762221990237\n",
      "mean validation sharpe: 0.13324279015272852\n"
     ]
    },
    {
     "name": "stderr",
     "output_type": "stream",
     "text": [
      "\n",
      "100%|██████████| 1/1 [00:04<00:00,  4.51s/it]\n",
      "\n",
      "  0%|          | 0/1 [00:00<?, ?it/s]\u001b[A"
     ]
    },
    {
     "name": "stdout",
     "output_type": "stream",
     "text": [
      "\n",
      "model: Lasso\n",
      "alpha: 0.0007750000000000001\n",
      "train stop: 86\n",
      "mean validation corr: 0.004606441090880127\n",
      "mean validation sharpe: 0.10346808448166782\n"
     ]
    },
    {
     "name": "stderr",
     "output_type": "stream",
     "text": [
      "\n",
      "100%|██████████| 1/1 [00:04<00:00,  4.50s/it]\n",
      "\n",
      "  0%|          | 0/1 [00:00<?, ?it/s]\u001b[A"
     ]
    },
    {
     "name": "stdout",
     "output_type": "stream",
     "text": [
      "\n",
      "model: Lasso\n",
      "alpha: 0.0007750000000000001\n",
      "train stop: 87\n",
      "mean validation corr: 0.0038453608267240797\n",
      "mean validation sharpe: 0.08731570550606722\n"
     ]
    },
    {
     "name": "stderr",
     "output_type": "stream",
     "text": [
      "\n",
      "100%|██████████| 1/1 [00:04<00:00,  4.55s/it]\n",
      "\n",
      "  0%|          | 0/1 [00:00<?, ?it/s]\u001b[A"
     ]
    },
    {
     "name": "stdout",
     "output_type": "stream",
     "text": [
      "\n",
      "model: Lasso\n",
      "alpha: 0.0007750000000000001\n",
      "train stop: 88\n",
      "mean validation corr: 0.003301782430106856\n",
      "mean validation sharpe: 0.07593928586653555\n"
     ]
    },
    {
     "name": "stderr",
     "output_type": "stream",
     "text": [
      "\n",
      "100%|██████████| 1/1 [00:04<00:00,  4.63s/it]\n",
      "\n",
      "  0%|          | 0/1 [00:00<?, ?it/s]\u001b[A"
     ]
    },
    {
     "name": "stdout",
     "output_type": "stream",
     "text": [
      "\n",
      "model: Lasso\n",
      "alpha: 0.0007750000000000001\n",
      "train stop: 89\n",
      "mean validation corr: 0.0028665233986296303\n",
      "mean validation sharpe: 0.0652086331555825\n"
     ]
    },
    {
     "name": "stderr",
     "output_type": "stream",
     "text": [
      "\n",
      "100%|██████████| 1/1 [00:04<00:00,  4.77s/it]\n",
      "\n",
      "  0%|          | 0/1 [00:00<?, ?it/s]\u001b[A"
     ]
    },
    {
     "name": "stdout",
     "output_type": "stream",
     "text": [
      "\n",
      "model: Lasso\n",
      "alpha: 0.0007750000000000001\n",
      "train stop: 90\n",
      "mean validation corr: 0.0032724256442475848\n",
      "mean validation sharpe: 0.07065746720469446\n"
     ]
    },
    {
     "name": "stderr",
     "output_type": "stream",
     "text": [
      "\n",
      "100%|██████████| 1/1 [00:04<00:00,  4.85s/it]\n",
      "\n",
      "  0%|          | 0/1 [00:00<?, ?it/s]\u001b[A"
     ]
    },
    {
     "name": "stdout",
     "output_type": "stream",
     "text": [
      "\n",
      "model: Lasso\n",
      "alpha: 0.0007750000000000001\n",
      "train stop: 91\n",
      "mean validation corr: 0.004305441689655689\n",
      "mean validation sharpe: 0.0929932227603402\n"
     ]
    },
    {
     "name": "stderr",
     "output_type": "stream",
     "text": [
      "\n",
      "100%|██████████| 1/1 [00:04<00:00,  4.81s/it]\n",
      "\n",
      "  0%|          | 0/1 [00:00<?, ?it/s]\u001b[A"
     ]
    },
    {
     "name": "stdout",
     "output_type": "stream",
     "text": [
      "\n",
      "model: Lasso\n",
      "alpha: 0.0007750000000000001\n",
      "train stop: 92\n",
      "mean validation corr: 0.0030850614313928763\n",
      "mean validation sharpe: 0.06459985109666322\n"
     ]
    },
    {
     "name": "stderr",
     "output_type": "stream",
     "text": [
      "\n",
      "100%|██████████| 1/1 [00:05<00:00,  5.27s/it]\n",
      "\n",
      "  0%|          | 0/1 [00:00<?, ?it/s]\u001b[A"
     ]
    },
    {
     "name": "stdout",
     "output_type": "stream",
     "text": [
      "\n",
      "model: Lasso\n",
      "alpha: 0.0007750000000000001\n",
      "train stop: 93\n",
      "mean validation corr: 0.0026042130164198214\n",
      "mean validation sharpe: 0.053474862892028185\n"
     ]
    },
    {
     "name": "stderr",
     "output_type": "stream",
     "text": [
      "\n",
      "100%|██████████| 1/1 [00:05<00:00,  5.72s/it]\n",
      "\n",
      "  0%|          | 0/1 [00:00<?, ?it/s]\u001b[A"
     ]
    },
    {
     "name": "stdout",
     "output_type": "stream",
     "text": [
      "\n",
      "model: Lasso\n",
      "alpha: 0.0007750000000000001\n",
      "train stop: 94\n",
      "mean validation corr: 0.002095816535038937\n",
      "mean validation sharpe: 0.04512225765905358\n"
     ]
    },
    {
     "name": "stderr",
     "output_type": "stream",
     "text": [
      "\n",
      "100%|██████████| 1/1 [00:07<00:00,  7.22s/it]\n",
      "\n",
      "  0%|          | 0/1 [00:00<?, ?it/s]\u001b[A"
     ]
    },
    {
     "name": "stdout",
     "output_type": "stream",
     "text": [
      "\n",
      "model: Lasso\n",
      "alpha: 0.0007750000000000001\n",
      "train stop: 95\n",
      "mean validation corr: 0.0015439597842851135\n",
      "mean validation sharpe: 0.03329946797779413\n"
     ]
    },
    {
     "name": "stderr",
     "output_type": "stream",
     "text": [
      "\n",
      "100%|██████████| 1/1 [00:07<00:00,  7.79s/it]\n",
      "\n",
      "  0%|          | 0/1 [00:00<?, ?it/s]\u001b[A"
     ]
    },
    {
     "name": "stdout",
     "output_type": "stream",
     "text": [
      "\n",
      "model: Lasso\n",
      "alpha: 0.0007750000000000001\n",
      "train stop: 96\n",
      "mean validation corr: 0.0017973598574551261\n",
      "mean validation sharpe: 0.03966738086541037\n"
     ]
    },
    {
     "name": "stderr",
     "output_type": "stream",
     "text": [
      "\n",
      "100%|██████████| 1/1 [00:05<00:00,  5.26s/it]\n",
      "\n",
      "  0%|          | 0/1 [00:00<?, ?it/s]\u001b[A"
     ]
    },
    {
     "name": "stdout",
     "output_type": "stream",
     "text": [
      "\n",
      "model: Lasso\n",
      "alpha: 0.0007750000000000001\n",
      "train stop: 97\n",
      "mean validation corr: 0.0006996974179720658\n",
      "mean validation sharpe: 0.015702421133227396\n"
     ]
    },
    {
     "name": "stderr",
     "output_type": "stream",
     "text": [
      "\n",
      "100%|██████████| 1/1 [00:05<00:00,  5.16s/it]\n",
      "\n",
      "  0%|          | 0/1 [00:00<?, ?it/s]\u001b[A"
     ]
    },
    {
     "name": "stdout",
     "output_type": "stream",
     "text": [
      "\n",
      "model: Lasso\n",
      "alpha: 0.0007750000000000001\n",
      "train stop: 98\n",
      "mean validation corr: -0.0002546232413141829\n",
      "mean validation sharpe: -0.005544368398181452\n"
     ]
    },
    {
     "name": "stderr",
     "output_type": "stream",
     "text": [
      "\n",
      "100%|██████████| 1/1 [00:05<00:00,  5.31s/it]\n",
      "\n",
      "  0%|          | 0/1 [00:00<?, ?it/s]\u001b[A"
     ]
    },
    {
     "name": "stdout",
     "output_type": "stream",
     "text": [
      "\n",
      "model: Lasso\n",
      "alpha: 0.0007750000000000001\n",
      "train stop: 99\n",
      "mean validation corr: -0.00021724354963191007\n",
      "mean validation sharpe: -0.004817216174009397\n"
     ]
    },
    {
     "name": "stderr",
     "output_type": "stream",
     "text": [
      "\n",
      "100%|██████████| 1/1 [00:03<00:00,  3.98s/it]\n",
      "\n",
      "  0%|          | 0/1 [00:00<?, ?it/s]\u001b[A"
     ]
    },
    {
     "name": "stdout",
     "output_type": "stream",
     "text": [
      "\n",
      "model: Lasso\n",
      "alpha: 0.0007750000000000001\n",
      "train stop: 100\n",
      "mean validation corr: -0.0005095618345149974\n",
      "mean validation sharpe: -0.011265441853374846\n"
     ]
    },
    {
     "name": "stderr",
     "output_type": "stream",
     "text": [
      "\n",
      "100%|██████████| 1/1 [00:04<00:00,  4.01s/it]\n",
      "\n",
      "  0%|          | 0/1 [00:00<?, ?it/s]\u001b[A"
     ]
    },
    {
     "name": "stdout",
     "output_type": "stream",
     "text": [
      "\n",
      "model: Lasso\n",
      "alpha: 0.0007750000000000001\n",
      "train stop: 101\n",
      "mean validation corr: -0.0009298516967704146\n",
      "mean validation sharpe: -0.020178980513931712\n"
     ]
    },
    {
     "name": "stderr",
     "output_type": "stream",
     "text": [
      "\n",
      "100%|██████████| 1/1 [00:03<00:00,  3.72s/it]\n",
      "\n",
      "  0%|          | 0/1 [00:00<?, ?it/s]\u001b[A"
     ]
    },
    {
     "name": "stdout",
     "output_type": "stream",
     "text": [
      "\n",
      "model: Lasso\n",
      "alpha: 0.0007750000000000001\n",
      "train stop: 102\n",
      "mean validation corr: -0.0004358588933405204\n",
      "mean validation sharpe: -0.010263265652060231\n"
     ]
    },
    {
     "name": "stderr",
     "output_type": "stream",
     "text": [
      "\n",
      "100%|██████████| 1/1 [00:03<00:00,  3.60s/it]\n",
      "\n",
      "  0%|          | 0/1 [00:00<?, ?it/s]\u001b[A"
     ]
    },
    {
     "name": "stdout",
     "output_type": "stream",
     "text": [
      "\n",
      "model: Lasso\n",
      "alpha: 0.0007750000000000001\n",
      "train stop: 103\n",
      "mean validation corr: 3.510365770641871e-05\n",
      "mean validation sharpe: 0.0008197086262277169\n"
     ]
    },
    {
     "name": "stderr",
     "output_type": "stream",
     "text": [
      "\n",
      "100%|██████████| 1/1 [00:03<00:00,  3.52s/it]\n",
      "\n",
      "  0%|          | 0/1 [00:00<?, ?it/s]\u001b[A"
     ]
    },
    {
     "name": "stdout",
     "output_type": "stream",
     "text": [
      "\n",
      "model: Lasso\n",
      "alpha: 0.0007750000000000001\n",
      "train stop: 104\n",
      "mean validation corr: -0.0006350479879549988\n",
      "mean validation sharpe: -0.016092958200514824\n"
     ]
    },
    {
     "name": "stderr",
     "output_type": "stream",
     "text": [
      "\n",
      "100%|██████████| 1/1 [00:03<00:00,  3.73s/it]\n",
      "\n",
      "  0%|          | 0/1 [00:00<?, ?it/s]\u001b[A"
     ]
    },
    {
     "name": "stdout",
     "output_type": "stream",
     "text": [
      "\n",
      "model: Lasso\n",
      "alpha: 0.0007750000000000001\n",
      "train stop: 105\n",
      "mean validation corr: 0.00035661148037275867\n",
      "mean validation sharpe: 0.008238843683433155\n"
     ]
    },
    {
     "name": "stderr",
     "output_type": "stream",
     "text": [
      "\n",
      "100%|██████████| 1/1 [00:03<00:00,  3.64s/it]\n",
      "\n",
      "  0%|          | 0/1 [00:00<?, ?it/s]\u001b[A"
     ]
    },
    {
     "name": "stdout",
     "output_type": "stream",
     "text": [
      "\n",
      "model: Lasso\n",
      "alpha: 0.0007750000000000001\n",
      "train stop: 106\n",
      "mean validation corr: 0.0008324475694419086\n",
      "mean validation sharpe: 0.020415455779100613\n"
     ]
    },
    {
     "name": "stderr",
     "output_type": "stream",
     "text": [
      "\n",
      "100%|██████████| 1/1 [00:03<00:00,  3.65s/it]\n",
      "\n",
      "  0%|          | 0/1 [00:00<?, ?it/s]\u001b[A"
     ]
    },
    {
     "name": "stdout",
     "output_type": "stream",
     "text": [
      "\n",
      "model: Lasso\n",
      "alpha: 0.0007750000000000001\n",
      "train stop: 107\n",
      "mean validation corr: 0.0007258274263407891\n",
      "mean validation sharpe: 0.018631865971613402\n"
     ]
    },
    {
     "name": "stderr",
     "output_type": "stream",
     "text": [
      "\n",
      "100%|██████████| 1/1 [00:03<00:00,  3.77s/it]\n",
      "\n",
      "  0%|          | 0/1 [00:00<?, ?it/s]\u001b[A"
     ]
    },
    {
     "name": "stdout",
     "output_type": "stream",
     "text": [
      "\n",
      "model: Lasso\n",
      "alpha: 0.0007750000000000001\n",
      "train stop: 108\n",
      "mean validation corr: 0.00033297659821847\n",
      "mean validation sharpe: 0.008343739332343128\n"
     ]
    },
    {
     "name": "stderr",
     "output_type": "stream",
     "text": [
      "\n",
      "100%|██████████| 1/1 [00:03<00:00,  3.85s/it]\n",
      "\n",
      "  0%|          | 0/1 [00:00<?, ?it/s]\u001b[A"
     ]
    },
    {
     "name": "stdout",
     "output_type": "stream",
     "text": [
      "\n",
      "model: Lasso\n",
      "alpha: 0.0007750000000000001\n",
      "train stop: 109\n",
      "mean validation corr: 0.0011407547219332015\n",
      "mean validation sharpe: 0.02850059230808892\n"
     ]
    },
    {
     "name": "stderr",
     "output_type": "stream",
     "text": [
      "\n",
      "100%|██████████| 1/1 [00:03<00:00,  3.97s/it]\n",
      "\n",
      "  0%|          | 0/1 [00:00<?, ?it/s]\u001b[A"
     ]
    },
    {
     "name": "stdout",
     "output_type": "stream",
     "text": [
      "\n",
      "model: Lasso\n",
      "alpha: 0.0007750000000000001\n",
      "train stop: 110\n",
      "mean validation corr: 0.0014408877130327562\n",
      "mean validation sharpe: 0.037610066011164525\n"
     ]
    },
    {
     "name": "stderr",
     "output_type": "stream",
     "text": [
      "\n",
      "100%|██████████| 1/1 [00:04<00:00,  4.79s/it]\n",
      "\n",
      "  0%|          | 0/1 [00:00<?, ?it/s]\u001b[A"
     ]
    },
    {
     "name": "stdout",
     "output_type": "stream",
     "text": [
      "\n",
      "model: Lasso\n",
      "alpha: 0.0007750000000000001\n",
      "train stop: 111\n",
      "mean validation corr: 0.0019260070082491119\n",
      "mean validation sharpe: 0.048815994550298225\n"
     ]
    },
    {
     "name": "stderr",
     "output_type": "stream",
     "text": [
      "\n",
      "100%|██████████| 1/1 [00:04<00:00,  4.50s/it]\n",
      "\n",
      "  0%|          | 0/1 [00:00<?, ?it/s]\u001b[A"
     ]
    },
    {
     "name": "stdout",
     "output_type": "stream",
     "text": [
      "\n",
      "model: Lasso\n",
      "alpha: 0.0007750000000000001\n",
      "train stop: 112\n",
      "mean validation corr: 0.0016972768071722745\n",
      "mean validation sharpe: 0.041605871060188065\n"
     ]
    },
    {
     "name": "stderr",
     "output_type": "stream",
     "text": [
      "\n",
      "100%|██████████| 1/1 [00:05<00:00,  5.27s/it]\n",
      "\n",
      "  0%|          | 0/1 [00:00<?, ?it/s]\u001b[A"
     ]
    },
    {
     "name": "stdout",
     "output_type": "stream",
     "text": [
      "\n",
      "model: Lasso\n",
      "alpha: 0.0007750000000000001\n",
      "train stop: 113\n",
      "mean validation corr: 0.0018413938309022482\n",
      "mean validation sharpe: 0.04580210559656291\n"
     ]
    },
    {
     "name": "stderr",
     "output_type": "stream",
     "text": [
      "\n",
      "100%|██████████| 1/1 [00:05<00:00,  5.72s/it]\n",
      "\n",
      "  0%|          | 0/1 [00:00<?, ?it/s]\u001b[A"
     ]
    },
    {
     "name": "stdout",
     "output_type": "stream",
     "text": [
      "\n",
      "model: Lasso\n",
      "alpha: 0.0007750000000000001\n",
      "train stop: 114\n",
      "mean validation corr: 0.001270564729045305\n",
      "mean validation sharpe: 0.03195273635824716\n"
     ]
    },
    {
     "name": "stderr",
     "output_type": "stream",
     "text": [
      "\n",
      "100%|██████████| 1/1 [00:05<00:00,  5.83s/it]\n",
      "\n",
      "  0%|          | 0/1 [00:00<?, ?it/s]\u001b[A"
     ]
    },
    {
     "name": "stdout",
     "output_type": "stream",
     "text": [
      "\n",
      "model: Lasso\n",
      "alpha: 0.0007750000000000001\n",
      "train stop: 115\n",
      "mean validation corr: 0.00034910133745102816\n",
      "mean validation sharpe: 0.00821948657445551\n"
     ]
    },
    {
     "name": "stderr",
     "output_type": "stream",
     "text": [
      "\n",
      "100%|██████████| 1/1 [00:06<00:00,  6.14s/it]\n",
      "\n",
      "  0%|          | 0/1 [00:00<?, ?it/s]\u001b[A"
     ]
    },
    {
     "name": "stdout",
     "output_type": "stream",
     "text": [
      "\n",
      "model: Lasso\n",
      "alpha: 0.0007750000000000001\n",
      "train stop: 116\n",
      "mean validation corr: -0.00012025720644538891\n",
      "mean validation sharpe: -0.002875422279861502\n"
     ]
    },
    {
     "name": "stderr",
     "output_type": "stream",
     "text": [
      "\n",
      "100%|██████████| 1/1 [00:06<00:00,  6.87s/it]\n",
      "\n",
      "  0%|          | 0/1 [00:00<?, ?it/s]\u001b[A"
     ]
    },
    {
     "name": "stdout",
     "output_type": "stream",
     "text": [
      "\n",
      "model: Lasso\n",
      "alpha: 0.0007750000000000001\n",
      "train stop: 117\n",
      "mean validation corr: 0.00015147617073166253\n",
      "mean validation sharpe: 0.0035178087360310355\n"
     ]
    },
    {
     "name": "stderr",
     "output_type": "stream",
     "text": [
      "\n",
      "100%|██████████| 1/1 [00:05<00:00,  5.54s/it]\n",
      "\n",
      "  0%|          | 0/1 [00:00<?, ?it/s]\u001b[A"
     ]
    },
    {
     "name": "stdout",
     "output_type": "stream",
     "text": [
      "\n",
      "model: Lasso\n",
      "alpha: 0.0007750000000000001\n",
      "train stop: 118\n",
      "mean validation corr: 0.0006902169079333609\n",
      "mean validation sharpe: 0.01656733924620781\n"
     ]
    },
    {
     "name": "stderr",
     "output_type": "stream",
     "text": [
      "\n",
      "100%|██████████| 1/1 [00:05<00:00,  5.96s/it]\n",
      "\n",
      "  0%|          | 0/1 [00:00<?, ?it/s]\u001b[A"
     ]
    },
    {
     "name": "stdout",
     "output_type": "stream",
     "text": [
      "\n",
      "model: Lasso\n",
      "alpha: 0.0007750000000000001\n",
      "train stop: 119\n",
      "mean validation corr: -0.0007563012856568931\n",
      "mean validation sharpe: -0.01934082703998598\n"
     ]
    },
    {
     "name": "stderr",
     "output_type": "stream",
     "text": [
      "\n",
      "100%|██████████| 1/1 [00:05<00:00,  5.56s/it]\n",
      "\n",
      "  0%|          | 0/1 [00:00<?, ?it/s]\u001b[A"
     ]
    },
    {
     "name": "stdout",
     "output_type": "stream",
     "text": [
      "\n",
      "model: Lasso\n",
      "alpha: 0.0007750000000000001\n",
      "train stop: 120\n",
      "mean validation corr: 0.00015579335882348957\n",
      "mean validation sharpe: 0.004163136335642806\n"
     ]
    },
    {
     "name": "stderr",
     "output_type": "stream",
     "text": [
      "\n",
      "100%|██████████| 1/1 [00:05<00:00,  5.47s/it]\n",
      "\n",
      "  0%|          | 0/1 [00:00<?, ?it/s]\u001b[A"
     ]
    },
    {
     "name": "stdout",
     "output_type": "stream",
     "text": [
      "\n",
      "model: Lasso\n",
      "alpha: 0.0007750000000000001\n",
      "train stop: 121\n",
      "mean validation corr: 0.00038163538694743065\n",
      "mean validation sharpe: 0.010425580863559795\n"
     ]
    },
    {
     "name": "stderr",
     "output_type": "stream",
     "text": [
      "\n",
      "100%|██████████| 1/1 [00:05<00:00,  5.47s/it]\n",
      "\n",
      "  0%|          | 0/1 [00:00<?, ?it/s]\u001b[A"
     ]
    },
    {
     "name": "stdout",
     "output_type": "stream",
     "text": [
      "\n",
      "model: Lasso\n",
      "alpha: 0.0007750000000000001\n",
      "train stop: 122\n",
      "mean validation corr: -0.00015805667594734688\n",
      "mean validation sharpe: -0.004060088760761446\n"
     ]
    },
    {
     "name": "stderr",
     "output_type": "stream",
     "text": [
      "\n",
      "100%|██████████| 1/1 [00:05<00:00,  5.92s/it]\n",
      "\n",
      "  0%|          | 0/1 [00:00<?, ?it/s]\u001b[A"
     ]
    },
    {
     "name": "stdout",
     "output_type": "stream",
     "text": [
      "\n",
      "model: Lasso\n",
      "alpha: 0.0007750000000000001\n",
      "train stop: 123\n",
      "mean validation corr: 0.00101144601756256\n",
      "mean validation sharpe: 0.026236216263467088\n"
     ]
    },
    {
     "name": "stderr",
     "output_type": "stream",
     "text": [
      "\n",
      "100%|██████████| 1/1 [00:05<00:00,  5.83s/it]\n",
      "\n",
      "  0%|          | 0/1 [00:00<?, ?it/s]\u001b[A"
     ]
    },
    {
     "name": "stdout",
     "output_type": "stream",
     "text": [
      "\n",
      "model: Lasso\n",
      "alpha: 0.0007750000000000001\n",
      "train stop: 124\n",
      "mean validation corr: 0.0029801216277607345\n",
      "mean validation sharpe: 0.07807549060820024\n"
     ]
    },
    {
     "name": "stderr",
     "output_type": "stream",
     "text": [
      "\n",
      "100%|██████████| 1/1 [00:06<00:00,  6.62s/it]\n",
      "\n",
      "  0%|          | 0/1 [00:00<?, ?it/s]\u001b[A"
     ]
    },
    {
     "name": "stdout",
     "output_type": "stream",
     "text": [
      "\n",
      "model: Lasso\n",
      "alpha: 0.0007750000000000001\n",
      "train stop: 125\n",
      "mean validation corr: 0.0033122620745092753\n",
      "mean validation sharpe: 0.08723963341588756\n"
     ]
    },
    {
     "name": "stderr",
     "output_type": "stream",
     "text": [
      "\n",
      "100%|██████████| 1/1 [00:06<00:00,  6.51s/it]\n",
      "\n",
      "  0%|          | 0/1 [00:00<?, ?it/s]\u001b[A"
     ]
    },
    {
     "name": "stdout",
     "output_type": "stream",
     "text": [
      "\n",
      "model: Lasso\n",
      "alpha: 0.0007750000000000001\n",
      "train stop: 126\n",
      "mean validation corr: 0.00339013447519421\n",
      "mean validation sharpe: 0.08906120612198733\n"
     ]
    },
    {
     "name": "stderr",
     "output_type": "stream",
     "text": [
      "\n",
      "100%|██████████| 1/1 [00:06<00:00,  6.65s/it]\n",
      "\n",
      "  0%|          | 0/1 [00:00<?, ?it/s]\u001b[A"
     ]
    },
    {
     "name": "stdout",
     "output_type": "stream",
     "text": [
      "\n",
      "model: Lasso\n",
      "alpha: 0.0007750000000000001\n",
      "train stop: 127\n",
      "mean validation corr: 0.0015709125694178035\n",
      "mean validation sharpe: 0.04015922438845497\n"
     ]
    },
    {
     "name": "stderr",
     "output_type": "stream",
     "text": [
      "\n",
      "100%|██████████| 1/1 [00:06<00:00,  6.59s/it]\n",
      "\n",
      "  0%|          | 0/1 [00:00<?, ?it/s]\u001b[A"
     ]
    },
    {
     "name": "stdout",
     "output_type": "stream",
     "text": [
      "\n",
      "model: Lasso\n",
      "alpha: 0.0007750000000000001\n",
      "train stop: 128\n",
      "mean validation corr: 0.0010102548010527714\n",
      "mean validation sharpe: 0.02691978144256782\n"
     ]
    },
    {
     "name": "stderr",
     "output_type": "stream",
     "text": [
      "\n",
      "100%|██████████| 1/1 [00:06<00:00,  6.76s/it]\n",
      "\n",
      "  0%|          | 0/1 [00:00<?, ?it/s]\u001b[A"
     ]
    },
    {
     "name": "stdout",
     "output_type": "stream",
     "text": [
      "\n",
      "model: Lasso\n",
      "alpha: 0.0007750000000000001\n",
      "train stop: 129\n",
      "mean validation corr: 0.0009407896347166274\n",
      "mean validation sharpe: 0.02659901809492492\n"
     ]
    },
    {
     "name": "stderr",
     "output_type": "stream",
     "text": [
      "\n",
      "100%|██████████| 1/1 [00:06<00:00,  6.26s/it]\n",
      "\n",
      "  0%|          | 0/1 [00:00<?, ?it/s]\u001b[A"
     ]
    },
    {
     "name": "stdout",
     "output_type": "stream",
     "text": [
      "\n",
      "model: Lasso\n",
      "alpha: 0.0007750000000000001\n",
      "train stop: 130\n",
      "mean validation corr: 0.0008833589724823072\n",
      "mean validation sharpe: 0.025921946447328023\n"
     ]
    },
    {
     "name": "stderr",
     "output_type": "stream",
     "text": [
      "\n",
      "100%|██████████| 1/1 [00:07<00:00,  7.13s/it]\n",
      "\n",
      "  0%|          | 0/1 [00:00<?, ?it/s]\u001b[A"
     ]
    },
    {
     "name": "stdout",
     "output_type": "stream",
     "text": [
      "\n",
      "model: Lasso\n",
      "alpha: 0.0007750000000000001\n",
      "train stop: 131\n",
      "mean validation corr: 0.0003679122064716312\n",
      "mean validation sharpe: 0.010970806921143975\n"
     ]
    },
    {
     "name": "stderr",
     "output_type": "stream",
     "text": [
      "\n",
      "100%|██████████| 1/1 [00:01<00:00,  1.19s/it]\n",
      "\n",
      "  0%|          | 0/1 [00:00<?, ?it/s]\u001b[A"
     ]
    },
    {
     "name": "stdout",
     "output_type": "stream",
     "text": [
      "\n",
      "model: Lasso\n",
      "alpha: 0.001\n",
      "train stop: 25\n",
      "mean validation corr: 0.004155111698969056\n",
      "mean validation sharpe: 0.11824309609411922\n"
     ]
    },
    {
     "name": "stderr",
     "output_type": "stream",
     "text": [
      "\n",
      "100%|██████████| 1/1 [00:01<00:00,  1.18s/it]\n",
      "\n",
      "  0%|          | 0/1 [00:00<?, ?it/s]\u001b[A"
     ]
    },
    {
     "name": "stdout",
     "output_type": "stream",
     "text": [
      "\n",
      "model: Lasso\n",
      "alpha: 0.001\n",
      "train stop: 26\n",
      "mean validation corr: 0.0025870771953603934\n",
      "mean validation sharpe: 0.077271598888489\n"
     ]
    },
    {
     "name": "stderr",
     "output_type": "stream",
     "text": [
      "\n",
      "100%|██████████| 1/1 [00:01<00:00,  1.23s/it]\n",
      "\n",
      "  0%|          | 0/1 [00:00<?, ?it/s]\u001b[A"
     ]
    },
    {
     "name": "stdout",
     "output_type": "stream",
     "text": [
      "\n",
      "model: Lasso\n",
      "alpha: 0.001\n",
      "train stop: 27\n",
      "mean validation corr: 0.002114858947956432\n",
      "mean validation sharpe: 0.06269704554205814\n"
     ]
    },
    {
     "name": "stderr",
     "output_type": "stream",
     "text": [
      "\n",
      "100%|██████████| 1/1 [00:01<00:00,  1.36s/it]\n",
      "\n",
      "  0%|          | 0/1 [00:00<?, ?it/s]\u001b[A"
     ]
    },
    {
     "name": "stdout",
     "output_type": "stream",
     "text": [
      "\n",
      "model: Lasso\n",
      "alpha: 0.001\n",
      "train stop: 28\n",
      "mean validation corr: 0.00204953457768706\n",
      "mean validation sharpe: 0.06089394151420536\n"
     ]
    },
    {
     "name": "stderr",
     "output_type": "stream",
     "text": [
      "\n",
      "100%|██████████| 1/1 [00:01<00:00,  1.54s/it]\n",
      "\n",
      "  0%|          | 0/1 [00:00<?, ?it/s]\u001b[A"
     ]
    },
    {
     "name": "stdout",
     "output_type": "stream",
     "text": [
      "\n",
      "model: Lasso\n",
      "alpha: 0.001\n",
      "train stop: 29\n",
      "mean validation corr: 0.0020494626030750592\n",
      "mean validation sharpe: 0.06668459961073259\n"
     ]
    },
    {
     "name": "stderr",
     "output_type": "stream",
     "text": [
      "\n",
      "100%|██████████| 1/1 [00:01<00:00,  1.52s/it]\n",
      "\n",
      "  0%|          | 0/1 [00:00<?, ?it/s]\u001b[A"
     ]
    },
    {
     "name": "stdout",
     "output_type": "stream",
     "text": [
      "\n",
      "model: Lasso\n",
      "alpha: 0.001\n",
      "train stop: 30\n",
      "mean validation corr: 0.0038364698206303526\n",
      "mean validation sharpe: 0.11277591534588277\n"
     ]
    },
    {
     "name": "stderr",
     "output_type": "stream",
     "text": [
      "\n",
      "100%|██████████| 1/1 [00:01<00:00,  1.58s/it]\n",
      "\n",
      "  0%|          | 0/1 [00:00<?, ?it/s]\u001b[A"
     ]
    },
    {
     "name": "stdout",
     "output_type": "stream",
     "text": [
      "\n",
      "model: Lasso\n",
      "alpha: 0.001\n",
      "train stop: 31\n",
      "mean validation corr: 0.0038468020187403416\n",
      "mean validation sharpe: 0.10930474562972585\n"
     ]
    },
    {
     "name": "stderr",
     "output_type": "stream",
     "text": [
      "\n",
      "100%|██████████| 1/1 [00:01<00:00,  1.46s/it]\n",
      "\n",
      "  0%|          | 0/1 [00:00<?, ?it/s]\u001b[A"
     ]
    },
    {
     "name": "stdout",
     "output_type": "stream",
     "text": [
      "\n",
      "model: Lasso\n",
      "alpha: 0.001\n",
      "train stop: 32\n",
      "mean validation corr: 0.0036072149419863813\n",
      "mean validation sharpe: 0.1117300193071675\n"
     ]
    },
    {
     "name": "stderr",
     "output_type": "stream",
     "text": [
      "\n",
      "100%|██████████| 1/1 [00:01<00:00,  1.54s/it]\n",
      "\n",
      "  0%|          | 0/1 [00:00<?, ?it/s]\u001b[A"
     ]
    },
    {
     "name": "stdout",
     "output_type": "stream",
     "text": [
      "\n",
      "model: Lasso\n",
      "alpha: 0.001\n",
      "train stop: 33\n",
      "mean validation corr: 0.0039298550307780376\n",
      "mean validation sharpe: 0.11784193664719472\n"
     ]
    },
    {
     "name": "stderr",
     "output_type": "stream",
     "text": [
      "\n",
      "100%|██████████| 1/1 [00:01<00:00,  1.52s/it]\n",
      "\n",
      "  0%|          | 0/1 [00:00<?, ?it/s]\u001b[A"
     ]
    },
    {
     "name": "stdout",
     "output_type": "stream",
     "text": [
      "\n",
      "model: Lasso\n",
      "alpha: 0.001\n",
      "train stop: 34\n",
      "mean validation corr: 0.003750906392451814\n",
      "mean validation sharpe: 0.10956061266834412\n"
     ]
    },
    {
     "name": "stderr",
     "output_type": "stream",
     "text": [
      "\n",
      "100%|██████████| 1/1 [00:01<00:00,  1.55s/it]\n",
      "\n",
      "  0%|          | 0/1 [00:00<?, ?it/s]\u001b[A"
     ]
    },
    {
     "name": "stdout",
     "output_type": "stream",
     "text": [
      "\n",
      "model: Lasso\n",
      "alpha: 0.001\n",
      "train stop: 35\n",
      "mean validation corr: 0.005171326972735919\n",
      "mean validation sharpe: 0.15117750042344208\n"
     ]
    },
    {
     "name": "stderr",
     "output_type": "stream",
     "text": [
      "\n",
      "100%|██████████| 1/1 [00:01<00:00,  1.58s/it]\n",
      "\n",
      "  0%|          | 0/1 [00:00<?, ?it/s]\u001b[A"
     ]
    },
    {
     "name": "stdout",
     "output_type": "stream",
     "text": [
      "\n",
      "model: Lasso\n",
      "alpha: 0.001\n",
      "train stop: 36\n",
      "mean validation corr: 0.005380944871152668\n",
      "mean validation sharpe: 0.15861211054854604\n"
     ]
    },
    {
     "name": "stderr",
     "output_type": "stream",
     "text": [
      "\n",
      "100%|██████████| 1/1 [00:01<00:00,  1.71s/it]\n",
      "\n",
      "  0%|          | 0/1 [00:00<?, ?it/s]\u001b[A"
     ]
    },
    {
     "name": "stdout",
     "output_type": "stream",
     "text": [
      "\n",
      "model: Lasso\n",
      "alpha: 0.001\n",
      "train stop: 37\n",
      "mean validation corr: 0.0059776365463771975\n",
      "mean validation sharpe: 0.17639653393547008\n"
     ]
    },
    {
     "name": "stderr",
     "output_type": "stream",
     "text": [
      "\n",
      "100%|██████████| 1/1 [00:01<00:00,  1.74s/it]\n",
      "\n",
      "  0%|          | 0/1 [00:00<?, ?it/s]\u001b[A"
     ]
    },
    {
     "name": "stdout",
     "output_type": "stream",
     "text": [
      "\n",
      "model: Lasso\n",
      "alpha: 0.001\n",
      "train stop: 38\n",
      "mean validation corr: 0.004908636791460929\n",
      "mean validation sharpe: 0.15429190132932222\n"
     ]
    },
    {
     "name": "stderr",
     "output_type": "stream",
     "text": [
      "\n",
      "100%|██████████| 1/1 [00:01<00:00,  1.88s/it]\n",
      "\n",
      "  0%|          | 0/1 [00:00<?, ?it/s]\u001b[A"
     ]
    },
    {
     "name": "stdout",
     "output_type": "stream",
     "text": [
      "\n",
      "model: Lasso\n",
      "alpha: 0.001\n",
      "train stop: 39\n",
      "mean validation corr: 0.005105004159365014\n",
      "mean validation sharpe: 0.17846424580023829\n"
     ]
    },
    {
     "name": "stderr",
     "output_type": "stream",
     "text": [
      "\n",
      "100%|██████████| 1/1 [00:01<00:00,  1.98s/it]\n",
      "\n",
      "  0%|          | 0/1 [00:00<?, ?it/s]\u001b[A"
     ]
    },
    {
     "name": "stdout",
     "output_type": "stream",
     "text": [
      "\n",
      "model: Lasso\n",
      "alpha: 0.001\n",
      "train stop: 40\n",
      "mean validation corr: 0.005871615126005749\n",
      "mean validation sharpe: 0.19962147772360378\n"
     ]
    },
    {
     "name": "stderr",
     "output_type": "stream",
     "text": [
      "\n",
      "100%|██████████| 1/1 [00:01<00:00,  1.91s/it]\n",
      "\n",
      "  0%|          | 0/1 [00:00<?, ?it/s]\u001b[A"
     ]
    },
    {
     "name": "stdout",
     "output_type": "stream",
     "text": [
      "\n",
      "model: Lasso\n",
      "alpha: 0.001\n",
      "train stop: 41\n",
      "mean validation corr: 0.00548904066744565\n",
      "mean validation sharpe: 0.1756792829386213\n"
     ]
    },
    {
     "name": "stderr",
     "output_type": "stream",
     "text": [
      "\n",
      "100%|██████████| 1/1 [00:02<00:00,  2.06s/it]\n",
      "\n",
      "  0%|          | 0/1 [00:00<?, ?it/s]\u001b[A"
     ]
    },
    {
     "name": "stdout",
     "output_type": "stream",
     "text": [
      "\n",
      "model: Lasso\n",
      "alpha: 0.001\n",
      "train stop: 42\n",
      "mean validation corr: 0.005796758430147414\n",
      "mean validation sharpe: 0.18516954423172027\n"
     ]
    },
    {
     "name": "stderr",
     "output_type": "stream",
     "text": [
      "\n",
      "100%|██████████| 1/1 [00:02<00:00,  2.20s/it]\n",
      "\n",
      "  0%|          | 0/1 [00:00<?, ?it/s]\u001b[A"
     ]
    },
    {
     "name": "stdout",
     "output_type": "stream",
     "text": [
      "\n",
      "model: Lasso\n",
      "alpha: 0.001\n",
      "train stop: 43\n",
      "mean validation corr: 0.0064042341507199035\n",
      "mean validation sharpe: 0.19356524872600067\n"
     ]
    },
    {
     "name": "stderr",
     "output_type": "stream",
     "text": [
      "\n",
      "100%|██████████| 1/1 [00:02<00:00,  2.38s/it]\n",
      "\n",
      "  0%|          | 0/1 [00:00<?, ?it/s]\u001b[A"
     ]
    },
    {
     "name": "stdout",
     "output_type": "stream",
     "text": [
      "\n",
      "model: Lasso\n",
      "alpha: 0.001\n",
      "train stop: 44\n",
      "mean validation corr: 0.005777466403545365\n",
      "mean validation sharpe: 0.16987735554521166\n"
     ]
    },
    {
     "name": "stderr",
     "output_type": "stream",
     "text": [
      "\n",
      "100%|██████████| 1/1 [00:02<00:00,  2.54s/it]\n",
      "\n",
      "  0%|          | 0/1 [00:00<?, ?it/s]\u001b[A"
     ]
    },
    {
     "name": "stdout",
     "output_type": "stream",
     "text": [
      "\n",
      "model: Lasso\n",
      "alpha: 0.001\n",
      "train stop: 45\n",
      "mean validation corr: 0.004931925503958777\n",
      "mean validation sharpe: 0.1380772568185336\n"
     ]
    },
    {
     "name": "stderr",
     "output_type": "stream",
     "text": [
      "\n",
      "100%|██████████| 1/1 [00:02<00:00,  2.60s/it]\n",
      "\n",
      "  0%|          | 0/1 [00:00<?, ?it/s]\u001b[A"
     ]
    },
    {
     "name": "stdout",
     "output_type": "stream",
     "text": [
      "\n",
      "model: Lasso\n",
      "alpha: 0.001\n",
      "train stop: 46\n",
      "mean validation corr: 0.0040510375281836725\n",
      "mean validation sharpe: 0.11967478761859382\n"
     ]
    },
    {
     "name": "stderr",
     "output_type": "stream",
     "text": [
      "\n",
      "100%|██████████| 1/1 [00:02<00:00,  2.69s/it]\n",
      "\n",
      "  0%|          | 0/1 [00:00<?, ?it/s]\u001b[A"
     ]
    },
    {
     "name": "stdout",
     "output_type": "stream",
     "text": [
      "\n",
      "model: Lasso\n",
      "alpha: 0.001\n",
      "train stop: 47\n",
      "mean validation corr: 0.003984187874741743\n",
      "mean validation sharpe: 0.11680139870451856\n"
     ]
    },
    {
     "name": "stderr",
     "output_type": "stream",
     "text": [
      "\n",
      "100%|██████████| 1/1 [00:02<00:00,  2.68s/it]\n",
      "\n",
      "  0%|          | 0/1 [00:00<?, ?it/s]\u001b[A"
     ]
    },
    {
     "name": "stdout",
     "output_type": "stream",
     "text": [
      "\n",
      "model: Lasso\n",
      "alpha: 0.001\n",
      "train stop: 48\n",
      "mean validation corr: 0.005753647038643119\n",
      "mean validation sharpe: 0.16109794853707302\n"
     ]
    },
    {
     "name": "stderr",
     "output_type": "stream",
     "text": [
      "\n",
      "100%|██████████| 1/1 [00:02<00:00,  2.87s/it]\n",
      "\n",
      "  0%|          | 0/1 [00:00<?, ?it/s]\u001b[A"
     ]
    },
    {
     "name": "stdout",
     "output_type": "stream",
     "text": [
      "\n",
      "model: Lasso\n",
      "alpha: 0.001\n",
      "train stop: 49\n",
      "mean validation corr: 0.006176519733057944\n",
      "mean validation sharpe: 0.17774961072530296\n"
     ]
    },
    {
     "name": "stderr",
     "output_type": "stream",
     "text": [
      "\n",
      "100%|██████████| 1/1 [00:02<00:00,  2.99s/it]\n",
      "\n",
      "  0%|          | 0/1 [00:00<?, ?it/s]\u001b[A"
     ]
    },
    {
     "name": "stdout",
     "output_type": "stream",
     "text": [
      "\n",
      "model: Lasso\n",
      "alpha: 0.001\n",
      "train stop: 50\n",
      "mean validation corr: 0.006514313520922527\n",
      "mean validation sharpe: 0.20261966021589475\n"
     ]
    },
    {
     "name": "stderr",
     "output_type": "stream",
     "text": [
      "\n",
      "100%|██████████| 1/1 [00:03<00:00,  3.18s/it]\n",
      "\n",
      "  0%|          | 0/1 [00:00<?, ?it/s]\u001b[A"
     ]
    },
    {
     "name": "stdout",
     "output_type": "stream",
     "text": [
      "\n",
      "model: Lasso\n",
      "alpha: 0.001\n",
      "train stop: 51\n",
      "mean validation corr: 0.006271610986336936\n",
      "mean validation sharpe: 0.19145029554404472\n"
     ]
    },
    {
     "name": "stderr",
     "output_type": "stream",
     "text": [
      "\n",
      "100%|██████████| 1/1 [00:03<00:00,  3.17s/it]\n",
      "\n",
      "  0%|          | 0/1 [00:00<?, ?it/s]\u001b[A"
     ]
    },
    {
     "name": "stdout",
     "output_type": "stream",
     "text": [
      "\n",
      "model: Lasso\n",
      "alpha: 0.001\n",
      "train stop: 52\n",
      "mean validation corr: 0.007723743094663467\n",
      "mean validation sharpe: 0.2385384559137528\n"
     ]
    },
    {
     "name": "stderr",
     "output_type": "stream",
     "text": [
      "\n",
      "100%|██████████| 1/1 [00:03<00:00,  3.23s/it]\n",
      "\n",
      "  0%|          | 0/1 [00:00<?, ?it/s]\u001b[A"
     ]
    },
    {
     "name": "stdout",
     "output_type": "stream",
     "text": [
      "\n",
      "model: Lasso\n",
      "alpha: 0.001\n",
      "train stop: 53\n",
      "mean validation corr: 0.009075536597528027\n",
      "mean validation sharpe: 0.29681241957925\n"
     ]
    },
    {
     "name": "stderr",
     "output_type": "stream",
     "text": [
      "\n",
      "100%|██████████| 1/1 [00:03<00:00,  3.05s/it]\n",
      "\n",
      "  0%|          | 0/1 [00:00<?, ?it/s]\u001b[A"
     ]
    },
    {
     "name": "stdout",
     "output_type": "stream",
     "text": [
      "\n",
      "model: Lasso\n",
      "alpha: 0.001\n",
      "train stop: 54\n",
      "mean validation corr: 0.01006834526528673\n",
      "mean validation sharpe: 0.2827704351262777\n"
     ]
    },
    {
     "name": "stderr",
     "output_type": "stream",
     "text": [
      "\n",
      "100%|██████████| 1/1 [00:03<00:00,  3.58s/it]\n",
      "\n",
      "  0%|          | 0/1 [00:00<?, ?it/s]\u001b[A"
     ]
    },
    {
     "name": "stdout",
     "output_type": "stream",
     "text": [
      "\n",
      "model: Lasso\n",
      "alpha: 0.001\n",
      "train stop: 55\n",
      "mean validation corr: 0.008975802277725669\n",
      "mean validation sharpe: 0.2372873131438012\n"
     ]
    },
    {
     "name": "stderr",
     "output_type": "stream",
     "text": [
      "\n",
      "100%|██████████| 1/1 [00:03<00:00,  3.54s/it]\n",
      "\n",
      "  0%|          | 0/1 [00:00<?, ?it/s]\u001b[A"
     ]
    },
    {
     "name": "stdout",
     "output_type": "stream",
     "text": [
      "\n",
      "model: Lasso\n",
      "alpha: 0.001\n",
      "train stop: 56\n",
      "mean validation corr: 0.007419289618189242\n",
      "mean validation sharpe: 0.1730501257752193\n"
     ]
    },
    {
     "name": "stderr",
     "output_type": "stream",
     "text": [
      "\n",
      "100%|██████████| 1/1 [00:03<00:00,  3.67s/it]\n",
      "\n",
      "  0%|          | 0/1 [00:00<?, ?it/s]\u001b[A"
     ]
    },
    {
     "name": "stdout",
     "output_type": "stream",
     "text": [
      "\n",
      "model: Lasso\n",
      "alpha: 0.001\n",
      "train stop: 57\n",
      "mean validation corr: 0.006246310330655307\n",
      "mean validation sharpe: 0.1301747502091343\n"
     ]
    },
    {
     "name": "stderr",
     "output_type": "stream",
     "text": [
      "\n",
      "100%|██████████| 1/1 [00:03<00:00,  3.87s/it]\n",
      "\n",
      "  0%|          | 0/1 [00:00<?, ?it/s]\u001b[A"
     ]
    },
    {
     "name": "stdout",
     "output_type": "stream",
     "text": [
      "\n",
      "model: Lasso\n",
      "alpha: 0.001\n",
      "train stop: 58\n",
      "mean validation corr: 0.0054332948510329\n",
      "mean validation sharpe: 0.11787188761595681\n"
     ]
    },
    {
     "name": "stderr",
     "output_type": "stream",
     "text": [
      "\n",
      "100%|██████████| 1/1 [00:03<00:00,  3.03s/it]\n",
      "\n",
      "  0%|          | 0/1 [00:00<?, ?it/s]\u001b[A"
     ]
    },
    {
     "name": "stdout",
     "output_type": "stream",
     "text": [
      "\n",
      "model: Lasso\n",
      "alpha: 0.001\n",
      "train stop: 59\n",
      "mean validation corr: 0.005150631628166058\n",
      "mean validation sharpe: 0.11366052685736025\n"
     ]
    },
    {
     "name": "stderr",
     "output_type": "stream",
     "text": [
      "\n",
      "100%|██████████| 1/1 [00:02<00:00,  2.13s/it]\n",
      "\n",
      "  0%|          | 0/1 [00:00<?, ?it/s]\u001b[A"
     ]
    },
    {
     "name": "stdout",
     "output_type": "stream",
     "text": [
      "\n",
      "model: Lasso\n",
      "alpha: 0.001\n",
      "train stop: 60\n",
      "mean validation corr: 0.00340559816955514\n",
      "mean validation sharpe: 0.08168469766072381\n"
     ]
    },
    {
     "name": "stderr",
     "output_type": "stream",
     "text": [
      "\n",
      "100%|██████████| 1/1 [00:02<00:00,  2.99s/it]\n",
      "\n",
      "  0%|          | 0/1 [00:00<?, ?it/s]\u001b[A"
     ]
    },
    {
     "name": "stdout",
     "output_type": "stream",
     "text": [
      "\n",
      "model: Lasso\n",
      "alpha: 0.001\n",
      "train stop: 61\n",
      "mean validation corr: 0.006330807628110223\n",
      "mean validation sharpe: 0.15900208171498895\n"
     ]
    },
    {
     "name": "stderr",
     "output_type": "stream",
     "text": [
      "\n",
      "100%|██████████| 1/1 [00:03<00:00,  3.05s/it]\n",
      "\n",
      "  0%|          | 0/1 [00:00<?, ?it/s]\u001b[A"
     ]
    },
    {
     "name": "stdout",
     "output_type": "stream",
     "text": [
      "\n",
      "model: Lasso\n",
      "alpha: 0.001\n",
      "train stop: 62\n",
      "mean validation corr: 0.005360550923436035\n",
      "mean validation sharpe: 0.13148764217650966\n"
     ]
    },
    {
     "name": "stderr",
     "output_type": "stream",
     "text": [
      "\n",
      "100%|██████████| 1/1 [00:03<00:00,  3.14s/it]\n",
      "\n",
      "  0%|          | 0/1 [00:00<?, ?it/s]\u001b[A"
     ]
    },
    {
     "name": "stdout",
     "output_type": "stream",
     "text": [
      "\n",
      "model: Lasso\n",
      "alpha: 0.001\n",
      "train stop: 63\n",
      "mean validation corr: 0.006044861361936011\n",
      "mean validation sharpe: 0.15253006386630788\n"
     ]
    },
    {
     "name": "stderr",
     "output_type": "stream",
     "text": [
      "\n",
      "100%|██████████| 1/1 [00:03<00:00,  3.13s/it]\n",
      "\n",
      "  0%|          | 0/1 [00:00<?, ?it/s]\u001b[A"
     ]
    },
    {
     "name": "stdout",
     "output_type": "stream",
     "text": [
      "\n",
      "model: Lasso\n",
      "alpha: 0.001\n",
      "train stop: 64\n",
      "mean validation corr: 0.006049289005593015\n",
      "mean validation sharpe: 0.15443067374040084\n"
     ]
    },
    {
     "name": "stderr",
     "output_type": "stream",
     "text": [
      "\n",
      "100%|██████████| 1/1 [00:02<00:00,  2.33s/it]\n",
      "\n",
      "  0%|          | 0/1 [00:00<?, ?it/s]\u001b[A"
     ]
    },
    {
     "name": "stdout",
     "output_type": "stream",
     "text": [
      "\n",
      "model: Lasso\n",
      "alpha: 0.001\n",
      "train stop: 65\n",
      "mean validation corr: 0.004718198749274212\n",
      "mean validation sharpe: 0.11876384344033646\n"
     ]
    },
    {
     "name": "stderr",
     "output_type": "stream",
     "text": [
      "\n",
      "100%|██████████| 1/1 [00:03<00:00,  3.11s/it]\n",
      "\n",
      "  0%|          | 0/1 [00:00<?, ?it/s]\u001b[A"
     ]
    },
    {
     "name": "stdout",
     "output_type": "stream",
     "text": [
      "\n",
      "model: Lasso\n",
      "alpha: 0.001\n",
      "train stop: 66\n",
      "mean validation corr: 0.00469896269569319\n",
      "mean validation sharpe: 0.11630358296940574\n"
     ]
    },
    {
     "name": "stderr",
     "output_type": "stream",
     "text": [
      "\n",
      "100%|██████████| 1/1 [00:03<00:00,  3.16s/it]\n",
      "\n",
      "  0%|          | 0/1 [00:00<?, ?it/s]\u001b[A"
     ]
    },
    {
     "name": "stdout",
     "output_type": "stream",
     "text": [
      "\n",
      "model: Lasso\n",
      "alpha: 0.001\n",
      "train stop: 67\n",
      "mean validation corr: 0.0025826514194836232\n",
      "mean validation sharpe: 0.06877822101311833\n"
     ]
    },
    {
     "name": "stderr",
     "output_type": "stream",
     "text": [
      "\n",
      "100%|██████████| 1/1 [00:02<00:00,  2.13s/it]\n",
      "\n",
      "  0%|          | 0/1 [00:00<?, ?it/s]\u001b[A"
     ]
    },
    {
     "name": "stdout",
     "output_type": "stream",
     "text": [
      "\n",
      "model: Lasso\n",
      "alpha: 0.001\n",
      "train stop: 68\n",
      "mean validation corr: -0.0033238361064809093\n",
      "mean validation sharpe: -0.09134075484048693\n"
     ]
    },
    {
     "name": "stderr",
     "output_type": "stream",
     "text": [
      "\n",
      "100%|██████████| 1/1 [00:02<00:00,  2.18s/it]\n",
      "\n",
      "  0%|          | 0/1 [00:00<?, ?it/s]\u001b[A"
     ]
    },
    {
     "name": "stdout",
     "output_type": "stream",
     "text": [
      "\n",
      "model: Lasso\n",
      "alpha: 0.001\n",
      "train stop: 69\n",
      "mean validation corr: -0.003331853767180551\n",
      "mean validation sharpe: -0.08102745057164082\n"
     ]
    },
    {
     "name": "stderr",
     "output_type": "stream",
     "text": [
      "\n",
      "100%|██████████| 1/1 [00:02<00:00,  2.16s/it]\n",
      "\n",
      "  0%|          | 0/1 [00:00<?, ?it/s]\u001b[A"
     ]
    },
    {
     "name": "stdout",
     "output_type": "stream",
     "text": [
      "\n",
      "model: Lasso\n",
      "alpha: 0.001\n",
      "train stop: 70\n",
      "mean validation corr: -0.003331853767180551\n",
      "mean validation sharpe: -0.08102745057164082\n"
     ]
    },
    {
     "name": "stderr",
     "output_type": "stream",
     "text": [
      "\n",
      "100%|██████████| 1/1 [00:02<00:00,  2.17s/it]\n",
      "\n",
      "  0%|          | 0/1 [00:00<?, ?it/s]\u001b[A"
     ]
    },
    {
     "name": "stdout",
     "output_type": "stream",
     "text": [
      "\n",
      "model: Lasso\n",
      "alpha: 0.001\n",
      "train stop: 71\n",
      "mean validation corr: -0.003331853767180551\n",
      "mean validation sharpe: -0.08102745057164082\n"
     ]
    },
    {
     "name": "stderr",
     "output_type": "stream",
     "text": [
      "\n",
      "100%|██████████| 1/1 [00:02<00:00,  2.18s/it]\n",
      "\n",
      "  0%|          | 0/1 [00:00<?, ?it/s]\u001b[A"
     ]
    },
    {
     "name": "stdout",
     "output_type": "stream",
     "text": [
      "\n",
      "model: Lasso\n",
      "alpha: 0.001\n",
      "train stop: 72\n",
      "mean validation corr: -0.003331853767180551\n",
      "mean validation sharpe: -0.08102745057164082\n"
     ]
    },
    {
     "name": "stderr",
     "output_type": "stream",
     "text": [
      "\n",
      "100%|██████████| 1/1 [00:02<00:00,  2.18s/it]\n",
      "\n",
      "  0%|          | 0/1 [00:00<?, ?it/s]\u001b[A"
     ]
    },
    {
     "name": "stdout",
     "output_type": "stream",
     "text": [
      "\n",
      "model: Lasso\n",
      "alpha: 0.001\n",
      "train stop: 73\n",
      "mean validation corr: -0.003331853767180551\n",
      "mean validation sharpe: -0.08102745057164082\n"
     ]
    },
    {
     "name": "stderr",
     "output_type": "stream",
     "text": [
      "\n",
      "100%|██████████| 1/1 [00:02<00:00,  2.16s/it]\n",
      "\n",
      "  0%|          | 0/1 [00:00<?, ?it/s]\u001b[A"
     ]
    },
    {
     "name": "stdout",
     "output_type": "stream",
     "text": [
      "\n",
      "model: Lasso\n",
      "alpha: 0.001\n",
      "train stop: 74\n",
      "mean validation corr: -0.003331853767180551\n",
      "mean validation sharpe: -0.08102745057164082\n"
     ]
    },
    {
     "name": "stderr",
     "output_type": "stream",
     "text": [
      "\n",
      "100%|██████████| 1/1 [00:02<00:00,  2.22s/it]\n",
      "\n",
      "  0%|          | 0/1 [00:00<?, ?it/s]\u001b[A"
     ]
    },
    {
     "name": "stdout",
     "output_type": "stream",
     "text": [
      "\n",
      "model: Lasso\n",
      "alpha: 0.001\n",
      "train stop: 75\n",
      "mean validation corr: -0.0033238361064809093\n",
      "mean validation sharpe: -0.09134075484048693\n"
     ]
    },
    {
     "name": "stderr",
     "output_type": "stream",
     "text": [
      "\n",
      "100%|██████████| 1/1 [00:03<00:00,  3.14s/it]\n",
      "\n",
      "  0%|          | 0/1 [00:00<?, ?it/s]\u001b[A"
     ]
    },
    {
     "name": "stdout",
     "output_type": "stream",
     "text": [
      "\n",
      "model: Lasso\n",
      "alpha: 0.001\n",
      "train stop: 76\n",
      "mean validation corr: -0.002412256533367803\n",
      "mean validation sharpe: -0.07229138991695101\n"
     ]
    },
    {
     "name": "stderr",
     "output_type": "stream",
     "text": [
      "\n",
      "100%|██████████| 1/1 [00:03<00:00,  3.26s/it]\n",
      "\n",
      "  0%|          | 0/1 [00:00<?, ?it/s]\u001b[A"
     ]
    },
    {
     "name": "stdout",
     "output_type": "stream",
     "text": [
      "\n",
      "model: Lasso\n",
      "alpha: 0.001\n",
      "train stop: 77\n",
      "mean validation corr: -0.0023450532279790156\n",
      "mean validation sharpe: -0.0702029307664681\n"
     ]
    },
    {
     "name": "stderr",
     "output_type": "stream",
     "text": [
      "\n",
      "100%|██████████| 1/1 [00:03<00:00,  3.60s/it]\n",
      "\n",
      "  0%|          | 0/1 [00:00<?, ?it/s]\u001b[A"
     ]
    },
    {
     "name": "stdout",
     "output_type": "stream",
     "text": [
      "\n",
      "model: Lasso\n",
      "alpha: 0.001\n",
      "train stop: 78\n",
      "mean validation corr: -0.001971471664200494\n",
      "mean validation sharpe: -0.058648417839327824\n"
     ]
    },
    {
     "name": "stderr",
     "output_type": "stream",
     "text": [
      "\n",
      "100%|██████████| 1/1 [00:02<00:00,  2.27s/it]\n",
      "\n",
      "  0%|          | 0/1 [00:00<?, ?it/s]\u001b[A"
     ]
    },
    {
     "name": "stdout",
     "output_type": "stream",
     "text": [
      "\n",
      "model: Lasso\n",
      "alpha: 0.001\n",
      "train stop: 79\n",
      "mean validation corr: -0.002373102657039418\n",
      "mean validation sharpe: -0.07836290627954559\n"
     ]
    },
    {
     "name": "stderr",
     "output_type": "stream",
     "text": [
      "\n",
      "100%|██████████| 1/1 [00:02<00:00,  2.32s/it]\n",
      "\n",
      "  0%|          | 0/1 [00:00<?, ?it/s]\u001b[A"
     ]
    },
    {
     "name": "stdout",
     "output_type": "stream",
     "text": [
      "\n",
      "model: Lasso\n",
      "alpha: 0.001\n",
      "train stop: 80\n",
      "mean validation corr: -0.0018496775122673302\n",
      "mean validation sharpe: -0.06357940460058158\n"
     ]
    },
    {
     "name": "stderr",
     "output_type": "stream",
     "text": [
      "\n",
      "100%|██████████| 1/1 [00:02<00:00,  2.29s/it]\n",
      "\n",
      "  0%|          | 0/1 [00:00<?, ?it/s]\u001b[A"
     ]
    },
    {
     "name": "stdout",
     "output_type": "stream",
     "text": [
      "\n",
      "model: Lasso\n",
      "alpha: 0.001\n",
      "train stop: 81\n",
      "mean validation corr: -0.0011491726126864506\n",
      "mean validation sharpe: -0.03558060685217939\n"
     ]
    },
    {
     "name": "stderr",
     "output_type": "stream",
     "text": [
      "\n",
      "100%|██████████| 1/1 [00:02<00:00,  2.37s/it]\n",
      "\n",
      "  0%|          | 0/1 [00:00<?, ?it/s]\u001b[A"
     ]
    },
    {
     "name": "stdout",
     "output_type": "stream",
     "text": [
      "\n",
      "model: Lasso\n",
      "alpha: 0.001\n",
      "train stop: 82\n",
      "mean validation corr: -0.0018496775122673302\n",
      "mean validation sharpe: -0.06357940460058158\n"
     ]
    },
    {
     "name": "stderr",
     "output_type": "stream",
     "text": [
      "\n",
      "100%|██████████| 1/1 [00:04<00:00,  4.07s/it]\n",
      "\n",
      "  0%|          | 0/1 [00:00<?, ?it/s]\u001b[A"
     ]
    },
    {
     "name": "stdout",
     "output_type": "stream",
     "text": [
      "\n",
      "model: Lasso\n",
      "alpha: 0.001\n",
      "train stop: 83\n",
      "mean validation corr: 0.0004010167127380523\n",
      "mean validation sharpe: 0.011654206405095457\n"
     ]
    },
    {
     "name": "stderr",
     "output_type": "stream",
     "text": [
      "\n",
      "100%|██████████| 1/1 [00:04<00:00,  4.33s/it]\n",
      "\n",
      "  0%|          | 0/1 [00:00<?, ?it/s]\u001b[A"
     ]
    },
    {
     "name": "stdout",
     "output_type": "stream",
     "text": [
      "\n",
      "model: Lasso\n",
      "alpha: 0.001\n",
      "train stop: 84\n",
      "mean validation corr: 0.0010685915687569073\n",
      "mean validation sharpe: 0.02647848383469866\n"
     ]
    },
    {
     "name": "stderr",
     "output_type": "stream",
     "text": [
      "\n",
      "100%|██████████| 1/1 [00:04<00:00,  4.13s/it]\n",
      "\n",
      "  0%|          | 0/1 [00:00<?, ?it/s]\u001b[A"
     ]
    },
    {
     "name": "stdout",
     "output_type": "stream",
     "text": [
      "\n",
      "model: Lasso\n",
      "alpha: 0.001\n",
      "train stop: 85\n",
      "mean validation corr: -0.00010635047488506807\n",
      "mean validation sharpe: -0.0025420834820889904\n"
     ]
    },
    {
     "name": "stderr",
     "output_type": "stream",
     "text": [
      "\n",
      "100%|██████████| 1/1 [00:04<00:00,  4.38s/it]\n",
      "\n",
      "  0%|          | 0/1 [00:00<?, ?it/s]\u001b[A"
     ]
    },
    {
     "name": "stdout",
     "output_type": "stream",
     "text": [
      "\n",
      "model: Lasso\n",
      "alpha: 0.001\n",
      "train stop: 86\n",
      "mean validation corr: 0.0009692264920543705\n",
      "mean validation sharpe: 0.021299616834024544\n"
     ]
    },
    {
     "name": "stderr",
     "output_type": "stream",
     "text": [
      "\n",
      "100%|██████████| 1/1 [00:04<00:00,  4.48s/it]\n",
      "\n",
      "  0%|          | 0/1 [00:00<?, ?it/s]\u001b[A"
     ]
    },
    {
     "name": "stdout",
     "output_type": "stream",
     "text": [
      "\n",
      "model: Lasso\n",
      "alpha: 0.001\n",
      "train stop: 87\n",
      "mean validation corr: 0.0010554672059011358\n",
      "mean validation sharpe: 0.023680109985455697\n"
     ]
    },
    {
     "name": "stderr",
     "output_type": "stream",
     "text": [
      "\n",
      "100%|██████████| 1/1 [00:04<00:00,  4.49s/it]\n",
      "\n",
      "  0%|          | 0/1 [00:00<?, ?it/s]\u001b[A"
     ]
    },
    {
     "name": "stdout",
     "output_type": "stream",
     "text": [
      "\n",
      "model: Lasso\n",
      "alpha: 0.001\n",
      "train stop: 88\n",
      "mean validation corr: 0.0003377513514273361\n",
      "mean validation sharpe: 0.008330458547267442\n"
     ]
    },
    {
     "name": "stderr",
     "output_type": "stream",
     "text": [
      "\n",
      "100%|██████████| 1/1 [00:04<00:00,  4.63s/it]\n",
      "\n",
      "  0%|          | 0/1 [00:00<?, ?it/s]\u001b[A"
     ]
    },
    {
     "name": "stdout",
     "output_type": "stream",
     "text": [
      "\n",
      "model: Lasso\n",
      "alpha: 0.001\n",
      "train stop: 89\n",
      "mean validation corr: 0.0013508868427257823\n",
      "mean validation sharpe: 0.0352369122283591\n"
     ]
    },
    {
     "name": "stderr",
     "output_type": "stream",
     "text": [
      "\n",
      "100%|██████████| 1/1 [00:04<00:00,  4.69s/it]\n",
      "\n",
      "  0%|          | 0/1 [00:00<?, ?it/s]\u001b[A"
     ]
    },
    {
     "name": "stdout",
     "output_type": "stream",
     "text": [
      "\n",
      "model: Lasso\n",
      "alpha: 0.001\n",
      "train stop: 90\n",
      "mean validation corr: 0.0012190121617112549\n",
      "mean validation sharpe: 0.028274299289189474\n"
     ]
    },
    {
     "name": "stderr",
     "output_type": "stream",
     "text": [
      "\n",
      "100%|██████████| 1/1 [00:04<00:00,  4.68s/it]\n",
      "\n",
      "  0%|          | 0/1 [00:00<?, ?it/s]\u001b[A"
     ]
    },
    {
     "name": "stdout",
     "output_type": "stream",
     "text": [
      "\n",
      "model: Lasso\n",
      "alpha: 0.001\n",
      "train stop: 91\n",
      "mean validation corr: 0.0020500088846057193\n",
      "mean validation sharpe: 0.044597405663279244\n"
     ]
    },
    {
     "name": "stderr",
     "output_type": "stream",
     "text": [
      "\n",
      "100%|██████████| 1/1 [00:03<00:00,  3.19s/it]\n",
      "\n",
      "  0%|          | 0/1 [00:00<?, ?it/s]\u001b[A"
     ]
    },
    {
     "name": "stdout",
     "output_type": "stream",
     "text": [
      "\n",
      "model: Lasso\n",
      "alpha: 0.001\n",
      "train stop: 92\n",
      "mean validation corr: 0.0025557195595596496\n",
      "mean validation sharpe: 0.05455182545435956\n"
     ]
    },
    {
     "name": "stderr",
     "output_type": "stream",
     "text": [
      "\n",
      "100%|██████████| 1/1 [00:02<00:00,  2.89s/it]\n",
      "\n",
      "  0%|          | 0/1 [00:00<?, ?it/s]\u001b[A"
     ]
    },
    {
     "name": "stdout",
     "output_type": "stream",
     "text": [
      "\n",
      "model: Lasso\n",
      "alpha: 0.001\n",
      "train stop: 93\n",
      "mean validation corr: 0.0025557195595596496\n",
      "mean validation sharpe: 0.05455182545435956\n"
     ]
    },
    {
     "name": "stderr",
     "output_type": "stream",
     "text": [
      "\n",
      "100%|██████████| 1/1 [00:02<00:00,  2.84s/it]\n",
      "\n",
      "  0%|          | 0/1 [00:00<?, ?it/s]\u001b[A"
     ]
    },
    {
     "name": "stdout",
     "output_type": "stream",
     "text": [
      "\n",
      "model: Lasso\n",
      "alpha: 0.001\n",
      "train stop: 94\n",
      "mean validation corr: 0.0021639110980922333\n",
      "mean validation sharpe: 0.047796742103675606\n"
     ]
    },
    {
     "name": "stderr",
     "output_type": "stream",
     "text": [
      "\n",
      "100%|██████████| 1/1 [00:02<00:00,  2.83s/it]\n",
      "\n",
      "  0%|          | 0/1 [00:00<?, ?it/s]\u001b[A"
     ]
    },
    {
     "name": "stdout",
     "output_type": "stream",
     "text": [
      "\n",
      "model: Lasso\n",
      "alpha: 0.001\n",
      "train stop: 95\n",
      "mean validation corr: 0.0025557195595596496\n",
      "mean validation sharpe: 0.05455182545435956\n"
     ]
    },
    {
     "name": "stderr",
     "output_type": "stream",
     "text": [
      "\n",
      "100%|██████████| 1/1 [00:02<00:00,  2.82s/it]\n",
      "\n",
      "  0%|          | 0/1 [00:00<?, ?it/s]\u001b[A"
     ]
    },
    {
     "name": "stdout",
     "output_type": "stream",
     "text": [
      "\n",
      "model: Lasso\n",
      "alpha: 0.001\n",
      "train stop: 96\n",
      "mean validation corr: 0.003182097228398772\n",
      "mean validation sharpe: 0.06313566381385134\n"
     ]
    },
    {
     "name": "stderr",
     "output_type": "stream",
     "text": [
      "\n",
      "100%|██████████| 1/1 [00:02<00:00,  2.79s/it]\n",
      "\n",
      "  0%|          | 0/1 [00:00<?, ?it/s]\u001b[A"
     ]
    },
    {
     "name": "stdout",
     "output_type": "stream",
     "text": [
      "\n",
      "model: Lasso\n",
      "alpha: 0.001\n",
      "train stop: 97\n",
      "mean validation corr: 0.0025557195595596496\n",
      "mean validation sharpe: 0.05455182545435956\n"
     ]
    },
    {
     "name": "stderr",
     "output_type": "stream",
     "text": [
      "\n",
      "100%|██████████| 1/1 [00:02<00:00,  2.83s/it]\n",
      "\n",
      "  0%|          | 0/1 [00:00<?, ?it/s]\u001b[A"
     ]
    },
    {
     "name": "stdout",
     "output_type": "stream",
     "text": [
      "\n",
      "model: Lasso\n",
      "alpha: 0.001\n",
      "train stop: 98\n",
      "mean validation corr: 0.003182097228398772\n",
      "mean validation sharpe: 0.06313566381385134\n"
     ]
    },
    {
     "name": "stderr",
     "output_type": "stream",
     "text": [
      "\n",
      "100%|██████████| 1/1 [00:02<00:00,  2.93s/it]\n",
      "\n",
      "  0%|          | 0/1 [00:00<?, ?it/s]\u001b[A"
     ]
    },
    {
     "name": "stdout",
     "output_type": "stream",
     "text": [
      "\n",
      "model: Lasso\n",
      "alpha: 0.001\n",
      "train stop: 99\n",
      "mean validation corr: 0.0034034958358508715\n",
      "mean validation sharpe: 0.06776080394955475\n"
     ]
    },
    {
     "name": "stderr",
     "output_type": "stream",
     "text": [
      "\n",
      "100%|██████████| 1/1 [00:02<00:00,  2.79s/it]\n",
      "\n",
      "  0%|          | 0/1 [00:00<?, ?it/s]\u001b[A"
     ]
    },
    {
     "name": "stdout",
     "output_type": "stream",
     "text": [
      "\n",
      "model: Lasso\n",
      "alpha: 0.001\n",
      "train stop: 100\n",
      "mean validation corr: 0.003182097228398772\n",
      "mean validation sharpe: 0.06313566381385134\n"
     ]
    },
    {
     "name": "stderr",
     "output_type": "stream",
     "text": [
      "\n",
      "100%|██████████| 1/1 [00:02<00:00,  2.83s/it]\n",
      "\n",
      "  0%|          | 0/1 [00:00<?, ?it/s]\u001b[A"
     ]
    },
    {
     "name": "stdout",
     "output_type": "stream",
     "text": [
      "\n",
      "model: Lasso\n",
      "alpha: 0.001\n",
      "train stop: 101\n",
      "mean validation corr: 0.003182097228398772\n",
      "mean validation sharpe: 0.06313566381385134\n"
     ]
    },
    {
     "name": "stderr",
     "output_type": "stream",
     "text": [
      "\n",
      "100%|██████████| 1/1 [00:02<00:00,  2.76s/it]\n",
      "\n",
      "  0%|          | 0/1 [00:00<?, ?it/s]\u001b[A"
     ]
    },
    {
     "name": "stdout",
     "output_type": "stream",
     "text": [
      "\n",
      "model: Lasso\n",
      "alpha: 0.001\n",
      "train stop: 102\n",
      "mean validation corr: 0.003182097228398772\n",
      "mean validation sharpe: 0.06313566381385134\n"
     ]
    },
    {
     "name": "stderr",
     "output_type": "stream",
     "text": [
      "\n",
      "100%|██████████| 1/1 [00:02<00:00,  2.71s/it]\n",
      "\n",
      "  0%|          | 0/1 [00:00<?, ?it/s]\u001b[A"
     ]
    },
    {
     "name": "stdout",
     "output_type": "stream",
     "text": [
      "\n",
      "model: Lasso\n",
      "alpha: 0.001\n",
      "train stop: 103\n",
      "mean validation corr: 0.003182097228398772\n",
      "mean validation sharpe: 0.06313566381385134\n"
     ]
    },
    {
     "name": "stderr",
     "output_type": "stream",
     "text": [
      "/usr/local/lib/python3.7/dist-packages/numpy/lib/function_base.py:2559: RuntimeWarning: invalid value encountered in true_divide\n",
      "  c /= stddev[:, None]\n",
      "/usr/local/lib/python3.7/dist-packages/numpy/lib/function_base.py:2560: RuntimeWarning: invalid value encountered in true_divide\n",
      "  c /= stddev[None, :]\n",
      "\n",
      "100%|██████████| 1/1 [00:02<00:00,  2.68s/it]\n",
      "\n",
      "  0%|          | 0/1 [00:00<?, ?it/s]\u001b[A"
     ]
    },
    {
     "name": "stdout",
     "output_type": "stream",
     "text": [
      "\n",
      "model: Lasso\n",
      "alpha: 0.001\n",
      "train stop: 104\n",
      "mean validation corr: nan\n",
      "mean validation sharpe: nan\n"
     ]
    },
    {
     "name": "stderr",
     "output_type": "stream",
     "text": [
      "\n",
      "100%|██████████| 1/1 [00:02<00:00,  2.87s/it]\n",
      "\n",
      "  0%|          | 0/1 [00:00<?, ?it/s]\u001b[A"
     ]
    },
    {
     "name": "stdout",
     "output_type": "stream",
     "text": [
      "\n",
      "model: Lasso\n",
      "alpha: 0.001\n",
      "train stop: 105\n",
      "mean validation corr: 0.003182097228398772\n",
      "mean validation sharpe: 0.06313566381385134\n"
     ]
    },
    {
     "name": "stderr",
     "output_type": "stream",
     "text": [
      "\n",
      "100%|██████████| 1/1 [00:02<00:00,  2.71s/it]\n",
      "\n",
      "  0%|          | 0/1 [00:00<?, ?it/s]\u001b[A"
     ]
    },
    {
     "name": "stdout",
     "output_type": "stream",
     "text": [
      "\n",
      "model: Lasso\n",
      "alpha: 0.001\n",
      "train stop: 106\n",
      "mean validation corr: 0.003182097228398772\n",
      "mean validation sharpe: 0.06313566381385134\n"
     ]
    },
    {
     "name": "stderr",
     "output_type": "stream",
     "text": [
      "/usr/local/lib/python3.7/dist-packages/numpy/lib/function_base.py:2559: RuntimeWarning: invalid value encountered in true_divide\n",
      "  c /= stddev[:, None]\n",
      "/usr/local/lib/python3.7/dist-packages/numpy/lib/function_base.py:2560: RuntimeWarning: invalid value encountered in true_divide\n",
      "  c /= stddev[None, :]\n",
      "\n",
      "100%|██████████| 1/1 [00:02<00:00,  2.76s/it]\n",
      "\n",
      "  0%|          | 0/1 [00:00<?, ?it/s]\u001b[A"
     ]
    },
    {
     "name": "stdout",
     "output_type": "stream",
     "text": [
      "\n",
      "model: Lasso\n",
      "alpha: 0.001\n",
      "train stop: 107\n",
      "mean validation corr: nan\n",
      "mean validation sharpe: nan\n"
     ]
    },
    {
     "name": "stderr",
     "output_type": "stream",
     "text": [
      "\n",
      "100%|██████████| 1/1 [00:02<00:00,  2.82s/it]\n",
      "\n",
      "  0%|          | 0/1 [00:00<?, ?it/s]\u001b[A"
     ]
    },
    {
     "name": "stdout",
     "output_type": "stream",
     "text": [
      "\n",
      "model: Lasso\n",
      "alpha: 0.001\n",
      "train stop: 108\n",
      "mean validation corr: 0.003182097228398772\n",
      "mean validation sharpe: 0.06313566381385134\n"
     ]
    },
    {
     "name": "stderr",
     "output_type": "stream",
     "text": [
      "\n",
      "100%|██████████| 1/1 [00:02<00:00,  2.91s/it]\n",
      "\n",
      "  0%|          | 0/1 [00:00<?, ?it/s]\u001b[A"
     ]
    },
    {
     "name": "stdout",
     "output_type": "stream",
     "text": [
      "\n",
      "model: Lasso\n",
      "alpha: 0.001\n",
      "train stop: 109\n",
      "mean validation corr: 0.003182097228398772\n",
      "mean validation sharpe: 0.06313566381385134\n"
     ]
    },
    {
     "name": "stderr",
     "output_type": "stream",
     "text": [
      "\n",
      "100%|██████████| 1/1 [00:02<00:00,  2.83s/it]\n",
      "\n",
      "  0%|          | 0/1 [00:00<?, ?it/s]\u001b[A"
     ]
    },
    {
     "name": "stdout",
     "output_type": "stream",
     "text": [
      "\n",
      "model: Lasso\n",
      "alpha: 0.001\n",
      "train stop: 110\n",
      "mean validation corr: 0.003182097228398772\n",
      "mean validation sharpe: 0.06313566381385134\n"
     ]
    },
    {
     "name": "stderr",
     "output_type": "stream",
     "text": [
      "/usr/local/lib/python3.7/dist-packages/numpy/lib/function_base.py:2559: RuntimeWarning: invalid value encountered in true_divide\n",
      "  c /= stddev[:, None]\n",
      "/usr/local/lib/python3.7/dist-packages/numpy/lib/function_base.py:2560: RuntimeWarning: invalid value encountered in true_divide\n",
      "  c /= stddev[None, :]\n",
      "\n",
      "100%|██████████| 1/1 [00:02<00:00,  2.81s/it]\n",
      "\n",
      "  0%|          | 0/1 [00:00<?, ?it/s]\u001b[A"
     ]
    },
    {
     "name": "stdout",
     "output_type": "stream",
     "text": [
      "\n",
      "model: Lasso\n",
      "alpha: 0.001\n",
      "train stop: 111\n",
      "mean validation corr: nan\n",
      "mean validation sharpe: nan\n"
     ]
    },
    {
     "name": "stderr",
     "output_type": "stream",
     "text": [
      "/usr/local/lib/python3.7/dist-packages/numpy/lib/function_base.py:2559: RuntimeWarning: invalid value encountered in true_divide\n",
      "  c /= stddev[:, None]\n",
      "/usr/local/lib/python3.7/dist-packages/numpy/lib/function_base.py:2560: RuntimeWarning: invalid value encountered in true_divide\n",
      "  c /= stddev[None, :]\n",
      "\n",
      "100%|██████████| 1/1 [00:02<00:00,  2.84s/it]\n",
      "\n",
      "  0%|          | 0/1 [00:00<?, ?it/s]\u001b[A"
     ]
    },
    {
     "name": "stdout",
     "output_type": "stream",
     "text": [
      "\n",
      "model: Lasso\n",
      "alpha: 0.001\n",
      "train stop: 112\n",
      "mean validation corr: nan\n",
      "mean validation sharpe: nan\n"
     ]
    },
    {
     "name": "stderr",
     "output_type": "stream",
     "text": [
      "/usr/local/lib/python3.7/dist-packages/numpy/lib/function_base.py:2559: RuntimeWarning: invalid value encountered in true_divide\n",
      "  c /= stddev[:, None]\n",
      "/usr/local/lib/python3.7/dist-packages/numpy/lib/function_base.py:2560: RuntimeWarning: invalid value encountered in true_divide\n",
      "  c /= stddev[None, :]\n",
      "\n",
      "100%|██████████| 1/1 [00:02<00:00,  2.80s/it]\n",
      "\n",
      "  0%|          | 0/1 [00:00<?, ?it/s]\u001b[A"
     ]
    },
    {
     "name": "stdout",
     "output_type": "stream",
     "text": [
      "\n",
      "model: Lasso\n",
      "alpha: 0.001\n",
      "train stop: 113\n",
      "mean validation corr: nan\n",
      "mean validation sharpe: nan\n"
     ]
    },
    {
     "name": "stderr",
     "output_type": "stream",
     "text": [
      "/usr/local/lib/python3.7/dist-packages/numpy/lib/function_base.py:2559: RuntimeWarning: invalid value encountered in true_divide\n",
      "  c /= stddev[:, None]\n",
      "/usr/local/lib/python3.7/dist-packages/numpy/lib/function_base.py:2560: RuntimeWarning: invalid value encountered in true_divide\n",
      "  c /= stddev[None, :]\n",
      "\n",
      "100%|██████████| 1/1 [00:02<00:00,  2.86s/it]\n",
      "\n",
      "  0%|          | 0/1 [00:00<?, ?it/s]\u001b[A"
     ]
    },
    {
     "name": "stdout",
     "output_type": "stream",
     "text": [
      "\n",
      "model: Lasso\n",
      "alpha: 0.001\n",
      "train stop: 114\n",
      "mean validation corr: nan\n",
      "mean validation sharpe: nan\n"
     ]
    },
    {
     "name": "stderr",
     "output_type": "stream",
     "text": [
      "\n",
      "100%|██████████| 1/1 [00:02<00:00,  2.98s/it]\n",
      "\n",
      "  0%|          | 0/1 [00:00<?, ?it/s]\u001b[A"
     ]
    },
    {
     "name": "stdout",
     "output_type": "stream",
     "text": [
      "\n",
      "model: Lasso\n",
      "alpha: 0.001\n",
      "train stop: 115\n",
      "mean validation corr: 0.003182097228398772\n",
      "mean validation sharpe: 0.06313566381385134\n"
     ]
    },
    {
     "name": "stderr",
     "output_type": "stream",
     "text": [
      "/usr/local/lib/python3.7/dist-packages/numpy/lib/function_base.py:2559: RuntimeWarning: invalid value encountered in true_divide\n",
      "  c /= stddev[:, None]\n",
      "/usr/local/lib/python3.7/dist-packages/numpy/lib/function_base.py:2560: RuntimeWarning: invalid value encountered in true_divide\n",
      "  c /= stddev[None, :]\n",
      "\n",
      "100%|██████████| 1/1 [00:02<00:00,  2.94s/it]\n",
      "\n",
      "  0%|          | 0/1 [00:00<?, ?it/s]\u001b[A"
     ]
    },
    {
     "name": "stdout",
     "output_type": "stream",
     "text": [
      "\n",
      "model: Lasso\n",
      "alpha: 0.001\n",
      "train stop: 116\n",
      "mean validation corr: nan\n",
      "mean validation sharpe: nan\n"
     ]
    },
    {
     "name": "stderr",
     "output_type": "stream",
     "text": [
      "/usr/local/lib/python3.7/dist-packages/numpy/lib/function_base.py:2559: RuntimeWarning: invalid value encountered in true_divide\n",
      "  c /= stddev[:, None]\n",
      "/usr/local/lib/python3.7/dist-packages/numpy/lib/function_base.py:2560: RuntimeWarning: invalid value encountered in true_divide\n",
      "  c /= stddev[None, :]\n",
      "\n",
      "100%|██████████| 1/1 [00:02<00:00,  2.93s/it]\n",
      "\n",
      "  0%|          | 0/1 [00:00<?, ?it/s]\u001b[A"
     ]
    },
    {
     "name": "stdout",
     "output_type": "stream",
     "text": [
      "\n",
      "model: Lasso\n",
      "alpha: 0.001\n",
      "train stop: 117\n",
      "mean validation corr: nan\n",
      "mean validation sharpe: nan\n"
     ]
    },
    {
     "name": "stderr",
     "output_type": "stream",
     "text": [
      "/usr/local/lib/python3.7/dist-packages/numpy/lib/function_base.py:2559: RuntimeWarning: invalid value encountered in true_divide\n",
      "  c /= stddev[:, None]\n",
      "/usr/local/lib/python3.7/dist-packages/numpy/lib/function_base.py:2560: RuntimeWarning: invalid value encountered in true_divide\n",
      "  c /= stddev[None, :]\n",
      "\n",
      "100%|██████████| 1/1 [00:02<00:00,  2.95s/it]\n",
      "\n",
      "  0%|          | 0/1 [00:00<?, ?it/s]\u001b[A"
     ]
    },
    {
     "name": "stdout",
     "output_type": "stream",
     "text": [
      "\n",
      "model: Lasso\n",
      "alpha: 0.001\n",
      "train stop: 118\n",
      "mean validation corr: nan\n",
      "mean validation sharpe: nan\n"
     ]
    },
    {
     "name": "stderr",
     "output_type": "stream",
     "text": [
      "/usr/local/lib/python3.7/dist-packages/numpy/lib/function_base.py:2559: RuntimeWarning: invalid value encountered in true_divide\n",
      "  c /= stddev[:, None]\n",
      "/usr/local/lib/python3.7/dist-packages/numpy/lib/function_base.py:2560: RuntimeWarning: invalid value encountered in true_divide\n",
      "  c /= stddev[None, :]\n",
      "\n",
      "100%|██████████| 1/1 [00:02<00:00,  2.93s/it]\n",
      "\n",
      "  0%|          | 0/1 [00:00<?, ?it/s]\u001b[A"
     ]
    },
    {
     "name": "stdout",
     "output_type": "stream",
     "text": [
      "\n",
      "model: Lasso\n",
      "alpha: 0.001\n",
      "train stop: 119\n",
      "mean validation corr: nan\n",
      "mean validation sharpe: nan\n"
     ]
    },
    {
     "name": "stderr",
     "output_type": "stream",
     "text": [
      "/usr/local/lib/python3.7/dist-packages/numpy/lib/function_base.py:2559: RuntimeWarning: invalid value encountered in true_divide\n",
      "  c /= stddev[:, None]\n",
      "/usr/local/lib/python3.7/dist-packages/numpy/lib/function_base.py:2560: RuntimeWarning: invalid value encountered in true_divide\n",
      "  c /= stddev[None, :]\n",
      "\n",
      "100%|██████████| 1/1 [00:02<00:00,  3.00s/it]\n",
      "\n",
      "  0%|          | 0/1 [00:00<?, ?it/s]\u001b[A"
     ]
    },
    {
     "name": "stdout",
     "output_type": "stream",
     "text": [
      "\n",
      "model: Lasso\n",
      "alpha: 0.001\n",
      "train stop: 120\n",
      "mean validation corr: nan\n",
      "mean validation sharpe: nan\n"
     ]
    },
    {
     "name": "stderr",
     "output_type": "stream",
     "text": [
      "/usr/local/lib/python3.7/dist-packages/numpy/lib/function_base.py:2559: RuntimeWarning: invalid value encountered in true_divide\n",
      "  c /= stddev[:, None]\n",
      "/usr/local/lib/python3.7/dist-packages/numpy/lib/function_base.py:2560: RuntimeWarning: invalid value encountered in true_divide\n",
      "  c /= stddev[None, :]\n",
      "\n",
      "100%|██████████| 1/1 [00:02<00:00,  2.98s/it]\n",
      "\n",
      "  0%|          | 0/1 [00:00<?, ?it/s]\u001b[A"
     ]
    },
    {
     "name": "stdout",
     "output_type": "stream",
     "text": [
      "\n",
      "model: Lasso\n",
      "alpha: 0.001\n",
      "train stop: 121\n",
      "mean validation corr: nan\n",
      "mean validation sharpe: nan\n"
     ]
    },
    {
     "name": "stderr",
     "output_type": "stream",
     "text": [
      "/usr/local/lib/python3.7/dist-packages/numpy/lib/function_base.py:2559: RuntimeWarning: invalid value encountered in true_divide\n",
      "  c /= stddev[:, None]\n",
      "/usr/local/lib/python3.7/dist-packages/numpy/lib/function_base.py:2560: RuntimeWarning: invalid value encountered in true_divide\n",
      "  c /= stddev[None, :]\n",
      "\n",
      "100%|██████████| 1/1 [00:02<00:00,  2.98s/it]\n",
      "\n",
      "  0%|          | 0/1 [00:00<?, ?it/s]\u001b[A"
     ]
    },
    {
     "name": "stdout",
     "output_type": "stream",
     "text": [
      "\n",
      "model: Lasso\n",
      "alpha: 0.001\n",
      "train stop: 122\n",
      "mean validation corr: nan\n",
      "mean validation sharpe: nan\n"
     ]
    },
    {
     "name": "stderr",
     "output_type": "stream",
     "text": [
      "/usr/local/lib/python3.7/dist-packages/numpy/lib/function_base.py:2559: RuntimeWarning: invalid value encountered in true_divide\n",
      "  c /= stddev[:, None]\n",
      "/usr/local/lib/python3.7/dist-packages/numpy/lib/function_base.py:2560: RuntimeWarning: invalid value encountered in true_divide\n",
      "  c /= stddev[None, :]\n",
      "\n",
      "100%|██████████| 1/1 [00:02<00:00,  2.97s/it]\n",
      "\n",
      "  0%|          | 0/1 [00:00<?, ?it/s]\u001b[A"
     ]
    },
    {
     "name": "stdout",
     "output_type": "stream",
     "text": [
      "\n",
      "model: Lasso\n",
      "alpha: 0.001\n",
      "train stop: 123\n",
      "mean validation corr: nan\n",
      "mean validation sharpe: nan\n"
     ]
    },
    {
     "name": "stderr",
     "output_type": "stream",
     "text": [
      "/usr/local/lib/python3.7/dist-packages/numpy/lib/function_base.py:2559: RuntimeWarning: invalid value encountered in true_divide\n",
      "  c /= stddev[:, None]\n",
      "/usr/local/lib/python3.7/dist-packages/numpy/lib/function_base.py:2560: RuntimeWarning: invalid value encountered in true_divide\n",
      "  c /= stddev[None, :]\n",
      "\n",
      "100%|██████████| 1/1 [00:03<00:00,  3.03s/it]\n",
      "\n",
      "  0%|          | 0/1 [00:00<?, ?it/s]\u001b[A"
     ]
    },
    {
     "name": "stdout",
     "output_type": "stream",
     "text": [
      "\n",
      "model: Lasso\n",
      "alpha: 0.001\n",
      "train stop: 124\n",
      "mean validation corr: nan\n",
      "mean validation sharpe: nan\n"
     ]
    },
    {
     "name": "stderr",
     "output_type": "stream",
     "text": [
      "/usr/local/lib/python3.7/dist-packages/numpy/lib/function_base.py:2559: RuntimeWarning: invalid value encountered in true_divide\n",
      "  c /= stddev[:, None]\n",
      "/usr/local/lib/python3.7/dist-packages/numpy/lib/function_base.py:2560: RuntimeWarning: invalid value encountered in true_divide\n",
      "  c /= stddev[None, :]\n",
      "\n",
      "100%|██████████| 1/1 [00:03<00:00,  3.07s/it]\n",
      "\n",
      "  0%|          | 0/1 [00:00<?, ?it/s]\u001b[A"
     ]
    },
    {
     "name": "stdout",
     "output_type": "stream",
     "text": [
      "\n",
      "model: Lasso\n",
      "alpha: 0.001\n",
      "train stop: 125\n",
      "mean validation corr: nan\n",
      "mean validation sharpe: nan\n"
     ]
    },
    {
     "name": "stderr",
     "output_type": "stream",
     "text": [
      "/usr/local/lib/python3.7/dist-packages/numpy/lib/function_base.py:2559: RuntimeWarning: invalid value encountered in true_divide\n",
      "  c /= stddev[:, None]\n",
      "/usr/local/lib/python3.7/dist-packages/numpy/lib/function_base.py:2560: RuntimeWarning: invalid value encountered in true_divide\n",
      "  c /= stddev[None, :]\n",
      "\n",
      "100%|██████████| 1/1 [00:03<00:00,  3.13s/it]\n",
      "\n",
      "  0%|          | 0/1 [00:00<?, ?it/s]\u001b[A"
     ]
    },
    {
     "name": "stdout",
     "output_type": "stream",
     "text": [
      "\n",
      "model: Lasso\n",
      "alpha: 0.001\n",
      "train stop: 126\n",
      "mean validation corr: nan\n",
      "mean validation sharpe: nan\n"
     ]
    },
    {
     "name": "stderr",
     "output_type": "stream",
     "text": [
      "/usr/local/lib/python3.7/dist-packages/numpy/lib/function_base.py:2559: RuntimeWarning: invalid value encountered in true_divide\n",
      "  c /= stddev[:, None]\n",
      "/usr/local/lib/python3.7/dist-packages/numpy/lib/function_base.py:2560: RuntimeWarning: invalid value encountered in true_divide\n",
      "  c /= stddev[None, :]\n",
      "\n",
      "100%|██████████| 1/1 [00:03<00:00,  3.11s/it]\n",
      "\n",
      "  0%|          | 0/1 [00:00<?, ?it/s]\u001b[A"
     ]
    },
    {
     "name": "stdout",
     "output_type": "stream",
     "text": [
      "\n",
      "model: Lasso\n",
      "alpha: 0.001\n",
      "train stop: 127\n",
      "mean validation corr: nan\n",
      "mean validation sharpe: nan\n"
     ]
    },
    {
     "name": "stderr",
     "output_type": "stream",
     "text": [
      "/usr/local/lib/python3.7/dist-packages/numpy/lib/function_base.py:2559: RuntimeWarning: invalid value encountered in true_divide\n",
      "  c /= stddev[:, None]\n",
      "/usr/local/lib/python3.7/dist-packages/numpy/lib/function_base.py:2560: RuntimeWarning: invalid value encountered in true_divide\n",
      "  c /= stddev[None, :]\n",
      "\n",
      "100%|██████████| 1/1 [00:03<00:00,  3.16s/it]\n",
      "\n",
      "  0%|          | 0/1 [00:00<?, ?it/s]\u001b[A"
     ]
    },
    {
     "name": "stdout",
     "output_type": "stream",
     "text": [
      "\n",
      "model: Lasso\n",
      "alpha: 0.001\n",
      "train stop: 128\n",
      "mean validation corr: nan\n",
      "mean validation sharpe: nan\n"
     ]
    },
    {
     "name": "stderr",
     "output_type": "stream",
     "text": [
      "/usr/local/lib/python3.7/dist-packages/numpy/lib/function_base.py:2559: RuntimeWarning: invalid value encountered in true_divide\n",
      "  c /= stddev[:, None]\n",
      "/usr/local/lib/python3.7/dist-packages/numpy/lib/function_base.py:2560: RuntimeWarning: invalid value encountered in true_divide\n",
      "  c /= stddev[None, :]\n",
      "\n",
      "100%|██████████| 1/1 [00:03<00:00,  3.13s/it]\n",
      "\n",
      "  0%|          | 0/1 [00:00<?, ?it/s]\u001b[A"
     ]
    },
    {
     "name": "stdout",
     "output_type": "stream",
     "text": [
      "\n",
      "model: Lasso\n",
      "alpha: 0.001\n",
      "train stop: 129\n",
      "mean validation corr: nan\n",
      "mean validation sharpe: nan\n"
     ]
    },
    {
     "name": "stderr",
     "output_type": "stream",
     "text": [
      "/usr/local/lib/python3.7/dist-packages/numpy/lib/function_base.py:2559: RuntimeWarning: invalid value encountered in true_divide\n",
      "  c /= stddev[:, None]\n",
      "/usr/local/lib/python3.7/dist-packages/numpy/lib/function_base.py:2560: RuntimeWarning: invalid value encountered in true_divide\n",
      "  c /= stddev[None, :]\n",
      "\n",
      "100%|██████████| 1/1 [00:03<00:00,  3.09s/it]\n",
      "\n",
      "  0%|          | 0/1 [00:00<?, ?it/s]\u001b[A"
     ]
    },
    {
     "name": "stdout",
     "output_type": "stream",
     "text": [
      "\n",
      "model: Lasso\n",
      "alpha: 0.001\n",
      "train stop: 130\n",
      "mean validation corr: nan\n",
      "mean validation sharpe: nan\n"
     ]
    },
    {
     "name": "stderr",
     "output_type": "stream",
     "text": [
      "/usr/local/lib/python3.7/dist-packages/numpy/lib/function_base.py:2559: RuntimeWarning: invalid value encountered in true_divide\n",
      "  c /= stddev[:, None]\n",
      "/usr/local/lib/python3.7/dist-packages/numpy/lib/function_base.py:2560: RuntimeWarning: invalid value encountered in true_divide\n",
      "  c /= stddev[None, :]\n",
      "\n",
      "100%|██████████| 1/1 [00:03<00:00,  3.15s/it]"
     ]
    },
    {
     "name": "stdout",
     "output_type": "stream",
     "text": [
      "\n",
      "model: Lasso\n",
      "alpha: 0.001\n",
      "train stop: 131\n",
      "mean validation corr: nan\n",
      "mean validation sharpe: nan\n"
     ]
    },
    {
     "name": "stderr",
     "output_type": "stream",
     "text": [
      "\n"
     ]
    }
   ],
   "source": [
    "era_split = src.utils.cross_val.EraCV(eras = training_data.era)\n",
    "\n",
    "X, y, era = training_data[feature_cols], training_data.target, training_data.era\n",
    "name = 'TEST'\n",
    "logs = []\n",
    "for params in ParameterGrid(param_grid):\n",
    "    corrs = []\n",
    "    sharpes = []\n",
    "    cfg_update = {'MODEL': {'alpha': params['alpha'].item(),\n",
    "                           'mod': params['mod']},\n",
    "                 'RESULTS': {'mean_corr': None,\n",
    "                            'mean_sharpe': None},\n",
    "                 'CV': {'TRAIN_STOP':params['train_stop'].item()}}\n",
    "    cfg.update_config(cfg_update)\n",
    "    mod = getattr(sklearn.linear_model, cfg.MODEL.mod)(alpha=cfg.MODEL.alpha)   \n",
    "\n",
    "    for valid_era in tqdm(range(208,209)):\n",
    "        train, test = era_split.get_splits(valid_start = valid_era,\n",
    "                                           valid_n_eras = 4,\n",
    "                                           train_start = cfg.CV.TRAIN_START,\n",
    "                                           train_stop = cfg.CV.TRAIN_STOP)\n",
    "        mod.fit(X.iloc[train], y.iloc[train])\n",
    "        val_preds = mod.predict(X.iloc[test])\n",
    "        eval_df = pd.DataFrame({'prediction':val_preds,\n",
    "                            'target':y.iloc[test],\n",
    "                            'era':era.iloc[test]}).reset_index()\n",
    "        corrs.append(src.utils.metrics.val_corr(eval_df))\n",
    "        sharpes.append(src.utils.metrics.sharpe(eval_df))\n",
    "    print(f'\\nmodel: {mod.__class__.__name__}')\n",
    "    if mod.__class__.__name__!=\"LinearRegression\":\n",
    "        print(f'alpha: {mod.alpha}')\n",
    "    if mod.__class__.__name__==\"ElasticNet\":\n",
    "        print(f'L1 Ratio: {mod.l1_ratio}')\n",
    "    print(f'train stop: {cfg.CV.TRAIN_STOP}')\n",
    "    print(f'mean validation corr: {np.array(corrs).mean()}')\n",
    "    print(f'mean validation sharpe: {np.array(sharpes).mean()}')\n",
    "    results = {'RESULTS': {'mean_corr': np.array(corrs).mean().item(),\n",
    "                          'mean_sharpe': np.array(sharpes).mean().item()}\n",
    "              }\n",
    "    cfg.update_config(results)\n",
    "    logs.append(copy.deepcopy(cfg.config))"
   ]
  },
  {
   "cell_type": "markdown",
   "id": "critical-underwear",
   "metadata": {
    "id": "critical-underwear"
   },
   "source": [
    "# Parse Output Files\n",
    "This part is still experimental."
   ]
  },
  {
   "cell_type": "code",
   "execution_count": 16,
   "id": "backed-flooring",
   "metadata": {
    "id": "backed-flooring"
   },
   "outputs": [],
   "source": [
    "for dict in logs:\n",
    "    dict['CV']['TRAIN_STOP'] = dict['CV']['TRAIN_STOP'].item()\n",
    "\n",
    "\n",
    "\n",
    "ct = time.localtime()\n",
    "current_time = f'{ct[0]}_{ct[1]}_{ct[2]}_{ct[3]}{ct[4]}_{ct[5]}'\n",
    "outfile = f'logs/log_{name}_{current_time}.yaml'\n",
    "stream = open(output/outfile, 'w')\n",
    "yaml.dump_all(logs, stream)\n",
    "stream.close()\n",
    "\n",
    "X = yaml.load_all(open(output/outfile, 'r'), Loader=yaml.SafeLoader)"
   ]
  },
  {
   "cell_type": "code",
   "execution_count": 18,
   "id": "accepting-samba",
   "metadata": {
    "id": "accepting-samba"
   },
   "outputs": [],
   "source": [
    "stop_eras = []; corrs = []; sharpes = []; alphas = []\n",
    "for dict in X:\n",
    "    stop_eras.append(dict['CV']['TRAIN_STOP'])\n",
    "    alphas.append(dict['MODEL']['alpha'])\n",
    "    corrs.append(dict['RESULTS']['mean_corr'])\n",
    "    sharpes.append(dict['RESULTS']['mean_sharpe'])"
   ]
  },
  {
   "cell_type": "code",
   "execution_count": 19,
   "id": "recognized-underwear",
   "metadata": {
    "colab": {
     "base_uri": "https://localhost:8080/",
     "height": 206
    },
    "id": "recognized-underwear",
    "outputId": "b4342c55-3f83-467d-d784-d24c267041d1"
   },
   "outputs": [
    {
     "data": {
      "text/html": [
       "<div>\n",
       "<style scoped>\n",
       "    .dataframe tbody tr th:only-of-type {\n",
       "        vertical-align: middle;\n",
       "    }\n",
       "\n",
       "    .dataframe tbody tr th {\n",
       "        vertical-align: top;\n",
       "    }\n",
       "\n",
       "    .dataframe thead th {\n",
       "        text-align: right;\n",
       "    }\n",
       "</style>\n",
       "<table border=\"1\" class=\"dataframe\">\n",
       "  <thead>\n",
       "    <tr style=\"text-align: right;\">\n",
       "      <th></th>\n",
       "      <th>stop era</th>\n",
       "      <th>alpha</th>\n",
       "      <th>Mean Corr</th>\n",
       "      <th>Mean Sharpe</th>\n",
       "    </tr>\n",
       "  </thead>\n",
       "  <tbody>\n",
       "    <tr>\n",
       "      <th>0</th>\n",
       "      <td>26</td>\n",
       "      <td>0.0001</td>\n",
       "      <td>0.002149</td>\n",
       "      <td>0.053546</td>\n",
       "    </tr>\n",
       "    <tr>\n",
       "      <th>1</th>\n",
       "      <td>27</td>\n",
       "      <td>0.0001</td>\n",
       "      <td>0.000356</td>\n",
       "      <td>0.009190</td>\n",
       "    </tr>\n",
       "    <tr>\n",
       "      <th>2</th>\n",
       "      <td>28</td>\n",
       "      <td>0.0001</td>\n",
       "      <td>0.001266</td>\n",
       "      <td>0.032912</td>\n",
       "    </tr>\n",
       "    <tr>\n",
       "      <th>3</th>\n",
       "      <td>29</td>\n",
       "      <td>0.0001</td>\n",
       "      <td>0.000568</td>\n",
       "      <td>0.015160</td>\n",
       "    </tr>\n",
       "    <tr>\n",
       "      <th>4</th>\n",
       "      <td>30</td>\n",
       "      <td>0.0001</td>\n",
       "      <td>0.002426</td>\n",
       "      <td>0.059520</td>\n",
       "    </tr>\n",
       "  </tbody>\n",
       "</table>\n",
       "</div>"
      ],
      "text/plain": [
       "   stop era   alpha  Mean Corr  Mean Sharpe\n",
       "0        26  0.0001   0.002149     0.053546\n",
       "1        27  0.0001   0.000356     0.009190\n",
       "2        28  0.0001   0.001266     0.032912\n",
       "3        29  0.0001   0.000568     0.015160\n",
       "4        30  0.0001   0.002426     0.059520"
      ]
     },
     "execution_count": 19,
     "metadata": {
      "tags": []
     },
     "output_type": "execute_result"
    }
   ],
   "source": [
    "results_summary = pd.DataFrame({'stop era': stop_eras,\n",
    "                               'alpha': alphas,\n",
    "                               'Mean Corr': corrs,\n",
    "                               'Mean Sharpe': sharpes})\n",
    "results_summary.head()"
   ]
  },
  {
   "cell_type": "code",
   "execution_count": 20,
   "id": "7J8mW3ewvyh-",
   "metadata": {
    "id": "7J8mW3ewvyh-"
   },
   "outputs": [],
   "source": [
    "results_summary.to_csv(\"./output/alpha_gap_analysis.csv\")"
   ]
  },
  {
   "cell_type": "code",
   "execution_count": 21,
   "id": "prescription-matter",
   "metadata": {
    "colab": {
     "base_uri": "https://localhost:8080/",
     "height": 487
    },
    "id": "prescription-matter",
    "outputId": "d89ad301-09a5-471a-fe2d-e0835a6d9077"
   },
   "outputs": [
    {
     "data": {
      "text/html": [
       "<div>\n",
       "<style scoped>\n",
       "    .dataframe tbody tr th:only-of-type {\n",
       "        vertical-align: middle;\n",
       "    }\n",
       "\n",
       "    .dataframe tbody tr th {\n",
       "        vertical-align: top;\n",
       "    }\n",
       "\n",
       "    .dataframe thead tr th {\n",
       "        text-align: left;\n",
       "    }\n",
       "\n",
       "    .dataframe thead tr:last-of-type th {\n",
       "        text-align: right;\n",
       "    }\n",
       "</style>\n",
       "<table border=\"1\" class=\"dataframe\">\n",
       "  <thead>\n",
       "    <tr>\n",
       "      <th></th>\n",
       "      <th colspan=\"5\" halign=\"left\">Mean Corr</th>\n",
       "    </tr>\n",
       "    <tr>\n",
       "      <th>alpha</th>\n",
       "      <th>0.000100</th>\n",
       "      <th>0.000325</th>\n",
       "      <th>0.000550</th>\n",
       "      <th>0.000775</th>\n",
       "      <th>0.001000</th>\n",
       "    </tr>\n",
       "    <tr>\n",
       "      <th>stop era</th>\n",
       "      <th></th>\n",
       "      <th></th>\n",
       "      <th></th>\n",
       "      <th></th>\n",
       "      <th></th>\n",
       "    </tr>\n",
       "  </thead>\n",
       "  <tbody>\n",
       "    <tr>\n",
       "      <th>25</th>\n",
       "      <td>NaN</td>\n",
       "      <td>0.001777</td>\n",
       "      <td>0.004164</td>\n",
       "      <td>0.005313</td>\n",
       "      <td>0.004155</td>\n",
       "    </tr>\n",
       "    <tr>\n",
       "      <th>26</th>\n",
       "      <td>0.002149</td>\n",
       "      <td>0.003519</td>\n",
       "      <td>0.004531</td>\n",
       "      <td>0.003831</td>\n",
       "      <td>0.002587</td>\n",
       "    </tr>\n",
       "    <tr>\n",
       "      <th>27</th>\n",
       "      <td>0.000356</td>\n",
       "      <td>0.003156</td>\n",
       "      <td>0.003462</td>\n",
       "      <td>0.002169</td>\n",
       "      <td>0.002115</td>\n",
       "    </tr>\n",
       "    <tr>\n",
       "      <th>28</th>\n",
       "      <td>0.001266</td>\n",
       "      <td>0.003712</td>\n",
       "      <td>0.003883</td>\n",
       "      <td>0.003460</td>\n",
       "      <td>0.002050</td>\n",
       "    </tr>\n",
       "    <tr>\n",
       "      <th>29</th>\n",
       "      <td>0.000568</td>\n",
       "      <td>0.002545</td>\n",
       "      <td>0.003721</td>\n",
       "      <td>0.003883</td>\n",
       "      <td>0.002049</td>\n",
       "    </tr>\n",
       "    <tr>\n",
       "      <th>...</th>\n",
       "      <td>...</td>\n",
       "      <td>...</td>\n",
       "      <td>...</td>\n",
       "      <td>...</td>\n",
       "      <td>...</td>\n",
       "    </tr>\n",
       "    <tr>\n",
       "      <th>127</th>\n",
       "      <td>0.004743</td>\n",
       "      <td>0.006147</td>\n",
       "      <td>0.004725</td>\n",
       "      <td>0.001571</td>\n",
       "      <td>NaN</td>\n",
       "    </tr>\n",
       "    <tr>\n",
       "      <th>128</th>\n",
       "      <td>0.005053</td>\n",
       "      <td>0.006002</td>\n",
       "      <td>0.004821</td>\n",
       "      <td>0.001010</td>\n",
       "      <td>NaN</td>\n",
       "    </tr>\n",
       "    <tr>\n",
       "      <th>129</th>\n",
       "      <td>0.004416</td>\n",
       "      <td>0.005823</td>\n",
       "      <td>0.004158</td>\n",
       "      <td>0.000941</td>\n",
       "      <td>NaN</td>\n",
       "    </tr>\n",
       "    <tr>\n",
       "      <th>130</th>\n",
       "      <td>0.004188</td>\n",
       "      <td>0.005814</td>\n",
       "      <td>0.004156</td>\n",
       "      <td>0.000883</td>\n",
       "      <td>NaN</td>\n",
       "    </tr>\n",
       "    <tr>\n",
       "      <th>131</th>\n",
       "      <td>0.004202</td>\n",
       "      <td>0.005514</td>\n",
       "      <td>0.002778</td>\n",
       "      <td>0.000368</td>\n",
       "      <td>NaN</td>\n",
       "    </tr>\n",
       "  </tbody>\n",
       "</table>\n",
       "<p>107 rows × 5 columns</p>\n",
       "</div>"
      ],
      "text/plain": [
       "         Mean Corr                                        \n",
       "alpha     0.000100  0.000325  0.000550  0.000775  0.001000\n",
       "stop era                                                  \n",
       "25             NaN  0.001777  0.004164  0.005313  0.004155\n",
       "26        0.002149  0.003519  0.004531  0.003831  0.002587\n",
       "27        0.000356  0.003156  0.003462  0.002169  0.002115\n",
       "28        0.001266  0.003712  0.003883  0.003460  0.002050\n",
       "29        0.000568  0.002545  0.003721  0.003883  0.002049\n",
       "...            ...       ...       ...       ...       ...\n",
       "127       0.004743  0.006147  0.004725  0.001571       NaN\n",
       "128       0.005053  0.006002  0.004821  0.001010       NaN\n",
       "129       0.004416  0.005823  0.004158  0.000941       NaN\n",
       "130       0.004188  0.005814  0.004156  0.000883       NaN\n",
       "131       0.004202  0.005514  0.002778  0.000368       NaN\n",
       "\n",
       "[107 rows x 5 columns]"
      ]
     },
     "execution_count": 21,
     "metadata": {
      "tags": []
     },
     "output_type": "execute_result"
    }
   ],
   "source": [
    "pd.pivot_table(results_summary, values = ['Mean Corr'],\n",
    "               index = ['stop era'], columns = ['alpha'])"
   ]
  },
  {
   "cell_type": "code",
   "execution_count": 38,
   "id": "orange-match",
   "metadata": {
    "colab": {
     "base_uri": "https://localhost:8080/",
     "height": 388
    },
    "id": "orange-match",
    "outputId": "3bd7b324-6d29-4d01-e81b-8e38c04133ef"
   },
   "outputs": [
    {
     "data": {
      "image/png": "[encoded data removed]",
      "text/plain": [
       "<Figure size 576x432 with 1 Axes>"
      ]
     },
     "metadata": {
      "needs_background": "light",
      "tags": []
     },
     "output_type": "display_data"
    }
   ],
   "source": [
    "plt_rslt = results_summary\n",
    "plt_rslt.groupby(['alpha'])\n",
    "#plt_rslt.unstack(level = 'alpha')\n",
    "\n",
    "import matplotlib.pyplot as plt\n",
    "\n",
    "fig, ax = plt.subplots(figsize=(8,6))\n",
    "bp = plt_rslt.groupby('alpha').plot('stop era', 'Mean Corr', ax=ax)\n"
   ]
  },
  {
   "cell_type": "code",
   "execution_count": 41,
   "id": "-JFUsjHbxnP6",
   "metadata": {
    "colab": {
     "base_uri": "https://localhost:8080/"
    },
    "id": "-JFUsjHbxnP6",
    "outputId": "086f1945-6e91-4823-a13d-c2c1dce35121"
   },
   "outputs": [
    {
     "name": "stderr",
     "output_type": "stream",
     "text": [
      "UsageError: Cell magic `%%R` not found.\n"
     ]
    }
   ],
   "source": []
  },
  {
   "cell_type": "code",
   "execution_count": null,
   "id": "sNebcfnl0PBh",
   "metadata": {
    "id": "sNebcfnl0PBh"
   },
   "outputs": [],
   "source": []
  }
 ],
 "metadata": {
  "colab": {
   "include_colab_link": true,
   "machine_shape": "hm",
   "name": "Template.ipynb",
   "provenance": [],
   "toc_visible": true
  },
  "kernelspec": {
   "display_name": "numerai_utils",
   "language": "python",
   "name": "env"
  },
  "language_info": {
   "codemirror_mode": {
    "name": "ipython",
    "version": 3
   },
   "file_extension": ".py",
   "mimetype": "text/x-python",
   "name": "python",
   "nbconvert_exporter": "python",
   "pygments_lexer": "ipython3",
   "version": "3.8.8"
  }
 },
 "nbformat": 4,
 "nbformat_minor": 5
}
